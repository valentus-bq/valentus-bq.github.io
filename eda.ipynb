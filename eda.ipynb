{
 "cells": [
  {
   "cell_type": "markdown",
   "metadata": {},
   "source": [
    "# Análisis exploratorio\n",
    "\n",
    "## Introducción\n",
    "\n",
    "holalaaa ipsum dolor sit amet, consectetur adipiscing elit. Ut imperdiet dignissim neque a tempor. Fusce in enim eget velit lobortis laoreet. Nulla sollicitudin et velit sit amet dictum. Integer lacus odio, tincidunt ut nibh quis, pulvinar maximus lorem. Sed lacinia efficitur vulputate. Sed rhoncus lacus in nulla consequat, et ornare ligula dictum. Etiam ullamcorper nisi sodales vestibulum maximus. Duis faucibus placerat dolor vitae elementum. Vestibulum eleifend nunc a imperdiet suscipit. Aenean facilisis ac purus quis congue.\n",
    "\n",
    "In hac habitasse platea dictumst. Praesent varius, dolor id venenatis condimentum, orci est accumsan arcu, ut tristique turpis tellus sit amet augue. Nulla rhoncus dictum sem et commodo. Cras nec lacus vel sapien dignissim elementum id eget metus. Sed sit amet iaculis magna, ut faucibus enim. Proin elit tellus, feugiat eget mattis ut, cursus sit amet massa. Quisque cursus lobortis odio ac egestas. Integer aliquet quis odio id vehicula. Praesent vulputate nulla urna, non finibus orci venenatis nec. Nullam eleifend id mi ut interdum. Aliquam hendrerit, metus sed sollicitudin eleifend, elit velit auctor ex, quis sodales augue lorem in dui.\n",
    "\n",
    "## Sobre los datos\n",
    "\n",
    "Suspendisse dapibus lectus in consectetur consectetur. Quisque pharetra ut elit sit amet porttitor. Nam auctor magna sed augue pharetra, eget ultricies lectus volutpat. Praesent aliquam lectus quis porttitor accumsan. Suspendisse maximus quam vitae lorem lobortis imperdiet. Donec a lectus a neque accumsan aliquet. Proin posuere velit sodales lorem interdum, nec cursus lacus consectetur. Quisque at lobortis turpis. Fusce vestibulum est vel felis aliquet aliquet. Mauris accumsan volutpat est, non finibus risus mollis id. Pellentesque auctor tortor ac eros pretium ullamcorper. Praesent a lobortis dui. Etiam ultrices laoreet magna, id ultricies lacus aliquet sit amet. Vestibulum pulvinar justo quis dolor ornare, non dictum magna varius.\n",
    "\n",
    "Integer id aliquam metus, id ullamcorper felis. Donec interdum, magna sit amet dictum suscipit, sem ex sodales sapien, ac rutrum dui orci ut arcu. Mauris mattis aliquam felis. Suspendisse cursus et quam non bibendum. Integer eget vestibulum sapien. Ut placerat, dolor sed dictum dignissim, orci lacus facilisis ex, sed semper nibh velit eget massa. Nunc et risus mollis, malesuada magna id, accumsan justo. Quisque sed ex in leo faucibus scelerisque ut consequat augue. Donec pharetra leo vel magna viverra, a fringilla est placerat. Phasellus ac ante eget felis ultricies imperdiet a molestie nulla. Sed accumsan eu magna ut tristique.\n",
    "\n",
    "## Desarrollo\n",
    "\n"
   ]
  },
  {
   "cell_type": "code",
   "execution_count": 1,
   "metadata": {},
   "outputs": [],
   "source": [
    "import pandas as pd"
   ]
  },
  {
   "cell_type": "code",
   "execution_count": 3,
   "metadata": {},
   "outputs": [],
   "source": [
    "amcc = pd.read_csv('data/cuota mercado anual.txt', delimiter = \"\\t\") # Cuota de mercado\n",
    "df2 = pd.read_csv('data/ESG consumer electronics.txt', delimiter = \"\\t\") # Hojas comp ESG\n",
    "mebitdace = pd.read_csv('data/Margen EBITDA consumer electronics.txt', delimiter = \"\\t\") # Análisis coste\n",
    "pce = pd.read_csv('data/performance consumer electronics.txt', delimiter = \"\\t\") # Mercados"
   ]
  },
  {
   "cell_type": "markdown",
   "metadata": {},
   "source": [
    "# ESG Consumer Electronics\n",
    "\n",
    "La base de datos `ESG Consumer Electronics` proporciona una visión integral de las métricas clave utilizadas para evaluar el desempeño ambiental, social y de gobernanza (ESG) de varias empresas. Los datos aquí recopilados permiten un análisis detallado de los riesgos, la gobernanza corporativa y el impacto social y ambiental de las entidades evaluadas. A continuación, se describen las variables incluidas."
   ]
  },
  {
   "cell_type": "code",
   "execution_count": 4,
   "metadata": {},
   "outputs": [
    {
     "data": {
      "text/plain": [
       "Index(['Name', 'Sustnlytcs ESG Rsk Scr', 'ISS QualSc', 'ESG Disc Score',\n",
       "       '% Indep Directors', '% Women on Bd', 'CEO Tnr AsOf FY End',\n",
       "       'Tot Comp Pd to CEO & Equiv', 'Pers Expn per Empl', '% Women Emp',\n",
       "       'LTIR', 'Engy Intens/Sls', 'Wste Per Sls', 'Wtr Intens/Sls'],\n",
       "      dtype='object')"
      ]
     },
     "execution_count": 4,
     "metadata": {},
     "output_type": "execute_result"
    }
   ],
   "source": [
    "df2.columns"
   ]
  },
  {
   "cell_type": "markdown",
   "metadata": {},
   "source": [
    "# Performance Consumer Electronics"
   ]
  }
 ],
 "metadata": {
  "kernelspec": {
   "display_name": "Python 3",
   "language": "python",
   "name": "python3"
  },
  "language_info": {
   "codemirror_mode": {
    "name": "ipython",
    "version": 3
   },
   "file_extension": ".py",
   "mimetype": "text/x-python",
   "name": "python",
   "nbconvert_exporter": "python",
   "pygments_lexer": "ipython3",
   "version": "3.9.19"
  },
  "widgets": {
   "application/vnd.jupyter.widget-state+json": {
    "state": {},
    "version_major": 2,
    "version_minor": 0
   }
  }
 },
 "nbformat": 4,
 "nbformat_minor": 4
}
