{
 "cells": [
  {
   "cell_type": "markdown",
   "metadata": {},
   "source": [
    "Sobre cuota de mercado, se espera que sea anual. En el dataframe aparece como mensual. (Ajustar en sum)\n",
    "Análisis coste, se toman los datos relacionados a EBITDA margin en company level anual.\n",
    "Hojas comp en el último .\n",
    "Mercados. "
   ]
  },
  {
   "cell_type": "code",
   "execution_count": null,
   "metadata": {},
   "outputs": [],
   "source": []
  }
 ],
 "metadata": {
  "language_info": {
   "name": "python"
  }
 },
 "nbformat": 4,
 "nbformat_minor": 2
}
