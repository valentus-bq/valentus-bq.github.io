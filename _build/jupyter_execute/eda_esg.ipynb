{
 "cells": [
  {
   "cell_type": "markdown",
   "metadata": {},
   "source": [
    "# Análisis exploratorio ESG\n",
    "\n",
    "\n",
    "\n"
   ]
  },
  {
   "cell_type": "code",
   "execution_count": 300,
   "metadata": {},
   "outputs": [],
   "source": [
    "import pandas as pd\n",
    "import numpy as np\n",
    "import scipy.stats as stats\n",
    "from scipy.stats import shapiro\n",
    "from sklearn.impute import SimpleImputer\n",
    "import missingno as msno\n",
    "import matplotlib.pyplot as plt\n",
    "import seaborn as sns"
   ]
  },
  {
   "cell_type": "markdown",
   "metadata": {},
   "source": [
    "En primer lugar, importamos la base de datos de nuestro interés."
   ]
  },
  {
   "cell_type": "code",
   "execution_count": 301,
   "metadata": {},
   "outputs": [],
   "source": [
    "esg = pd.read_csv('C:/Users/valec/Downloads/Archivos planos de información requerida en bloomberg/ESG consumer electronics.txt', sep='\\t') "
   ]
  },
  {
   "cell_type": "markdown",
   "metadata": {},
   "source": [
    "ESG son los criterios que los inversores tienen en cuenta a la hora de realizar una inversión sobre una empresa. La composición de estas 3 letras hace referencia a las siglas de las palabras Environmental, Social y Governance las cuales hacen referencia a:"
   ]
  },
  {
   "cell_type": "markdown",
   "metadata": {},
   "source": [
    "* Environmental : Impacto ambiental de la empresa ya sea directa o indirectamente.\n",
    "* Social: Impacto social de la empresa.\n",
    "* Governance: Gobierno corporativo de la empresa."
   ]
  },
  {
   "cell_type": "markdown",
   "metadata": {},
   "source": [
    "Cabe resaltar que estos factores ayudan a los inversores a evaluar no solo el desempeño financiero, sino también el impacto y la sostenibilidad a largo plazo de la empresa."
   ]
  },
  {
   "cell_type": "code",
   "execution_count": 302,
   "metadata": {},
   "outputs": [
    {
     "data": {
      "text/plain": [
       "(14, 14)"
      ]
     },
     "execution_count": 302,
     "metadata": {},
     "output_type": "execute_result"
    }
   ],
   "source": [
    "esg.shape"
   ]
  },
  {
   "cell_type": "code",
   "execution_count": 303,
   "metadata": {},
   "outputs": [
    {
     "data": {
      "text/html": [
       "<div>\n",
       "<style scoped>\n",
       "    .dataframe tbody tr th:only-of-type {\n",
       "        vertical-align: middle;\n",
       "    }\n",
       "\n",
       "    .dataframe tbody tr th {\n",
       "        vertical-align: top;\n",
       "    }\n",
       "\n",
       "    .dataframe thead th {\n",
       "        text-align: right;\n",
       "    }\n",
       "</style>\n",
       "<table border=\"1\" class=\"dataframe\">\n",
       "  <thead>\n",
       "    <tr style=\"text-align: right;\">\n",
       "      <th></th>\n",
       "      <th>Name</th>\n",
       "      <th>Sustnlytcs ESG Rsk Scr</th>\n",
       "      <th>ISS QualSc</th>\n",
       "      <th>ESG Disc Score</th>\n",
       "      <th>% Indep Directors</th>\n",
       "      <th>% Women on Bd</th>\n",
       "      <th>CEO Tnr AsOf FY End</th>\n",
       "      <th>Tot Comp Pd to CEO &amp; Equiv</th>\n",
       "      <th>Pers Expn per Empl</th>\n",
       "      <th>% Women Emp</th>\n",
       "      <th>LTIR</th>\n",
       "      <th>Engy Intens/Sls</th>\n",
       "      <th>Wste Per Sls</th>\n",
       "      <th>Wtr Intens/Sls</th>\n",
       "    </tr>\n",
       "  </thead>\n",
       "  <tbody>\n",
       "    <tr>\n",
       "      <th>0</th>\n",
       "      <td>Median</td>\n",
       "      <td>12.06</td>\n",
       "      <td>4.5</td>\n",
       "      <td>41.28</td>\n",
       "      <td>54.55</td>\n",
       "      <td>16.67%</td>\n",
       "      <td>2</td>\n",
       "      <td>1.79M</td>\n",
       "      <td>20.92k</td>\n",
       "      <td>36.15%</td>\n",
       "      <td>0.15</td>\n",
       "      <td>10.8</td>\n",
       "      <td>1.58</td>\n",
       "      <td>122</td>\n",
       "    </tr>\n",
       "    <tr>\n",
       "      <th>1</th>\n",
       "      <td>Nintendo Co Ltd</td>\n",
       "      <td>15.62</td>\n",
       "      <td>4</td>\n",
       "      <td>--</td>\n",
       "      <td>46.15</td>\n",
       "      <td>30.77%</td>\n",
       "      <td>5.83</td>\n",
       "      <td>2.48M</td>\n",
       "      <td>49.29k</td>\n",
       "      <td>--</td>\n",
       "      <td>--</td>\n",
       "      <td>--</td>\n",
       "      <td>--</td>\n",
       "      <td>--</td>\n",
       "    </tr>\n",
       "    <tr>\n",
       "      <th>2</th>\n",
       "      <td>Garmin Ltd</td>\n",
       "      <td>20.99</td>\n",
       "      <td>9</td>\n",
       "      <td>--</td>\n",
       "      <td>66.67</td>\n",
       "      <td>33.33%</td>\n",
       "      <td>11</td>\n",
       "      <td>6.54M</td>\n",
       "      <td>--</td>\n",
       "      <td>--</td>\n",
       "      <td>--</td>\n",
       "      <td>--</td>\n",
       "      <td>--</td>\n",
       "      <td>--</td>\n",
       "    </tr>\n",
       "    <tr>\n",
       "      <th>3</th>\n",
       "      <td>Logitech International SA</td>\n",
       "      <td>8.51</td>\n",
       "      <td>1</td>\n",
       "      <td>--</td>\n",
       "      <td>100</td>\n",
       "      <td>40.00%</td>\n",
       "      <td>0.33</td>\n",
       "      <td>16.00M</td>\n",
       "      <td>--</td>\n",
       "      <td>38.00%</td>\n",
       "      <td>--</td>\n",
       "      <td>5.75</td>\n",
       "      <td>--</td>\n",
       "      <td>--</td>\n",
       "    </tr>\n",
       "    <tr>\n",
       "      <th>4</th>\n",
       "      <td>LG Electronics Inc</td>\n",
       "      <td>20.45</td>\n",
       "      <td>5</td>\n",
       "      <td>--</td>\n",
       "      <td>66.67</td>\n",
       "      <td>16.67%</td>\n",
       "      <td>2</td>\n",
       "      <td>1.79M</td>\n",
       "      <td>--</td>\n",
       "      <td>21.96%</td>\n",
       "      <td>0.15</td>\n",
       "      <td>28.13</td>\n",
       "      <td>2.81</td>\n",
       "      <td>116.02</td>\n",
       "    </tr>\n",
       "    <tr>\n",
       "      <th>5</th>\n",
       "      <td>Sharp Corp/Japan</td>\n",
       "      <td>20.92</td>\n",
       "      <td>4</td>\n",
       "      <td>--</td>\n",
       "      <td>66.67</td>\n",
       "      <td>11.11%</td>\n",
       "      <td>2</td>\n",
       "      <td>821.43k</td>\n",
       "      <td>20.92k</td>\n",
       "      <td>--</td>\n",
       "      <td>--</td>\n",
       "      <td>--</td>\n",
       "      <td>--</td>\n",
       "      <td>--</td>\n",
       "    </tr>\n",
       "    <tr>\n",
       "      <th>6</th>\n",
       "      <td>Nikon Corp</td>\n",
       "      <td>16.73</td>\n",
       "      <td>2</td>\n",
       "      <td>--</td>\n",
       "      <td>54.55</td>\n",
       "      <td>18.18%</td>\n",
       "      <td>1</td>\n",
       "      <td>1.05M</td>\n",
       "      <td>62.46k</td>\n",
       "      <td>37.30%</td>\n",
       "      <td>--</td>\n",
       "      <td>94.62</td>\n",
       "      <td>1.58</td>\n",
       "      <td>785.51</td>\n",
       "    </tr>\n",
       "    <tr>\n",
       "      <th>7</th>\n",
       "      <td>Hisense Visual Technology Co L</td>\n",
       "      <td>--</td>\n",
       "      <td>--</td>\n",
       "      <td>44.63</td>\n",
       "      <td>37.5</td>\n",
       "      <td>12.50%</td>\n",
       "      <td>0.92</td>\n",
       "      <td>464.83k</td>\n",
       "      <td>13.02k</td>\n",
       "      <td>42.03%</td>\n",
       "      <td>--</td>\n",
       "      <td>5.63</td>\n",
       "      <td>--</td>\n",
       "      <td>--</td>\n",
       "    </tr>\n",
       "    <tr>\n",
       "      <th>8</th>\n",
       "      <td>Casio Computer Co Ltd</td>\n",
       "      <td>20.55</td>\n",
       "      <td>6</td>\n",
       "      <td>--</td>\n",
       "      <td>45.45</td>\n",
       "      <td>9.09%</td>\n",
       "      <td>2.83</td>\n",
       "      <td>1.27M</td>\n",
       "      <td>31.53k</td>\n",
       "      <td>--</td>\n",
       "      <td>--</td>\n",
       "      <td>--</td>\n",
       "      <td>--</td>\n",
       "      <td>--</td>\n",
       "    </tr>\n",
       "    <tr>\n",
       "      <th>9</th>\n",
       "      <td>TCL Electronics Holdings Ltd</td>\n",
       "      <td>0</td>\n",
       "      <td>--</td>\n",
       "      <td>--</td>\n",
       "      <td>--</td>\n",
       "      <td>--</td>\n",
       "      <td>--</td>\n",
       "      <td>--</td>\n",
       "      <td>30.29k</td>\n",
       "      <td>--</td>\n",
       "      <td>--</td>\n",
       "      <td>--</td>\n",
       "      <td>--</td>\n",
       "      <td>--</td>\n",
       "    </tr>\n",
       "    <tr>\n",
       "      <th>10</th>\n",
       "      <td>Skyworth Group Ltd</td>\n",
       "      <td>0</td>\n",
       "      <td>--</td>\n",
       "      <td>--</td>\n",
       "      <td>37.5</td>\n",
       "      <td>12.50%</td>\n",
       "      <td>1.75</td>\n",
       "      <td>10.34M</td>\n",
       "      <td>17.71k</td>\n",
       "      <td>35.00%</td>\n",
       "      <td>--</td>\n",
       "      <td>15.85</td>\n",
       "      <td>0.25</td>\n",
       "      <td>122</td>\n",
       "    </tr>\n",
       "    <tr>\n",
       "      <th>11</th>\n",
       "      <td>Konka Group Co Ltd</td>\n",
       "      <td>0</td>\n",
       "      <td>--</td>\n",
       "      <td>--</td>\n",
       "      <td>--</td>\n",
       "      <td>--</td>\n",
       "      <td>0.75</td>\n",
       "      <td>198.99k</td>\n",
       "      <td>8.17k</td>\n",
       "      <td>--</td>\n",
       "      <td>--</td>\n",
       "      <td>--</td>\n",
       "      <td>--</td>\n",
       "      <td>--</td>\n",
       "    </tr>\n",
       "    <tr>\n",
       "      <th>12</th>\n",
       "      <td>GoPro Inc</td>\n",
       "      <td>0</td>\n",
       "      <td>8</td>\n",
       "      <td>41.28</td>\n",
       "      <td>87.5</td>\n",
       "      <td>25.00%</td>\n",
       "      <td>12.08</td>\n",
       "      <td>5.68M</td>\n",
       "      <td>--</td>\n",
       "      <td>29.40%</td>\n",
       "      <td>--</td>\n",
       "      <td>2.53</td>\n",
       "      <td>--</td>\n",
       "      <td>--</td>\n",
       "    </tr>\n",
       "    <tr>\n",
       "      <th>13</th>\n",
       "      <td>Funai Electric Co Ltd</td>\n",
       "      <td>0</td>\n",
       "      <td>--</td>\n",
       "      <td>32.52</td>\n",
       "      <td>42.86</td>\n",
       "      <td>0.00%</td>\n",
       "      <td>--</td>\n",
       "      <td>--</td>\n",
       "      <td>11.64k</td>\n",
       "      <td>--</td>\n",
       "      <td>--</td>\n",
       "      <td>--</td>\n",
       "      <td>--</td>\n",
       "      <td>--</td>\n",
       "    </tr>\n",
       "  </tbody>\n",
       "</table>\n",
       "</div>"
      ],
      "text/plain": [
       "                              Name Sustnlytcs ESG Rsk Scr ISS QualSc  \\\n",
       "0                           Median                  12.06        4.5   \n",
       "1                  Nintendo Co Ltd                  15.62          4   \n",
       "2                       Garmin Ltd                  20.99          9   \n",
       "3        Logitech International SA                   8.51          1   \n",
       "4               LG Electronics Inc                  20.45          5   \n",
       "5                 Sharp Corp/Japan                  20.92          4   \n",
       "6                       Nikon Corp                  16.73          2   \n",
       "7   Hisense Visual Technology Co L                     --         --   \n",
       "8            Casio Computer Co Ltd                  20.55          6   \n",
       "9     TCL Electronics Holdings Ltd                      0         --   \n",
       "10              Skyworth Group Ltd                      0         --   \n",
       "11              Konka Group Co Ltd                      0         --   \n",
       "12                       GoPro Inc                      0          8   \n",
       "13           Funai Electric Co Ltd                      0         --   \n",
       "\n",
       "   ESG Disc Score % Indep Directors % Women on Bd CEO Tnr AsOf FY End  \\\n",
       "0           41.28             54.55        16.67%                   2   \n",
       "1              --             46.15        30.77%                5.83   \n",
       "2              --             66.67        33.33%                  11   \n",
       "3              --               100        40.00%                0.33   \n",
       "4              --             66.67        16.67%                   2   \n",
       "5              --             66.67        11.11%                   2   \n",
       "6              --             54.55        18.18%                   1   \n",
       "7           44.63              37.5        12.50%                0.92   \n",
       "8              --             45.45         9.09%                2.83   \n",
       "9              --                --            --                  --   \n",
       "10             --              37.5        12.50%                1.75   \n",
       "11             --                --            --                0.75   \n",
       "12          41.28              87.5        25.00%               12.08   \n",
       "13          32.52             42.86         0.00%                  --   \n",
       "\n",
       "   Tot Comp Pd to CEO & Equiv Pers Expn per Empl % Women Emp  LTIR  \\\n",
       "0                       1.79M             20.92k      36.15%  0.15   \n",
       "1                       2.48M             49.29k          --    --   \n",
       "2                       6.54M                 --          --    --   \n",
       "3                      16.00M                 --      38.00%    --   \n",
       "4                       1.79M                 --      21.96%  0.15   \n",
       "5                     821.43k             20.92k          --    --   \n",
       "6                       1.05M             62.46k      37.30%    --   \n",
       "7                     464.83k             13.02k      42.03%    --   \n",
       "8                       1.27M             31.53k          --    --   \n",
       "9                          --             30.29k          --    --   \n",
       "10                     10.34M             17.71k      35.00%    --   \n",
       "11                    198.99k              8.17k          --    --   \n",
       "12                      5.68M                 --      29.40%    --   \n",
       "13                         --             11.64k          --    --   \n",
       "\n",
       "   Engy Intens/Sls Wste Per Sls Wtr Intens/Sls  \n",
       "0             10.8         1.58            122  \n",
       "1               --           --             --  \n",
       "2               --           --             --  \n",
       "3             5.75           --             --  \n",
       "4            28.13         2.81         116.02  \n",
       "5               --           --             --  \n",
       "6            94.62         1.58         785.51  \n",
       "7             5.63           --             --  \n",
       "8               --           --             --  \n",
       "9               --           --             --  \n",
       "10           15.85         0.25            122  \n",
       "11              --           --             --  \n",
       "12            2.53           --             --  \n",
       "13              --           --             --  "
      ]
     },
     "execution_count": 303,
     "metadata": {},
     "output_type": "execute_result"
    }
   ],
   "source": [
    "esg"
   ]
  },
  {
   "cell_type": "markdown",
   "metadata": {},
   "source": [
    "Reemplacemos los valores faltantes por NaN para poder hacer uso de las columnas."
   ]
  },
  {
   "cell_type": "code",
   "execution_count": 304,
   "metadata": {},
   "outputs": [],
   "source": [
    "esg.replace('--', np.nan, inplace=True)\n"
   ]
  },
  {
   "cell_type": "code",
   "execution_count": 305,
   "metadata": {},
   "outputs": [
    {
     "data": {
      "text/html": [
       "<div>\n",
       "<style scoped>\n",
       "    .dataframe tbody tr th:only-of-type {\n",
       "        vertical-align: middle;\n",
       "    }\n",
       "\n",
       "    .dataframe tbody tr th {\n",
       "        vertical-align: top;\n",
       "    }\n",
       "\n",
       "    .dataframe thead th {\n",
       "        text-align: right;\n",
       "    }\n",
       "</style>\n",
       "<table border=\"1\" class=\"dataframe\">\n",
       "  <thead>\n",
       "    <tr style=\"text-align: right;\">\n",
       "      <th></th>\n",
       "      <th>Name</th>\n",
       "      <th>Sustnlytcs ESG Rsk Scr</th>\n",
       "      <th>ISS QualSc</th>\n",
       "      <th>ESG Disc Score</th>\n",
       "      <th>% Indep Directors</th>\n",
       "      <th>% Women on Bd</th>\n",
       "      <th>CEO Tnr AsOf FY End</th>\n",
       "      <th>Tot Comp Pd to CEO &amp; Equiv</th>\n",
       "      <th>Pers Expn per Empl</th>\n",
       "      <th>% Women Emp</th>\n",
       "      <th>LTIR</th>\n",
       "      <th>Engy Intens/Sls</th>\n",
       "      <th>Wste Per Sls</th>\n",
       "      <th>Wtr Intens/Sls</th>\n",
       "    </tr>\n",
       "  </thead>\n",
       "  <tbody>\n",
       "    <tr>\n",
       "      <th>0</th>\n",
       "      <td>Median</td>\n",
       "      <td>12.06</td>\n",
       "      <td>4.5</td>\n",
       "      <td>41.28</td>\n",
       "      <td>54.55</td>\n",
       "      <td>16.67%</td>\n",
       "      <td>2</td>\n",
       "      <td>1.79M</td>\n",
       "      <td>20.92k</td>\n",
       "      <td>36.15%</td>\n",
       "      <td>0.15</td>\n",
       "      <td>10.8</td>\n",
       "      <td>1.58</td>\n",
       "      <td>122</td>\n",
       "    </tr>\n",
       "    <tr>\n",
       "      <th>1</th>\n",
       "      <td>Nintendo Co Ltd</td>\n",
       "      <td>15.62</td>\n",
       "      <td>4</td>\n",
       "      <td>NaN</td>\n",
       "      <td>46.15</td>\n",
       "      <td>30.77%</td>\n",
       "      <td>5.83</td>\n",
       "      <td>2.48M</td>\n",
       "      <td>49.29k</td>\n",
       "      <td>NaN</td>\n",
       "      <td>NaN</td>\n",
       "      <td>NaN</td>\n",
       "      <td>NaN</td>\n",
       "      <td>NaN</td>\n",
       "    </tr>\n",
       "    <tr>\n",
       "      <th>2</th>\n",
       "      <td>Garmin Ltd</td>\n",
       "      <td>20.99</td>\n",
       "      <td>9</td>\n",
       "      <td>NaN</td>\n",
       "      <td>66.67</td>\n",
       "      <td>33.33%</td>\n",
       "      <td>11</td>\n",
       "      <td>6.54M</td>\n",
       "      <td>NaN</td>\n",
       "      <td>NaN</td>\n",
       "      <td>NaN</td>\n",
       "      <td>NaN</td>\n",
       "      <td>NaN</td>\n",
       "      <td>NaN</td>\n",
       "    </tr>\n",
       "    <tr>\n",
       "      <th>3</th>\n",
       "      <td>Logitech International SA</td>\n",
       "      <td>8.51</td>\n",
       "      <td>1</td>\n",
       "      <td>NaN</td>\n",
       "      <td>100</td>\n",
       "      <td>40.00%</td>\n",
       "      <td>0.33</td>\n",
       "      <td>16.00M</td>\n",
       "      <td>NaN</td>\n",
       "      <td>38.00%</td>\n",
       "      <td>NaN</td>\n",
       "      <td>5.75</td>\n",
       "      <td>NaN</td>\n",
       "      <td>NaN</td>\n",
       "    </tr>\n",
       "    <tr>\n",
       "      <th>4</th>\n",
       "      <td>LG Electronics Inc</td>\n",
       "      <td>20.45</td>\n",
       "      <td>5</td>\n",
       "      <td>NaN</td>\n",
       "      <td>66.67</td>\n",
       "      <td>16.67%</td>\n",
       "      <td>2</td>\n",
       "      <td>1.79M</td>\n",
       "      <td>NaN</td>\n",
       "      <td>21.96%</td>\n",
       "      <td>0.15</td>\n",
       "      <td>28.13</td>\n",
       "      <td>2.81</td>\n",
       "      <td>116.02</td>\n",
       "    </tr>\n",
       "    <tr>\n",
       "      <th>5</th>\n",
       "      <td>Sharp Corp/Japan</td>\n",
       "      <td>20.92</td>\n",
       "      <td>4</td>\n",
       "      <td>NaN</td>\n",
       "      <td>66.67</td>\n",
       "      <td>11.11%</td>\n",
       "      <td>2</td>\n",
       "      <td>821.43k</td>\n",
       "      <td>20.92k</td>\n",
       "      <td>NaN</td>\n",
       "      <td>NaN</td>\n",
       "      <td>NaN</td>\n",
       "      <td>NaN</td>\n",
       "      <td>NaN</td>\n",
       "    </tr>\n",
       "    <tr>\n",
       "      <th>6</th>\n",
       "      <td>Nikon Corp</td>\n",
       "      <td>16.73</td>\n",
       "      <td>2</td>\n",
       "      <td>NaN</td>\n",
       "      <td>54.55</td>\n",
       "      <td>18.18%</td>\n",
       "      <td>1</td>\n",
       "      <td>1.05M</td>\n",
       "      <td>62.46k</td>\n",
       "      <td>37.30%</td>\n",
       "      <td>NaN</td>\n",
       "      <td>94.62</td>\n",
       "      <td>1.58</td>\n",
       "      <td>785.51</td>\n",
       "    </tr>\n",
       "    <tr>\n",
       "      <th>7</th>\n",
       "      <td>Hisense Visual Technology Co L</td>\n",
       "      <td>NaN</td>\n",
       "      <td>NaN</td>\n",
       "      <td>44.63</td>\n",
       "      <td>37.5</td>\n",
       "      <td>12.50%</td>\n",
       "      <td>0.92</td>\n",
       "      <td>464.83k</td>\n",
       "      <td>13.02k</td>\n",
       "      <td>42.03%</td>\n",
       "      <td>NaN</td>\n",
       "      <td>5.63</td>\n",
       "      <td>NaN</td>\n",
       "      <td>NaN</td>\n",
       "    </tr>\n",
       "    <tr>\n",
       "      <th>8</th>\n",
       "      <td>Casio Computer Co Ltd</td>\n",
       "      <td>20.55</td>\n",
       "      <td>6</td>\n",
       "      <td>NaN</td>\n",
       "      <td>45.45</td>\n",
       "      <td>9.09%</td>\n",
       "      <td>2.83</td>\n",
       "      <td>1.27M</td>\n",
       "      <td>31.53k</td>\n",
       "      <td>NaN</td>\n",
       "      <td>NaN</td>\n",
       "      <td>NaN</td>\n",
       "      <td>NaN</td>\n",
       "      <td>NaN</td>\n",
       "    </tr>\n",
       "    <tr>\n",
       "      <th>9</th>\n",
       "      <td>TCL Electronics Holdings Ltd</td>\n",
       "      <td>0</td>\n",
       "      <td>NaN</td>\n",
       "      <td>NaN</td>\n",
       "      <td>NaN</td>\n",
       "      <td>NaN</td>\n",
       "      <td>NaN</td>\n",
       "      <td>NaN</td>\n",
       "      <td>30.29k</td>\n",
       "      <td>NaN</td>\n",
       "      <td>NaN</td>\n",
       "      <td>NaN</td>\n",
       "      <td>NaN</td>\n",
       "      <td>NaN</td>\n",
       "    </tr>\n",
       "    <tr>\n",
       "      <th>10</th>\n",
       "      <td>Skyworth Group Ltd</td>\n",
       "      <td>0</td>\n",
       "      <td>NaN</td>\n",
       "      <td>NaN</td>\n",
       "      <td>37.5</td>\n",
       "      <td>12.50%</td>\n",
       "      <td>1.75</td>\n",
       "      <td>10.34M</td>\n",
       "      <td>17.71k</td>\n",
       "      <td>35.00%</td>\n",
       "      <td>NaN</td>\n",
       "      <td>15.85</td>\n",
       "      <td>0.25</td>\n",
       "      <td>122</td>\n",
       "    </tr>\n",
       "    <tr>\n",
       "      <th>11</th>\n",
       "      <td>Konka Group Co Ltd</td>\n",
       "      <td>0</td>\n",
       "      <td>NaN</td>\n",
       "      <td>NaN</td>\n",
       "      <td>NaN</td>\n",
       "      <td>NaN</td>\n",
       "      <td>0.75</td>\n",
       "      <td>198.99k</td>\n",
       "      <td>8.17k</td>\n",
       "      <td>NaN</td>\n",
       "      <td>NaN</td>\n",
       "      <td>NaN</td>\n",
       "      <td>NaN</td>\n",
       "      <td>NaN</td>\n",
       "    </tr>\n",
       "    <tr>\n",
       "      <th>12</th>\n",
       "      <td>GoPro Inc</td>\n",
       "      <td>0</td>\n",
       "      <td>8</td>\n",
       "      <td>41.28</td>\n",
       "      <td>87.5</td>\n",
       "      <td>25.00%</td>\n",
       "      <td>12.08</td>\n",
       "      <td>5.68M</td>\n",
       "      <td>NaN</td>\n",
       "      <td>29.40%</td>\n",
       "      <td>NaN</td>\n",
       "      <td>2.53</td>\n",
       "      <td>NaN</td>\n",
       "      <td>NaN</td>\n",
       "    </tr>\n",
       "    <tr>\n",
       "      <th>13</th>\n",
       "      <td>Funai Electric Co Ltd</td>\n",
       "      <td>0</td>\n",
       "      <td>NaN</td>\n",
       "      <td>32.52</td>\n",
       "      <td>42.86</td>\n",
       "      <td>0.00%</td>\n",
       "      <td>NaN</td>\n",
       "      <td>NaN</td>\n",
       "      <td>11.64k</td>\n",
       "      <td>NaN</td>\n",
       "      <td>NaN</td>\n",
       "      <td>NaN</td>\n",
       "      <td>NaN</td>\n",
       "      <td>NaN</td>\n",
       "    </tr>\n",
       "  </tbody>\n",
       "</table>\n",
       "</div>"
      ],
      "text/plain": [
       "                              Name Sustnlytcs ESG Rsk Scr ISS QualSc  \\\n",
       "0                           Median                  12.06        4.5   \n",
       "1                  Nintendo Co Ltd                  15.62          4   \n",
       "2                       Garmin Ltd                  20.99          9   \n",
       "3        Logitech International SA                   8.51          1   \n",
       "4               LG Electronics Inc                  20.45          5   \n",
       "5                 Sharp Corp/Japan                  20.92          4   \n",
       "6                       Nikon Corp                  16.73          2   \n",
       "7   Hisense Visual Technology Co L                    NaN        NaN   \n",
       "8            Casio Computer Co Ltd                  20.55          6   \n",
       "9     TCL Electronics Holdings Ltd                      0        NaN   \n",
       "10              Skyworth Group Ltd                      0        NaN   \n",
       "11              Konka Group Co Ltd                      0        NaN   \n",
       "12                       GoPro Inc                      0          8   \n",
       "13           Funai Electric Co Ltd                      0        NaN   \n",
       "\n",
       "   ESG Disc Score % Indep Directors % Women on Bd CEO Tnr AsOf FY End  \\\n",
       "0           41.28             54.55        16.67%                   2   \n",
       "1             NaN             46.15        30.77%                5.83   \n",
       "2             NaN             66.67        33.33%                  11   \n",
       "3             NaN               100        40.00%                0.33   \n",
       "4             NaN             66.67        16.67%                   2   \n",
       "5             NaN             66.67        11.11%                   2   \n",
       "6             NaN             54.55        18.18%                   1   \n",
       "7           44.63              37.5        12.50%                0.92   \n",
       "8             NaN             45.45         9.09%                2.83   \n",
       "9             NaN               NaN           NaN                 NaN   \n",
       "10            NaN              37.5        12.50%                1.75   \n",
       "11            NaN               NaN           NaN                0.75   \n",
       "12          41.28              87.5        25.00%               12.08   \n",
       "13          32.52             42.86         0.00%                 NaN   \n",
       "\n",
       "   Tot Comp Pd to CEO & Equiv Pers Expn per Empl % Women Emp  LTIR  \\\n",
       "0                       1.79M             20.92k      36.15%  0.15   \n",
       "1                       2.48M             49.29k         NaN   NaN   \n",
       "2                       6.54M                NaN         NaN   NaN   \n",
       "3                      16.00M                NaN      38.00%   NaN   \n",
       "4                       1.79M                NaN      21.96%  0.15   \n",
       "5                     821.43k             20.92k         NaN   NaN   \n",
       "6                       1.05M             62.46k      37.30%   NaN   \n",
       "7                     464.83k             13.02k      42.03%   NaN   \n",
       "8                       1.27M             31.53k         NaN   NaN   \n",
       "9                         NaN             30.29k         NaN   NaN   \n",
       "10                     10.34M             17.71k      35.00%   NaN   \n",
       "11                    198.99k              8.17k         NaN   NaN   \n",
       "12                      5.68M                NaN      29.40%   NaN   \n",
       "13                        NaN             11.64k         NaN   NaN   \n",
       "\n",
       "   Engy Intens/Sls Wste Per Sls Wtr Intens/Sls  \n",
       "0             10.8         1.58            122  \n",
       "1              NaN          NaN            NaN  \n",
       "2              NaN          NaN            NaN  \n",
       "3             5.75          NaN            NaN  \n",
       "4            28.13         2.81         116.02  \n",
       "5              NaN          NaN            NaN  \n",
       "6            94.62         1.58         785.51  \n",
       "7             5.63          NaN            NaN  \n",
       "8              NaN          NaN            NaN  \n",
       "9              NaN          NaN            NaN  \n",
       "10           15.85         0.25            122  \n",
       "11             NaN          NaN            NaN  \n",
       "12            2.53          NaN            NaN  \n",
       "13             NaN          NaN            NaN  "
      ]
     },
     "execution_count": 305,
     "metadata": {},
     "output_type": "execute_result"
    }
   ],
   "source": [
    "esg"
   ]
  },
  {
   "cell_type": "markdown",
   "metadata": {},
   "source": [
    "En este caso, `esg` es nuestra base de datos la cual cuenta con una dimensión de 14 observaciones representando a cada empresa y 14 columnas, características de estas. De estas 14 observaciones, hay una que representa la mediana de cada columna dada, se llama `Median` la cual borraremos. Esto quiere decir que, contamos con los datos de 13 empresas diferentes en total."
   ]
  },
  {
   "cell_type": "code",
   "execution_count": 306,
   "metadata": {},
   "outputs": [],
   "source": [
    "esg = esg.drop(0)"
   ]
  },
  {
   "cell_type": "code",
   "execution_count": 307,
   "metadata": {},
   "outputs": [
    {
     "data": {
      "text/html": [
       "<div>\n",
       "<style scoped>\n",
       "    .dataframe tbody tr th:only-of-type {\n",
       "        vertical-align: middle;\n",
       "    }\n",
       "\n",
       "    .dataframe tbody tr th {\n",
       "        vertical-align: top;\n",
       "    }\n",
       "\n",
       "    .dataframe thead th {\n",
       "        text-align: right;\n",
       "    }\n",
       "</style>\n",
       "<table border=\"1\" class=\"dataframe\">\n",
       "  <thead>\n",
       "    <tr style=\"text-align: right;\">\n",
       "      <th></th>\n",
       "      <th>Name</th>\n",
       "      <th>Sustnlytcs ESG Rsk Scr</th>\n",
       "      <th>ISS QualSc</th>\n",
       "      <th>ESG Disc Score</th>\n",
       "      <th>% Indep Directors</th>\n",
       "      <th>% Women on Bd</th>\n",
       "      <th>CEO Tnr AsOf FY End</th>\n",
       "      <th>Tot Comp Pd to CEO &amp; Equiv</th>\n",
       "      <th>Pers Expn per Empl</th>\n",
       "      <th>% Women Emp</th>\n",
       "      <th>LTIR</th>\n",
       "      <th>Engy Intens/Sls</th>\n",
       "      <th>Wste Per Sls</th>\n",
       "      <th>Wtr Intens/Sls</th>\n",
       "    </tr>\n",
       "  </thead>\n",
       "  <tbody>\n",
       "    <tr>\n",
       "      <th>1</th>\n",
       "      <td>Nintendo Co Ltd</td>\n",
       "      <td>15.62</td>\n",
       "      <td>4</td>\n",
       "      <td>NaN</td>\n",
       "      <td>46.15</td>\n",
       "      <td>30.77%</td>\n",
       "      <td>5.83</td>\n",
       "      <td>2.48M</td>\n",
       "      <td>49.29k</td>\n",
       "      <td>NaN</td>\n",
       "      <td>NaN</td>\n",
       "      <td>NaN</td>\n",
       "      <td>NaN</td>\n",
       "      <td>NaN</td>\n",
       "    </tr>\n",
       "    <tr>\n",
       "      <th>2</th>\n",
       "      <td>Garmin Ltd</td>\n",
       "      <td>20.99</td>\n",
       "      <td>9</td>\n",
       "      <td>NaN</td>\n",
       "      <td>66.67</td>\n",
       "      <td>33.33%</td>\n",
       "      <td>11</td>\n",
       "      <td>6.54M</td>\n",
       "      <td>NaN</td>\n",
       "      <td>NaN</td>\n",
       "      <td>NaN</td>\n",
       "      <td>NaN</td>\n",
       "      <td>NaN</td>\n",
       "      <td>NaN</td>\n",
       "    </tr>\n",
       "    <tr>\n",
       "      <th>3</th>\n",
       "      <td>Logitech International SA</td>\n",
       "      <td>8.51</td>\n",
       "      <td>1</td>\n",
       "      <td>NaN</td>\n",
       "      <td>100</td>\n",
       "      <td>40.00%</td>\n",
       "      <td>0.33</td>\n",
       "      <td>16.00M</td>\n",
       "      <td>NaN</td>\n",
       "      <td>38.00%</td>\n",
       "      <td>NaN</td>\n",
       "      <td>5.75</td>\n",
       "      <td>NaN</td>\n",
       "      <td>NaN</td>\n",
       "    </tr>\n",
       "    <tr>\n",
       "      <th>4</th>\n",
       "      <td>LG Electronics Inc</td>\n",
       "      <td>20.45</td>\n",
       "      <td>5</td>\n",
       "      <td>NaN</td>\n",
       "      <td>66.67</td>\n",
       "      <td>16.67%</td>\n",
       "      <td>2</td>\n",
       "      <td>1.79M</td>\n",
       "      <td>NaN</td>\n",
       "      <td>21.96%</td>\n",
       "      <td>0.15</td>\n",
       "      <td>28.13</td>\n",
       "      <td>2.81</td>\n",
       "      <td>116.02</td>\n",
       "    </tr>\n",
       "    <tr>\n",
       "      <th>5</th>\n",
       "      <td>Sharp Corp/Japan</td>\n",
       "      <td>20.92</td>\n",
       "      <td>4</td>\n",
       "      <td>NaN</td>\n",
       "      <td>66.67</td>\n",
       "      <td>11.11%</td>\n",
       "      <td>2</td>\n",
       "      <td>821.43k</td>\n",
       "      <td>20.92k</td>\n",
       "      <td>NaN</td>\n",
       "      <td>NaN</td>\n",
       "      <td>NaN</td>\n",
       "      <td>NaN</td>\n",
       "      <td>NaN</td>\n",
       "    </tr>\n",
       "    <tr>\n",
       "      <th>6</th>\n",
       "      <td>Nikon Corp</td>\n",
       "      <td>16.73</td>\n",
       "      <td>2</td>\n",
       "      <td>NaN</td>\n",
       "      <td>54.55</td>\n",
       "      <td>18.18%</td>\n",
       "      <td>1</td>\n",
       "      <td>1.05M</td>\n",
       "      <td>62.46k</td>\n",
       "      <td>37.30%</td>\n",
       "      <td>NaN</td>\n",
       "      <td>94.62</td>\n",
       "      <td>1.58</td>\n",
       "      <td>785.51</td>\n",
       "    </tr>\n",
       "    <tr>\n",
       "      <th>7</th>\n",
       "      <td>Hisense Visual Technology Co L</td>\n",
       "      <td>NaN</td>\n",
       "      <td>NaN</td>\n",
       "      <td>44.63</td>\n",
       "      <td>37.5</td>\n",
       "      <td>12.50%</td>\n",
       "      <td>0.92</td>\n",
       "      <td>464.83k</td>\n",
       "      <td>13.02k</td>\n",
       "      <td>42.03%</td>\n",
       "      <td>NaN</td>\n",
       "      <td>5.63</td>\n",
       "      <td>NaN</td>\n",
       "      <td>NaN</td>\n",
       "    </tr>\n",
       "    <tr>\n",
       "      <th>8</th>\n",
       "      <td>Casio Computer Co Ltd</td>\n",
       "      <td>20.55</td>\n",
       "      <td>6</td>\n",
       "      <td>NaN</td>\n",
       "      <td>45.45</td>\n",
       "      <td>9.09%</td>\n",
       "      <td>2.83</td>\n",
       "      <td>1.27M</td>\n",
       "      <td>31.53k</td>\n",
       "      <td>NaN</td>\n",
       "      <td>NaN</td>\n",
       "      <td>NaN</td>\n",
       "      <td>NaN</td>\n",
       "      <td>NaN</td>\n",
       "    </tr>\n",
       "    <tr>\n",
       "      <th>9</th>\n",
       "      <td>TCL Electronics Holdings Ltd</td>\n",
       "      <td>0</td>\n",
       "      <td>NaN</td>\n",
       "      <td>NaN</td>\n",
       "      <td>NaN</td>\n",
       "      <td>NaN</td>\n",
       "      <td>NaN</td>\n",
       "      <td>NaN</td>\n",
       "      <td>30.29k</td>\n",
       "      <td>NaN</td>\n",
       "      <td>NaN</td>\n",
       "      <td>NaN</td>\n",
       "      <td>NaN</td>\n",
       "      <td>NaN</td>\n",
       "    </tr>\n",
       "    <tr>\n",
       "      <th>10</th>\n",
       "      <td>Skyworth Group Ltd</td>\n",
       "      <td>0</td>\n",
       "      <td>NaN</td>\n",
       "      <td>NaN</td>\n",
       "      <td>37.5</td>\n",
       "      <td>12.50%</td>\n",
       "      <td>1.75</td>\n",
       "      <td>10.34M</td>\n",
       "      <td>17.71k</td>\n",
       "      <td>35.00%</td>\n",
       "      <td>NaN</td>\n",
       "      <td>15.85</td>\n",
       "      <td>0.25</td>\n",
       "      <td>122</td>\n",
       "    </tr>\n",
       "    <tr>\n",
       "      <th>11</th>\n",
       "      <td>Konka Group Co Ltd</td>\n",
       "      <td>0</td>\n",
       "      <td>NaN</td>\n",
       "      <td>NaN</td>\n",
       "      <td>NaN</td>\n",
       "      <td>NaN</td>\n",
       "      <td>0.75</td>\n",
       "      <td>198.99k</td>\n",
       "      <td>8.17k</td>\n",
       "      <td>NaN</td>\n",
       "      <td>NaN</td>\n",
       "      <td>NaN</td>\n",
       "      <td>NaN</td>\n",
       "      <td>NaN</td>\n",
       "    </tr>\n",
       "    <tr>\n",
       "      <th>12</th>\n",
       "      <td>GoPro Inc</td>\n",
       "      <td>0</td>\n",
       "      <td>8</td>\n",
       "      <td>41.28</td>\n",
       "      <td>87.5</td>\n",
       "      <td>25.00%</td>\n",
       "      <td>12.08</td>\n",
       "      <td>5.68M</td>\n",
       "      <td>NaN</td>\n",
       "      <td>29.40%</td>\n",
       "      <td>NaN</td>\n",
       "      <td>2.53</td>\n",
       "      <td>NaN</td>\n",
       "      <td>NaN</td>\n",
       "    </tr>\n",
       "    <tr>\n",
       "      <th>13</th>\n",
       "      <td>Funai Electric Co Ltd</td>\n",
       "      <td>0</td>\n",
       "      <td>NaN</td>\n",
       "      <td>32.52</td>\n",
       "      <td>42.86</td>\n",
       "      <td>0.00%</td>\n",
       "      <td>NaN</td>\n",
       "      <td>NaN</td>\n",
       "      <td>11.64k</td>\n",
       "      <td>NaN</td>\n",
       "      <td>NaN</td>\n",
       "      <td>NaN</td>\n",
       "      <td>NaN</td>\n",
       "      <td>NaN</td>\n",
       "    </tr>\n",
       "  </tbody>\n",
       "</table>\n",
       "</div>"
      ],
      "text/plain": [
       "                              Name Sustnlytcs ESG Rsk Scr ISS QualSc  \\\n",
       "1                  Nintendo Co Ltd                  15.62          4   \n",
       "2                       Garmin Ltd                  20.99          9   \n",
       "3        Logitech International SA                   8.51          1   \n",
       "4               LG Electronics Inc                  20.45          5   \n",
       "5                 Sharp Corp/Japan                  20.92          4   \n",
       "6                       Nikon Corp                  16.73          2   \n",
       "7   Hisense Visual Technology Co L                    NaN        NaN   \n",
       "8            Casio Computer Co Ltd                  20.55          6   \n",
       "9     TCL Electronics Holdings Ltd                      0        NaN   \n",
       "10              Skyworth Group Ltd                      0        NaN   \n",
       "11              Konka Group Co Ltd                      0        NaN   \n",
       "12                       GoPro Inc                      0          8   \n",
       "13           Funai Electric Co Ltd                      0        NaN   \n",
       "\n",
       "   ESG Disc Score % Indep Directors % Women on Bd CEO Tnr AsOf FY End  \\\n",
       "1             NaN             46.15        30.77%                5.83   \n",
       "2             NaN             66.67        33.33%                  11   \n",
       "3             NaN               100        40.00%                0.33   \n",
       "4             NaN             66.67        16.67%                   2   \n",
       "5             NaN             66.67        11.11%                   2   \n",
       "6             NaN             54.55        18.18%                   1   \n",
       "7           44.63              37.5        12.50%                0.92   \n",
       "8             NaN             45.45         9.09%                2.83   \n",
       "9             NaN               NaN           NaN                 NaN   \n",
       "10            NaN              37.5        12.50%                1.75   \n",
       "11            NaN               NaN           NaN                0.75   \n",
       "12          41.28              87.5        25.00%               12.08   \n",
       "13          32.52             42.86         0.00%                 NaN   \n",
       "\n",
       "   Tot Comp Pd to CEO & Equiv Pers Expn per Empl % Women Emp  LTIR  \\\n",
       "1                       2.48M             49.29k         NaN   NaN   \n",
       "2                       6.54M                NaN         NaN   NaN   \n",
       "3                      16.00M                NaN      38.00%   NaN   \n",
       "4                       1.79M                NaN      21.96%  0.15   \n",
       "5                     821.43k             20.92k         NaN   NaN   \n",
       "6                       1.05M             62.46k      37.30%   NaN   \n",
       "7                     464.83k             13.02k      42.03%   NaN   \n",
       "8                       1.27M             31.53k         NaN   NaN   \n",
       "9                         NaN             30.29k         NaN   NaN   \n",
       "10                     10.34M             17.71k      35.00%   NaN   \n",
       "11                    198.99k              8.17k         NaN   NaN   \n",
       "12                      5.68M                NaN      29.40%   NaN   \n",
       "13                        NaN             11.64k         NaN   NaN   \n",
       "\n",
       "   Engy Intens/Sls Wste Per Sls Wtr Intens/Sls  \n",
       "1              NaN          NaN            NaN  \n",
       "2              NaN          NaN            NaN  \n",
       "3             5.75          NaN            NaN  \n",
       "4            28.13         2.81         116.02  \n",
       "5              NaN          NaN            NaN  \n",
       "6            94.62         1.58         785.51  \n",
       "7             5.63          NaN            NaN  \n",
       "8              NaN          NaN            NaN  \n",
       "9              NaN          NaN            NaN  \n",
       "10           15.85         0.25            122  \n",
       "11             NaN          NaN            NaN  \n",
       "12            2.53          NaN            NaN  \n",
       "13             NaN          NaN            NaN  "
      ]
     },
     "execution_count": 307,
     "metadata": {},
     "output_type": "execute_result"
    }
   ],
   "source": [
    "esg"
   ]
  },
  {
   "cell_type": "markdown",
   "metadata": {},
   "source": [
    "Para seguir con nuestro análisis, describamos primero las variables."
   ]
  },
  {
   "cell_type": "markdown",
   "metadata": {},
   "source": [
    "* Name: Nombre de la empresa.\n",
    "\n",
    "* Sustnlytcs ESG Rsk Scr (Puntuación de riesgo ESG de SA): Es una puntuación que mide el riesgo ambiental, social y de gobernanza (ESG) al que está expuesta una empresa, según la metodología de Sustainalytics. Una puntuación más alta indica un mayor riesgo.\n",
    "\n",
    "* ISS QualSc (ISS QualityScore): Es una calificación proporcionada por Institutional Shareholder Services (ISS) que evalúa la calidad y el nivel de riesgo en las prácticas de gobernanza corporativa de una empresa. Las áreas evaluadas suelen incluir la composición de la junta, los derechos de los accionistas y la remuneración de los ejecutivos.\n",
    "\n",
    "* ESG Disc Score (ESG estimación de desglose): Este puntaje se refiere a una estimación que desglosa los componentes ambientales, sociales y de gobernanza en el desempeño de una empresa, proporcionando una visión detallada de su impacto ESG.\n",
    "\n",
    "* % Indep Directors (Porcentaje de directores independientes): Este valor representa el porcentaje de miembros de la junta directiva que son independientes, es decir, que no tienen relaciones significativas con la empresa que puedan influir en su capacidad para actuar en el mejor interés de los accionistas.\n",
    "\n",
    "* % Women on Bd (Mujeres en el consejo): Indica el porcentaje de mujeres que forman parte del consejo de administración de la empresa.\n",
    "\n",
    "* CEO Tnr AsOf FY End (Mandato de consejero delegado en funciones desde fin del año fiscal): Mide la duración del mandato del CEO actual hasta el final del último año fiscal. Indica cuántos años lleva el CEO en su puesto hasta la fecha de corte.\n",
    "\n",
    "* Tot Comp Pd to CEO & Equiv (Remuneración total pagada a CEO y equivalente): Es la suma total de la compensación, que incluye salario, bonos, incentivos a largo plazo y otras formas de pago, que ha recibido el CEO y los ejecutivos equivalentes.\n",
    "\n",
    "* Pers Expn per Empl (Gastos efectivos de personal por empleado): Representa el gasto total de la empresa en personal, dividido entre el número de empleados. Incluye salarios, beneficios y otros costos laborales.\n",
    "\n",
    "* % Women emp (Porcentaje de mujeres en la fuerza laboral): Indica el porcentaje de mujeres en la fuerza laboral total de la empresa.\n",
    "\n",
    "* LTIR (Tasa de incidentes con pérdida de tiempo - empleados): Es la tasa de incidentes que resultan en la pérdida de tiempo de trabajo por parte de los empleados, generalmente medido por cada 100 o 1,000 empleados. Se utiliza como un indicador de seguridad laboral.\n",
    "\n",
    "* Engy Intens/Sls (Intensidad de energía por ventas): Mide la cantidad de energía consumida por la empresa en relación con sus ventas. Es un indicador de la eficiencia energética de la empresa.\n",
    "\n",
    "* Wste Per Sls (Desechos generados por ventas): Este valor representa la cantidad de desechos producidos por la empresa por cada unidad de venta, reflejando su impacto ambiental.\n",
    "\n",
    "* Wtr Intens/Sls (Intensidad del agua por ventas): Mide la cantidad de agua utilizada por la empresa en relación con sus ventas, otro indicador de eficiencia en el uso de recursos.\n"
   ]
  },
  {
   "cell_type": "markdown",
   "metadata": {},
   "source": [
    "Ahora, haremos unos cambios en la base de datos reescribiendo los valores de algunas columnas.\n"
   ]
  },
  {
   "cell_type": "code",
   "execution_count": 308,
   "metadata": {},
   "outputs": [],
   "source": [
    "esg['% Women on Bd'] = esg['% Women on Bd'].replace({'30.77%': '30.77', '33.33%':'33.33', '40.00%': '40.00', '16.67%':'16.67', '11.11%':'11.11', '18.18%':'18.18', '12.50%':'12.50', '9.09%':'9.09', '12.50%':'12.50','25.00%':'25.00', '0.00%':'0.00'})\n",
    "esg['Tot Comp Pd to CEO & Equiv'] = esg['Tot Comp Pd to CEO & Equiv'].replace({'2.48M': '2480000', '6.54M': '6540000', '16.00M': '16000000', '1.79M': '1790000', '821.43k': '821430', '1.05M' : ' 1050000', '464.83k' : '464830', '1.27M': '1270000', '10.34M' : '10340000', '198.99k': '198990', '5.68M' : '5680000', '--' : np.nan})\n",
    "esg['Pers Expn per Empl'] = esg['Pers Expn per Empl'].replace({'49.29k': '49290', '20.92k': '20920', '62.46k': '62460', '13.02k': '13020', '31.53k': '31530', '30.29k' : '30290', '17.71k' : '17710', '8.17k': '8170', '11.64k' : '11640', '--' : np.nan})\n",
    "esg['% Women Emp'] = esg['% Women Emp'].replace({'38.00%': '38.00', '21.96%':'21.96', '37.30%': '37.30', '42.03%':'42.03', '35.00%':'35.00', '29.40%':'29.40'})"
   ]
  },
  {
   "cell_type": "code",
   "execution_count": 309,
   "metadata": {},
   "outputs": [
    {
     "data": {
      "text/html": [
       "<div>\n",
       "<style scoped>\n",
       "    .dataframe tbody tr th:only-of-type {\n",
       "        vertical-align: middle;\n",
       "    }\n",
       "\n",
       "    .dataframe tbody tr th {\n",
       "        vertical-align: top;\n",
       "    }\n",
       "\n",
       "    .dataframe thead th {\n",
       "        text-align: right;\n",
       "    }\n",
       "</style>\n",
       "<table border=\"1\" class=\"dataframe\">\n",
       "  <thead>\n",
       "    <tr style=\"text-align: right;\">\n",
       "      <th></th>\n",
       "      <th>Name</th>\n",
       "      <th>Sustnlytcs ESG Rsk Scr</th>\n",
       "      <th>ISS QualSc</th>\n",
       "      <th>ESG Disc Score</th>\n",
       "      <th>% Indep Directors</th>\n",
       "      <th>% Women on Bd</th>\n",
       "      <th>CEO Tnr AsOf FY End</th>\n",
       "      <th>Tot Comp Pd to CEO &amp; Equiv</th>\n",
       "      <th>Pers Expn per Empl</th>\n",
       "      <th>% Women Emp</th>\n",
       "      <th>LTIR</th>\n",
       "      <th>Engy Intens/Sls</th>\n",
       "      <th>Wste Per Sls</th>\n",
       "      <th>Wtr Intens/Sls</th>\n",
       "    </tr>\n",
       "  </thead>\n",
       "  <tbody>\n",
       "    <tr>\n",
       "      <th>1</th>\n",
       "      <td>Nintendo Co Ltd</td>\n",
       "      <td>15.62</td>\n",
       "      <td>4</td>\n",
       "      <td>NaN</td>\n",
       "      <td>46.15</td>\n",
       "      <td>30.77</td>\n",
       "      <td>5.83</td>\n",
       "      <td>2480000</td>\n",
       "      <td>49290</td>\n",
       "      <td>NaN</td>\n",
       "      <td>NaN</td>\n",
       "      <td>NaN</td>\n",
       "      <td>NaN</td>\n",
       "      <td>NaN</td>\n",
       "    </tr>\n",
       "    <tr>\n",
       "      <th>2</th>\n",
       "      <td>Garmin Ltd</td>\n",
       "      <td>20.99</td>\n",
       "      <td>9</td>\n",
       "      <td>NaN</td>\n",
       "      <td>66.67</td>\n",
       "      <td>33.33</td>\n",
       "      <td>11</td>\n",
       "      <td>6540000</td>\n",
       "      <td>NaN</td>\n",
       "      <td>NaN</td>\n",
       "      <td>NaN</td>\n",
       "      <td>NaN</td>\n",
       "      <td>NaN</td>\n",
       "      <td>NaN</td>\n",
       "    </tr>\n",
       "    <tr>\n",
       "      <th>3</th>\n",
       "      <td>Logitech International SA</td>\n",
       "      <td>8.51</td>\n",
       "      <td>1</td>\n",
       "      <td>NaN</td>\n",
       "      <td>100</td>\n",
       "      <td>40.00</td>\n",
       "      <td>0.33</td>\n",
       "      <td>16000000</td>\n",
       "      <td>NaN</td>\n",
       "      <td>38.00</td>\n",
       "      <td>NaN</td>\n",
       "      <td>5.75</td>\n",
       "      <td>NaN</td>\n",
       "      <td>NaN</td>\n",
       "    </tr>\n",
       "    <tr>\n",
       "      <th>4</th>\n",
       "      <td>LG Electronics Inc</td>\n",
       "      <td>20.45</td>\n",
       "      <td>5</td>\n",
       "      <td>NaN</td>\n",
       "      <td>66.67</td>\n",
       "      <td>16.67</td>\n",
       "      <td>2</td>\n",
       "      <td>1790000</td>\n",
       "      <td>NaN</td>\n",
       "      <td>21.96</td>\n",
       "      <td>0.15</td>\n",
       "      <td>28.13</td>\n",
       "      <td>2.81</td>\n",
       "      <td>116.02</td>\n",
       "    </tr>\n",
       "    <tr>\n",
       "      <th>5</th>\n",
       "      <td>Sharp Corp/Japan</td>\n",
       "      <td>20.92</td>\n",
       "      <td>4</td>\n",
       "      <td>NaN</td>\n",
       "      <td>66.67</td>\n",
       "      <td>11.11</td>\n",
       "      <td>2</td>\n",
       "      <td>821430</td>\n",
       "      <td>20920</td>\n",
       "      <td>NaN</td>\n",
       "      <td>NaN</td>\n",
       "      <td>NaN</td>\n",
       "      <td>NaN</td>\n",
       "      <td>NaN</td>\n",
       "    </tr>\n",
       "    <tr>\n",
       "      <th>6</th>\n",
       "      <td>Nikon Corp</td>\n",
       "      <td>16.73</td>\n",
       "      <td>2</td>\n",
       "      <td>NaN</td>\n",
       "      <td>54.55</td>\n",
       "      <td>18.18</td>\n",
       "      <td>1</td>\n",
       "      <td>1050000</td>\n",
       "      <td>62460</td>\n",
       "      <td>37.30</td>\n",
       "      <td>NaN</td>\n",
       "      <td>94.62</td>\n",
       "      <td>1.58</td>\n",
       "      <td>785.51</td>\n",
       "    </tr>\n",
       "    <tr>\n",
       "      <th>7</th>\n",
       "      <td>Hisense Visual Technology Co L</td>\n",
       "      <td>NaN</td>\n",
       "      <td>NaN</td>\n",
       "      <td>44.63</td>\n",
       "      <td>37.5</td>\n",
       "      <td>12.50</td>\n",
       "      <td>0.92</td>\n",
       "      <td>464830</td>\n",
       "      <td>13020</td>\n",
       "      <td>42.03</td>\n",
       "      <td>NaN</td>\n",
       "      <td>5.63</td>\n",
       "      <td>NaN</td>\n",
       "      <td>NaN</td>\n",
       "    </tr>\n",
       "    <tr>\n",
       "      <th>8</th>\n",
       "      <td>Casio Computer Co Ltd</td>\n",
       "      <td>20.55</td>\n",
       "      <td>6</td>\n",
       "      <td>NaN</td>\n",
       "      <td>45.45</td>\n",
       "      <td>9.09</td>\n",
       "      <td>2.83</td>\n",
       "      <td>1270000</td>\n",
       "      <td>31530</td>\n",
       "      <td>NaN</td>\n",
       "      <td>NaN</td>\n",
       "      <td>NaN</td>\n",
       "      <td>NaN</td>\n",
       "      <td>NaN</td>\n",
       "    </tr>\n",
       "    <tr>\n",
       "      <th>9</th>\n",
       "      <td>TCL Electronics Holdings Ltd</td>\n",
       "      <td>0</td>\n",
       "      <td>NaN</td>\n",
       "      <td>NaN</td>\n",
       "      <td>NaN</td>\n",
       "      <td>NaN</td>\n",
       "      <td>NaN</td>\n",
       "      <td>NaN</td>\n",
       "      <td>30290</td>\n",
       "      <td>NaN</td>\n",
       "      <td>NaN</td>\n",
       "      <td>NaN</td>\n",
       "      <td>NaN</td>\n",
       "      <td>NaN</td>\n",
       "    </tr>\n",
       "    <tr>\n",
       "      <th>10</th>\n",
       "      <td>Skyworth Group Ltd</td>\n",
       "      <td>0</td>\n",
       "      <td>NaN</td>\n",
       "      <td>NaN</td>\n",
       "      <td>37.5</td>\n",
       "      <td>12.50</td>\n",
       "      <td>1.75</td>\n",
       "      <td>10340000</td>\n",
       "      <td>17710</td>\n",
       "      <td>35.00</td>\n",
       "      <td>NaN</td>\n",
       "      <td>15.85</td>\n",
       "      <td>0.25</td>\n",
       "      <td>122</td>\n",
       "    </tr>\n",
       "    <tr>\n",
       "      <th>11</th>\n",
       "      <td>Konka Group Co Ltd</td>\n",
       "      <td>0</td>\n",
       "      <td>NaN</td>\n",
       "      <td>NaN</td>\n",
       "      <td>NaN</td>\n",
       "      <td>NaN</td>\n",
       "      <td>0.75</td>\n",
       "      <td>198990</td>\n",
       "      <td>8170</td>\n",
       "      <td>NaN</td>\n",
       "      <td>NaN</td>\n",
       "      <td>NaN</td>\n",
       "      <td>NaN</td>\n",
       "      <td>NaN</td>\n",
       "    </tr>\n",
       "    <tr>\n",
       "      <th>12</th>\n",
       "      <td>GoPro Inc</td>\n",
       "      <td>0</td>\n",
       "      <td>8</td>\n",
       "      <td>41.28</td>\n",
       "      <td>87.5</td>\n",
       "      <td>25.00</td>\n",
       "      <td>12.08</td>\n",
       "      <td>5680000</td>\n",
       "      <td>NaN</td>\n",
       "      <td>29.40</td>\n",
       "      <td>NaN</td>\n",
       "      <td>2.53</td>\n",
       "      <td>NaN</td>\n",
       "      <td>NaN</td>\n",
       "    </tr>\n",
       "    <tr>\n",
       "      <th>13</th>\n",
       "      <td>Funai Electric Co Ltd</td>\n",
       "      <td>0</td>\n",
       "      <td>NaN</td>\n",
       "      <td>32.52</td>\n",
       "      <td>42.86</td>\n",
       "      <td>0.00</td>\n",
       "      <td>NaN</td>\n",
       "      <td>NaN</td>\n",
       "      <td>11640</td>\n",
       "      <td>NaN</td>\n",
       "      <td>NaN</td>\n",
       "      <td>NaN</td>\n",
       "      <td>NaN</td>\n",
       "      <td>NaN</td>\n",
       "    </tr>\n",
       "  </tbody>\n",
       "</table>\n",
       "</div>"
      ],
      "text/plain": [
       "                              Name Sustnlytcs ESG Rsk Scr ISS QualSc  \\\n",
       "1                  Nintendo Co Ltd                  15.62          4   \n",
       "2                       Garmin Ltd                  20.99          9   \n",
       "3        Logitech International SA                   8.51          1   \n",
       "4               LG Electronics Inc                  20.45          5   \n",
       "5                 Sharp Corp/Japan                  20.92          4   \n",
       "6                       Nikon Corp                  16.73          2   \n",
       "7   Hisense Visual Technology Co L                    NaN        NaN   \n",
       "8            Casio Computer Co Ltd                  20.55          6   \n",
       "9     TCL Electronics Holdings Ltd                      0        NaN   \n",
       "10              Skyworth Group Ltd                      0        NaN   \n",
       "11              Konka Group Co Ltd                      0        NaN   \n",
       "12                       GoPro Inc                      0          8   \n",
       "13           Funai Electric Co Ltd                      0        NaN   \n",
       "\n",
       "   ESG Disc Score % Indep Directors % Women on Bd CEO Tnr AsOf FY End  \\\n",
       "1             NaN             46.15         30.77                5.83   \n",
       "2             NaN             66.67         33.33                  11   \n",
       "3             NaN               100         40.00                0.33   \n",
       "4             NaN             66.67         16.67                   2   \n",
       "5             NaN             66.67         11.11                   2   \n",
       "6             NaN             54.55         18.18                   1   \n",
       "7           44.63              37.5         12.50                0.92   \n",
       "8             NaN             45.45          9.09                2.83   \n",
       "9             NaN               NaN           NaN                 NaN   \n",
       "10            NaN              37.5         12.50                1.75   \n",
       "11            NaN               NaN           NaN                0.75   \n",
       "12          41.28              87.5         25.00               12.08   \n",
       "13          32.52             42.86          0.00                 NaN   \n",
       "\n",
       "   Tot Comp Pd to CEO & Equiv Pers Expn per Empl % Women Emp  LTIR  \\\n",
       "1                     2480000              49290         NaN   NaN   \n",
       "2                     6540000                NaN         NaN   NaN   \n",
       "3                    16000000                NaN       38.00   NaN   \n",
       "4                     1790000                NaN       21.96  0.15   \n",
       "5                      821430              20920         NaN   NaN   \n",
       "6                     1050000              62460       37.30   NaN   \n",
       "7                      464830              13020       42.03   NaN   \n",
       "8                     1270000              31530         NaN   NaN   \n",
       "9                         NaN              30290         NaN   NaN   \n",
       "10                   10340000              17710       35.00   NaN   \n",
       "11                     198990               8170         NaN   NaN   \n",
       "12                    5680000                NaN       29.40   NaN   \n",
       "13                        NaN              11640         NaN   NaN   \n",
       "\n",
       "   Engy Intens/Sls Wste Per Sls Wtr Intens/Sls  \n",
       "1              NaN          NaN            NaN  \n",
       "2              NaN          NaN            NaN  \n",
       "3             5.75          NaN            NaN  \n",
       "4            28.13         2.81         116.02  \n",
       "5              NaN          NaN            NaN  \n",
       "6            94.62         1.58         785.51  \n",
       "7             5.63          NaN            NaN  \n",
       "8              NaN          NaN            NaN  \n",
       "9              NaN          NaN            NaN  \n",
       "10           15.85         0.25            122  \n",
       "11             NaN          NaN            NaN  \n",
       "12            2.53          NaN            NaN  \n",
       "13             NaN          NaN            NaN  "
      ]
     },
     "execution_count": 309,
     "metadata": {},
     "output_type": "execute_result"
    }
   ],
   "source": [
    "esg"
   ]
  },
  {
   "cell_type": "markdown",
   "metadata": {},
   "source": [
    "Antes de ver el tipo de variables, cabe mendionar que a simple vista se observa una gran cantidad de datos NA. Veamos esto gráficamente."
   ]
  },
  {
   "cell_type": "code",
   "execution_count": 310,
   "metadata": {},
   "outputs": [
    {
     "data": {
      "image/png": "[encoded data removed]",
      "text/plain": [
       "<Figure size 500x300 with 1 Axes>"
      ]
     },
     "metadata": {},
     "output_type": "display_data"
    }
   ],
   "source": [
    "plt.figure(figsize=(5, 3))\n",
    "sns.heatmap(esg.isnull(), cbar=False, yticklabels=False)\n",
    "plt.title('Datos Faltantes')\n",
    "\n",
    "plt.show()"
   ]
  },
  {
   "cell_type": "markdown",
   "metadata": {},
   "source": [
    "En donde los datos faltantes están representados por el color rosado, podemos observar que incluso hay variables con má observaciones faltantes que presentes. Ahora analicemos cada una de estas para observar su comportamiento."
   ]
  },
  {
   "cell_type": "code",
   "execution_count": 311,
   "metadata": {},
   "outputs": [
    {
     "name": "stdout",
     "output_type": "stream",
     "text": [
      "<class 'pandas.core.frame.DataFrame'>\n",
      "RangeIndex: 13 entries, 1 to 13\n",
      "Data columns (total 14 columns):\n",
      " #   Column                      Non-Null Count  Dtype \n",
      "---  ------                      --------------  ----- \n",
      " 0   Name                        13 non-null     object\n",
      " 1   Sustnlytcs ESG Rsk Scr      12 non-null     object\n",
      " 2   ISS QualSc                  8 non-null      object\n",
      " 3   ESG Disc Score              3 non-null      object\n",
      " 4   % Indep Directors           11 non-null     object\n",
      " 5   % Women on Bd               11 non-null     object\n",
      " 6   CEO Tnr AsOf FY End         11 non-null     object\n",
      " 7   Tot Comp Pd to CEO & Equiv  11 non-null     object\n",
      " 8   Pers Expn per Empl          9 non-null      object\n",
      " 9   % Women Emp                 6 non-null      object\n",
      " 10  LTIR                        1 non-null      object\n",
      " 11  Engy Intens/Sls             6 non-null      object\n",
      " 12  Wste Per Sls                3 non-null      object\n",
      " 13  Wtr Intens/Sls              3 non-null      object\n",
      "dtypes: object(14)\n",
      "memory usage: 1.6+ KB\n"
     ]
    }
   ],
   "source": [
    "esg.info()"
   ]
  },
  {
   "cell_type": "markdown",
   "metadata": {},
   "source": [
    "Ahora procederemos a analizar cada una de estas."
   ]
  },
  {
   "cell_type": "markdown",
   "metadata": {},
   "source": [
    "### Name"
   ]
  },
  {
   "cell_type": "markdown",
   "metadata": {},
   "source": [
    "Como ya se mencionó, esta hace referencia al nombre de las empresas.\n",
    "\n",
    "En este caso vamos a comprobar si cada una se repite más de una vez o no."
   ]
  },
  {
   "cell_type": "code",
   "execution_count": 312,
   "metadata": {},
   "outputs": [
    {
     "data": {
      "text/plain": [
       "Name\n",
       "Nintendo Co Ltd                   1\n",
       "Garmin Ltd                        1\n",
       "Logitech International SA         1\n",
       "LG Electronics Inc                1\n",
       "Sharp Corp/Japan                  1\n",
       "Nikon Corp                        1\n",
       "Hisense Visual Technology Co L    1\n",
       "Casio Computer Co Ltd             1\n",
       "TCL Electronics Holdings Ltd      1\n",
       "Skyworth Group Ltd                1\n",
       "Konka Group Co Ltd                1\n",
       "GoPro Inc                         1\n",
       "Funai Electric Co Ltd             1\n",
       "Name: count, dtype: int64"
      ]
     },
     "execution_count": 312,
     "metadata": {},
     "output_type": "execute_result"
    }
   ],
   "source": [
    "esg['Name'].value_counts()"
   ]
  },
  {
   "cell_type": "markdown",
   "metadata": {},
   "source": [
    "Tal como se esperaba, cada empresa cuenta con una única observación.\n"
   ]
  },
  {
   "cell_type": "markdown",
   "metadata": {},
   "source": [
    "###  Sustnlytcs ESG Rsk Scr"
   ]
  },
  {
   "cell_type": "markdown",
   "metadata": {},
   "source": [
    "Esta variable en particular mide el riesgo de exposición y la gestión de la empresa a este riesgo de manera residual. Es decir que a mayor valor, la empresa está menos preparada para este riesgo."
   ]
  },
  {
   "cell_type": "markdown",
   "metadata": {},
   "source": [
    "Vamos a pasar esta variable a tipo numérico"
   ]
  },
  {
   "cell_type": "code",
   "execution_count": 313,
   "metadata": {},
   "outputs": [],
   "source": [
    "esg['Sustnlytcs ESG Rsk Scr'] = esg['Sustnlytcs ESG Rsk Scr'].astype(float)"
   ]
  },
  {
   "cell_type": "code",
   "execution_count": 314,
   "metadata": {},
   "outputs": [
    {
     "data": {
      "text/plain": [
       "count    12.000000\n",
       "mean     10.314167\n",
       "std       9.716174\n",
       "min       0.000000\n",
       "25%       0.000000\n",
       "50%      12.065000\n",
       "75%      20.475000\n",
       "max      20.990000\n",
       "Name: Sustnlytcs ESG Rsk Scr, dtype: float64"
      ]
     },
     "execution_count": 314,
     "metadata": {},
     "output_type": "execute_result"
    }
   ],
   "source": [
    "esg['Sustnlytcs ESG Rsk Scr'].describe()"
   ]
  },
  {
   "cell_type": "markdown",
   "metadata": {},
   "source": [
    "Observamos que hay una variabilidad en las puntuaciones de riesgo ESG entre las empresas estudiadas donde el menor puntaje es 0, es decir, con excelente gestión de riesgo ESG. La puntuación promedio es de 10.31 con una variabilidad de 9.71,lo que quiere decir que en general, las empresas tienen una exposición y una gestión de riesgos ESG que resultan en un nivel de riesgo medio."
   ]
  },
  {
   "cell_type": "markdown",
   "metadata": {},
   "source": [
    "Veamos ahora, cuál puntuación le correponde a cada empresa."
   ]
  },
  {
   "cell_type": "code",
   "execution_count": 315,
   "metadata": {},
   "outputs": [
    {
     "data": {
      "text/html": [
       "<div>\n",
       "<style scoped>\n",
       "    .dataframe tbody tr th:only-of-type {\n",
       "        vertical-align: middle;\n",
       "    }\n",
       "\n",
       "    .dataframe tbody tr th {\n",
       "        vertical-align: top;\n",
       "    }\n",
       "\n",
       "    .dataframe thead th {\n",
       "        text-align: right;\n",
       "    }\n",
       "</style>\n",
       "<table border=\"1\" class=\"dataframe\">\n",
       "  <thead>\n",
       "    <tr style=\"text-align: right;\">\n",
       "      <th></th>\n",
       "      <th>Name</th>\n",
       "      <th>Sustnlytcs ESG Rsk Scr</th>\n",
       "    </tr>\n",
       "  </thead>\n",
       "  <tbody>\n",
       "    <tr>\n",
       "      <th>9</th>\n",
       "      <td>TCL Electronics Holdings Ltd</td>\n",
       "      <td>0.00</td>\n",
       "    </tr>\n",
       "    <tr>\n",
       "      <th>10</th>\n",
       "      <td>Skyworth Group Ltd</td>\n",
       "      <td>0.00</td>\n",
       "    </tr>\n",
       "    <tr>\n",
       "      <th>11</th>\n",
       "      <td>Konka Group Co Ltd</td>\n",
       "      <td>0.00</td>\n",
       "    </tr>\n",
       "    <tr>\n",
       "      <th>12</th>\n",
       "      <td>GoPro Inc</td>\n",
       "      <td>0.00</td>\n",
       "    </tr>\n",
       "    <tr>\n",
       "      <th>13</th>\n",
       "      <td>Funai Electric Co Ltd</td>\n",
       "      <td>0.00</td>\n",
       "    </tr>\n",
       "    <tr>\n",
       "      <th>3</th>\n",
       "      <td>Logitech International SA</td>\n",
       "      <td>8.51</td>\n",
       "    </tr>\n",
       "    <tr>\n",
       "      <th>1</th>\n",
       "      <td>Nintendo Co Ltd</td>\n",
       "      <td>15.62</td>\n",
       "    </tr>\n",
       "    <tr>\n",
       "      <th>6</th>\n",
       "      <td>Nikon Corp</td>\n",
       "      <td>16.73</td>\n",
       "    </tr>\n",
       "    <tr>\n",
       "      <th>4</th>\n",
       "      <td>LG Electronics Inc</td>\n",
       "      <td>20.45</td>\n",
       "    </tr>\n",
       "    <tr>\n",
       "      <th>8</th>\n",
       "      <td>Casio Computer Co Ltd</td>\n",
       "      <td>20.55</td>\n",
       "    </tr>\n",
       "    <tr>\n",
       "      <th>5</th>\n",
       "      <td>Sharp Corp/Japan</td>\n",
       "      <td>20.92</td>\n",
       "    </tr>\n",
       "    <tr>\n",
       "      <th>2</th>\n",
       "      <td>Garmin Ltd</td>\n",
       "      <td>20.99</td>\n",
       "    </tr>\n",
       "    <tr>\n",
       "      <th>7</th>\n",
       "      <td>Hisense Visual Technology Co L</td>\n",
       "      <td>NaN</td>\n",
       "    </tr>\n",
       "  </tbody>\n",
       "</table>\n",
       "</div>"
      ],
      "text/plain": [
       "                              Name  Sustnlytcs ESG Rsk Scr\n",
       "9     TCL Electronics Holdings Ltd                    0.00\n",
       "10              Skyworth Group Ltd                    0.00\n",
       "11              Konka Group Co Ltd                    0.00\n",
       "12                       GoPro Inc                    0.00\n",
       "13           Funai Electric Co Ltd                    0.00\n",
       "3        Logitech International SA                    8.51\n",
       "1                  Nintendo Co Ltd                   15.62\n",
       "6                       Nikon Corp                   16.73\n",
       "4               LG Electronics Inc                   20.45\n",
       "8            Casio Computer Co Ltd                   20.55\n",
       "5                 Sharp Corp/Japan                   20.92\n",
       "2                       Garmin Ltd                   20.99\n",
       "7   Hisense Visual Technology Co L                     NaN"
      ]
     },
     "execution_count": 315,
     "metadata": {},
     "output_type": "execute_result"
    }
   ],
   "source": [
    "sustnlytcsempresa = esg[['Name', 'Sustnlytcs ESG Rsk Scr']].sort_values(by='Sustnlytcs ESG Rsk Scr', ascending=True)\n",
    "sustnlytcsempresa"
   ]
  },
  {
   "cell_type": "markdown",
   "metadata": {},
   "source": [
    "Podemos observar que las compañías TCL Electronics Holdings Ltd, Skyworth Group Ltd, Konka Group Co Ltd, GoPro Inc y Funai Electric Co Ltd presentan la mejor puntuación posible, indicando así que gestionan los riesgos ESG de manera bastante efectiva. Por otra parte, LG Electronics Inc, Casio Computer Co Ltd, Sharp Corp/Japan y Garmin Ltd\tparecen enfretar deficiencias altas en la gestión de los riesgos ESG. De las demás compañías se puede decir que están en nivel medio."
   ]
  },
  {
   "cell_type": "markdown",
   "metadata": {},
   "source": [
    "Después de haber visualizado esta tabla, notamos que hay un dato NA, por tanto, vamos a realizar su imputación."
   ]
  },
  {
   "cell_type": "markdown",
   "metadata": {},
   "source": [
    "Primero analicemos la normalidad de la variable."
   ]
  },
  {
   "cell_type": "markdown",
   "metadata": {},
   "source": [
    "Para esto haremos uso del test de Shapiro-Wilk.\n",
    "\n",
    "H0: Datos siguen distribución normal.\n",
    "\n",
    "H1: Datos no siguen distribución normal."
   ]
  },
  {
   "cell_type": "code",
   "execution_count": 316,
   "metadata": {},
   "outputs": [
    {
     "name": "stdout",
     "output_type": "stream",
     "text": [
      "Valor p: 0.004365820094017453\n",
      "Los datos no parecen seguir una distribución normal\n"
     ]
    }
   ],
   "source": [
    "stat, p_valor = shapiro(esg['Sustnlytcs ESG Rsk Scr'].dropna())\n",
    "print(f'Valor p: {p_valor}')\n",
    "\n",
    "alpha = 0.05\n",
    "if p_valor > alpha:\n",
    "    print(\"Los datos parecen seguir una distribución normal\")\n",
    "else:\n",
    "    print(\"Los datos no parecen seguir una distribución normal\")"
   ]
  },
  {
   "cell_type": "markdown",
   "metadata": {},
   "source": [
    "Se nos indica que los datos no siguen una distribución normal por lo que se imputará con la mediana."
   ]
  },
  {
   "cell_type": "code",
   "execution_count": 317,
   "metadata": {},
   "outputs": [],
   "source": [
    "imputer_median = SimpleImputer(strategy='median')\n",
    "esg['Sustnlytcs ESG Rsk Scr'] = imputer_median.fit_transform(esg[['Sustnlytcs ESG Rsk Scr']])"
   ]
  },
  {
   "cell_type": "code",
   "execution_count": 318,
   "metadata": {},
   "outputs": [
    {
     "data": {
      "text/plain": [
       "1     15.620\n",
       "2     20.990\n",
       "3      8.510\n",
       "4     20.450\n",
       "5     20.920\n",
       "6     16.730\n",
       "7     12.065\n",
       "8     20.550\n",
       "9      0.000\n",
       "10     0.000\n",
       "11     0.000\n",
       "12     0.000\n",
       "13     0.000\n",
       "Name: Sustnlytcs ESG Rsk Scr, dtype: float64"
      ]
     },
     "execution_count": 318,
     "metadata": {},
     "output_type": "execute_result"
    }
   ],
   "source": [
    "esg['Sustnlytcs ESG Rsk Scr']"
   ]
  },
  {
   "cell_type": "markdown",
   "metadata": {},
   "source": [
    "Ahora estudiemos los atípicos."
   ]
  },
  {
   "cell_type": "code",
   "execution_count": 319,
   "metadata": {},
   "outputs": [
    {
     "data": {
      "text/plain": [
       "{'whiskers': [<matplotlib.lines.Line2D at 0x1dc5ccfa2e0>,\n",
       "  <matplotlib.lines.Line2D at 0x1dc5ccfa580>],\n",
       " 'caps': [<matplotlib.lines.Line2D at 0x1dc5ccfa820>,\n",
       "  <matplotlib.lines.Line2D at 0x1dc5ccfaac0>],\n",
       " 'boxes': [<matplotlib.lines.Line2D at 0x1dc5ccecfd0>],\n",
       " 'medians': [<matplotlib.lines.Line2D at 0x1dc5ccfad60>],\n",
       " 'fliers': [<matplotlib.lines.Line2D at 0x1dc5ccfafd0>],\n",
       " 'means': []}"
      ]
     },
     "execution_count": 319,
     "metadata": {},
     "output_type": "execute_result"
    },
    {
     "data": {
      "image/png": "[encoded data removed]",
      "text/plain": [
       "<Figure size 640x480 with 1 Axes>"
      ]
     },
     "metadata": {},
     "output_type": "display_data"
    }
   ],
   "source": [
    "plt.boxplot(esg['Sustnlytcs ESG Rsk Scr'])"
   ]
  },
  {
   "cell_type": "markdown",
   "metadata": {},
   "source": [
    "Obsrvamos que no hay datos atípicos.\n"
   ]
  },
  {
   "cell_type": "markdown",
   "metadata": {},
   "source": [
    "### ISS QualSc"
   ]
  },
  {
   "cell_type": "markdown",
   "metadata": {},
   "source": [
    "Con esta variable podemos analizar las prácticas de governanza corporativa de una empresa."
   ]
  },
  {
   "cell_type": "markdown",
   "metadata": {},
   "source": [
    "Comenzaremos pasando los valores a tipo numérico."
   ]
  },
  {
   "cell_type": "code",
   "execution_count": 320,
   "metadata": {},
   "outputs": [],
   "source": [
    "esg['ISS QualSc'] = esg['ISS QualSc'].astype(float).astype('Int64')"
   ]
  },
  {
   "cell_type": "markdown",
   "metadata": {},
   "source": [
    "Ahora analicemos las medidas descriptivas para concer más sobre esta."
   ]
  },
  {
   "cell_type": "code",
   "execution_count": 321,
   "metadata": {},
   "outputs": [
    {
     "data": {
      "text/plain": [
       "count         8.0\n",
       "mean        4.875\n",
       "std      2.748376\n",
       "min           1.0\n",
       "25%           3.5\n",
       "50%           4.5\n",
       "75%           6.5\n",
       "max           9.0\n",
       "Name: ISS QualSc, dtype: Float64"
      ]
     },
     "execution_count": 321,
     "metadata": {},
     "output_type": "execute_result"
    }
   ],
   "source": [
    "esg['ISS QualSc'].describe()"
   ]
  },
  {
   "cell_type": "markdown",
   "metadata": {},
   "source": [
    "Teniendo en cuenta que una puntuación de 1 indica que la empresa está en el 10% inferior en términos de riesgo de gobernanza (es decir, con un riesgo muy bajo) y una puntuación de 10 indica que está en el 10% superior (es decir, con un riesgo muy alto). Se puede afirmar que, en promedio, las empresas están relativamente bien pues la media es de 4.87 con una desviación estandar de 2.74. \n",
    "\n",
    "Podemos observar que hay por lo menos una empresa con puntaje de 1, lo que quiere decir que maneja bien su gobernanza mientras que hay por lo menos una con 9 que tiene que mejorar."
   ]
  },
  {
   "cell_type": "code",
   "execution_count": 322,
   "metadata": {},
   "outputs": [
    {
     "data": {
      "text/html": [
       "<div>\n",
       "<style scoped>\n",
       "    .dataframe tbody tr th:only-of-type {\n",
       "        vertical-align: middle;\n",
       "    }\n",
       "\n",
       "    .dataframe tbody tr th {\n",
       "        vertical-align: top;\n",
       "    }\n",
       "\n",
       "    .dataframe thead th {\n",
       "        text-align: right;\n",
       "    }\n",
       "</style>\n",
       "<table border=\"1\" class=\"dataframe\">\n",
       "  <thead>\n",
       "    <tr style=\"text-align: right;\">\n",
       "      <th></th>\n",
       "      <th>Name</th>\n",
       "      <th>ISS QualSc</th>\n",
       "    </tr>\n",
       "  </thead>\n",
       "  <tbody>\n",
       "    <tr>\n",
       "      <th>2</th>\n",
       "      <td>Garmin Ltd</td>\n",
       "      <td>9</td>\n",
       "    </tr>\n",
       "    <tr>\n",
       "      <th>12</th>\n",
       "      <td>GoPro Inc</td>\n",
       "      <td>8</td>\n",
       "    </tr>\n",
       "    <tr>\n",
       "      <th>8</th>\n",
       "      <td>Casio Computer Co Ltd</td>\n",
       "      <td>6</td>\n",
       "    </tr>\n",
       "    <tr>\n",
       "      <th>4</th>\n",
       "      <td>LG Electronics Inc</td>\n",
       "      <td>5</td>\n",
       "    </tr>\n",
       "    <tr>\n",
       "      <th>1</th>\n",
       "      <td>Nintendo Co Ltd</td>\n",
       "      <td>4</td>\n",
       "    </tr>\n",
       "    <tr>\n",
       "      <th>5</th>\n",
       "      <td>Sharp Corp/Japan</td>\n",
       "      <td>4</td>\n",
       "    </tr>\n",
       "    <tr>\n",
       "      <th>6</th>\n",
       "      <td>Nikon Corp</td>\n",
       "      <td>2</td>\n",
       "    </tr>\n",
       "    <tr>\n",
       "      <th>3</th>\n",
       "      <td>Logitech International SA</td>\n",
       "      <td>1</td>\n",
       "    </tr>\n",
       "    <tr>\n",
       "      <th>7</th>\n",
       "      <td>Hisense Visual Technology Co L</td>\n",
       "      <td>&lt;NA&gt;</td>\n",
       "    </tr>\n",
       "    <tr>\n",
       "      <th>9</th>\n",
       "      <td>TCL Electronics Holdings Ltd</td>\n",
       "      <td>&lt;NA&gt;</td>\n",
       "    </tr>\n",
       "    <tr>\n",
       "      <th>10</th>\n",
       "      <td>Skyworth Group Ltd</td>\n",
       "      <td>&lt;NA&gt;</td>\n",
       "    </tr>\n",
       "    <tr>\n",
       "      <th>11</th>\n",
       "      <td>Konka Group Co Ltd</td>\n",
       "      <td>&lt;NA&gt;</td>\n",
       "    </tr>\n",
       "    <tr>\n",
       "      <th>13</th>\n",
       "      <td>Funai Electric Co Ltd</td>\n",
       "      <td>&lt;NA&gt;</td>\n",
       "    </tr>\n",
       "  </tbody>\n",
       "</table>\n",
       "</div>"
      ],
      "text/plain": [
       "                              Name  ISS QualSc\n",
       "2                       Garmin Ltd           9\n",
       "12                       GoPro Inc           8\n",
       "8            Casio Computer Co Ltd           6\n",
       "4               LG Electronics Inc           5\n",
       "1                  Nintendo Co Ltd           4\n",
       "5                 Sharp Corp/Japan           4\n",
       "6                       Nikon Corp           2\n",
       "3        Logitech International SA           1\n",
       "7   Hisense Visual Technology Co L        <NA>\n",
       "9     TCL Electronics Holdings Ltd        <NA>\n",
       "10              Skyworth Group Ltd        <NA>\n",
       "11              Konka Group Co Ltd        <NA>\n",
       "13           Funai Electric Co Ltd        <NA>"
      ]
     },
     "execution_count": 322,
     "metadata": {},
     "output_type": "execute_result"
    }
   ],
   "source": [
    "riesgogobernanzaempresa = esg[['Name', 'ISS QualSc']].sort_values(by='ISS QualSc', ascending=False)\n",
    "riesgogobernanzaempresa"
   ]
  },
  {
   "cell_type": "markdown",
   "metadata": {},
   "source": [
    "Garmin Ltd, GoPro Inc y Casio Computer Co Ltd cuentan con las puntuaciones más altas.\n",
    "\n",
    "Ahora se imputarán los valores faltantes que se observan en la tabla.\n",
    "\n",
    "Para esto tenemos que analizar la normalidad."
   ]
  },
  {
   "cell_type": "code",
   "execution_count": 323,
   "metadata": {},
   "outputs": [
    {
     "name": "stdout",
     "output_type": "stream",
     "text": [
      "Valor p: 0.860602012994448\n",
      "Los datos parecen seguir una distribución normal\n"
     ]
    }
   ],
   "source": [
    "stat, p_valor = shapiro(esg['ISS QualSc'].dropna())\n",
    "print(f'Valor p: {p_valor}')\n",
    "\n",
    "alpha = 0.05\n",
    "if p_valor > alpha:\n",
    "    print(\"Los datos parecen seguir una distribución normal\")\n",
    "else:\n",
    "    print(\"Los datos no parecen seguir una distribución normal\")"
   ]
  },
  {
   "cell_type": "markdown",
   "metadata": {},
   "source": [
    "Dado que el p-valor es mayor que el alpha, se afirma que los datos parecen seguir distribución normal, por tanto la imputación se realizará con la media."
   ]
  },
  {
   "cell_type": "code",
   "execution_count": 324,
   "metadata": {},
   "outputs": [
    {
     "data": {
      "text/plain": [
       "1     4.000\n",
       "2     9.000\n",
       "3     1.000\n",
       "4     5.000\n",
       "5     4.000\n",
       "6     2.000\n",
       "7     4.875\n",
       "8     6.000\n",
       "9     4.875\n",
       "10    4.875\n",
       "11    4.875\n",
       "12    8.000\n",
       "13    4.875\n",
       "Name: ISS QualSc, dtype: float64"
      ]
     },
     "execution_count": 324,
     "metadata": {},
     "output_type": "execute_result"
    }
   ],
   "source": [
    "imputer_mean = SimpleImputer(strategy='mean')\n",
    "esg['ISS QualSc'] = imputer_mean.fit_transform(esg[['ISS QualSc']])\n",
    "esg['ISS QualSc']"
   ]
  },
  {
   "cell_type": "markdown",
   "metadata": {},
   "source": [
    "Ahora, procederemos a ver si hay datos atípicos."
   ]
  },
  {
   "cell_type": "code",
   "execution_count": 325,
   "metadata": {},
   "outputs": [
    {
     "data": {
      "text/plain": [
       "{'whiskers': [<matplotlib.lines.Line2D at 0x1dc5cd1cc40>,\n",
       "  <matplotlib.lines.Line2D at 0x1dc5cd1cee0>],\n",
       " 'caps': [<matplotlib.lines.Line2D at 0x1dc5cd2b1c0>,\n",
       "  <matplotlib.lines.Line2D at 0x1dc5cd2b460>],\n",
       " 'boxes': [<matplotlib.lines.Line2D at 0x1dc5cd1c9a0>],\n",
       " 'medians': [<matplotlib.lines.Line2D at 0x1dc5cd2b700>],\n",
       " 'fliers': [<matplotlib.lines.Line2D at 0x1dc5cd2b9a0>],\n",
       " 'means': []}"
      ]
     },
     "execution_count": 325,
     "metadata": {},
     "output_type": "execute_result"
    },
    {
     "data": {
      "image/png": "[encoded data removed]",
      "text/plain": [
       "<Figure size 640x480 with 1 Axes>"
      ]
     },
     "metadata": {},
     "output_type": "display_data"
    }
   ],
   "source": [
    "plt.boxplot(esg['ISS QualSc'])"
   ]
  },
  {
   "cell_type": "markdown",
   "metadata": {},
   "source": [
    "Observamos así la presencia de datos atípicos, lo cual podemos suponer que se debe a la imputación realizada."
   ]
  },
  {
   "cell_type": "markdown",
   "metadata": {},
   "source": [
    "### ESG Disc Score"
   ]
  },
  {
   "cell_type": "markdown",
   "metadata": {},
   "source": [
    "Proporciona visión detallada de impacto ESG de una empresa."
   ]
  },
  {
   "cell_type": "code",
   "execution_count": 326,
   "metadata": {},
   "outputs": [],
   "source": [
    "esg['ESG Disc Score'] = esg['ESG Disc Score'].astype(float)"
   ]
  },
  {
   "cell_type": "code",
   "execution_count": 327,
   "metadata": {},
   "outputs": [
    {
     "data": {
      "text/html": [
       "<div>\n",
       "<style scoped>\n",
       "    .dataframe tbody tr th:only-of-type {\n",
       "        vertical-align: middle;\n",
       "    }\n",
       "\n",
       "    .dataframe tbody tr th {\n",
       "        vertical-align: top;\n",
       "    }\n",
       "\n",
       "    .dataframe thead th {\n",
       "        text-align: right;\n",
       "    }\n",
       "</style>\n",
       "<table border=\"1\" class=\"dataframe\">\n",
       "  <thead>\n",
       "    <tr style=\"text-align: right;\">\n",
       "      <th></th>\n",
       "      <th>Name</th>\n",
       "      <th>ESG Disc Score</th>\n",
       "    </tr>\n",
       "  </thead>\n",
       "  <tbody>\n",
       "    <tr>\n",
       "      <th>7</th>\n",
       "      <td>Hisense Visual Technology Co L</td>\n",
       "      <td>44.63</td>\n",
       "    </tr>\n",
       "    <tr>\n",
       "      <th>12</th>\n",
       "      <td>GoPro Inc</td>\n",
       "      <td>41.28</td>\n",
       "    </tr>\n",
       "    <tr>\n",
       "      <th>13</th>\n",
       "      <td>Funai Electric Co Ltd</td>\n",
       "      <td>32.52</td>\n",
       "    </tr>\n",
       "    <tr>\n",
       "      <th>1</th>\n",
       "      <td>Nintendo Co Ltd</td>\n",
       "      <td>NaN</td>\n",
       "    </tr>\n",
       "    <tr>\n",
       "      <th>2</th>\n",
       "      <td>Garmin Ltd</td>\n",
       "      <td>NaN</td>\n",
       "    </tr>\n",
       "    <tr>\n",
       "      <th>3</th>\n",
       "      <td>Logitech International SA</td>\n",
       "      <td>NaN</td>\n",
       "    </tr>\n",
       "    <tr>\n",
       "      <th>4</th>\n",
       "      <td>LG Electronics Inc</td>\n",
       "      <td>NaN</td>\n",
       "    </tr>\n",
       "    <tr>\n",
       "      <th>5</th>\n",
       "      <td>Sharp Corp/Japan</td>\n",
       "      <td>NaN</td>\n",
       "    </tr>\n",
       "    <tr>\n",
       "      <th>6</th>\n",
       "      <td>Nikon Corp</td>\n",
       "      <td>NaN</td>\n",
       "    </tr>\n",
       "    <tr>\n",
       "      <th>8</th>\n",
       "      <td>Casio Computer Co Ltd</td>\n",
       "      <td>NaN</td>\n",
       "    </tr>\n",
       "    <tr>\n",
       "      <th>9</th>\n",
       "      <td>TCL Electronics Holdings Ltd</td>\n",
       "      <td>NaN</td>\n",
       "    </tr>\n",
       "    <tr>\n",
       "      <th>10</th>\n",
       "      <td>Skyworth Group Ltd</td>\n",
       "      <td>NaN</td>\n",
       "    </tr>\n",
       "    <tr>\n",
       "      <th>11</th>\n",
       "      <td>Konka Group Co Ltd</td>\n",
       "      <td>NaN</td>\n",
       "    </tr>\n",
       "  </tbody>\n",
       "</table>\n",
       "</div>"
      ],
      "text/plain": [
       "                              Name  ESG Disc Score\n",
       "7   Hisense Visual Technology Co L           44.63\n",
       "12                       GoPro Inc           41.28\n",
       "13           Funai Electric Co Ltd           32.52\n",
       "1                  Nintendo Co Ltd             NaN\n",
       "2                       Garmin Ltd             NaN\n",
       "3        Logitech International SA             NaN\n",
       "4               LG Electronics Inc             NaN\n",
       "5                 Sharp Corp/Japan             NaN\n",
       "6                       Nikon Corp             NaN\n",
       "8            Casio Computer Co Ltd             NaN\n",
       "9     TCL Electronics Holdings Ltd             NaN\n",
       "10              Skyworth Group Ltd             NaN\n",
       "11              Konka Group Co Ltd             NaN"
      ]
     },
     "execution_count": 327,
     "metadata": {},
     "output_type": "execute_result"
    }
   ],
   "source": [
    "esgempresa = esg[['Name', 'ESG Disc Score']].sort_values(by='ESG Disc Score', ascending=False)\n",
    "esgempresa"
   ]
  },
  {
   "cell_type": "markdown",
   "metadata": {},
   "source": [
    "Para esta variable en particular, vamos a realizar una aclaración.\n",
    "\n",
    "Es evidente que más del 50% de la columna es de tipo NA, sin embargo, esta es una variable,a nuestro parecer, bastante importante por lo que en la práctica de este EDA los imputaremos.\n",
    "\n",
    "Tenemos la idea de acudir a nuestra tutora con el fin de ver si es posible encontrar los valores reales de esta variable para las empresas."
   ]
  },
  {
   "cell_type": "markdown",
   "metadata": {},
   "source": [
    "Seguiremos la práctica de evaluar la normalidad primero."
   ]
  },
  {
   "cell_type": "code",
   "execution_count": 328,
   "metadata": {},
   "outputs": [
    {
     "name": "stdout",
     "output_type": "stream",
     "text": [
      "Valor p: 0.5179076952740529\n",
      "Los datos parecen seguir una distribución normal\n"
     ]
    }
   ],
   "source": [
    "stat, p_valor = shapiro(esg['ESG Disc Score'].dropna())\n",
    "print(f'Valor p: {p_valor}')\n",
    "\n",
    "alpha = 0.05\n",
    "if p_valor > alpha:\n",
    "    print(\"Los datos parecen seguir una distribución normal\")\n",
    "else:\n",
    "    print(\"Los datos no parecen seguir una distribución normal\")"
   ]
  },
  {
   "cell_type": "code",
   "execution_count": 329,
   "metadata": {},
   "outputs": [],
   "source": [
    "imputer_mean = SimpleImputer(strategy='mean')\n",
    "esg['ESG Disc Score'] = imputer_mean.fit_transform(esg[['ESG Disc Score']])"
   ]
  },
  {
   "cell_type": "code",
   "execution_count": 330,
   "metadata": {},
   "outputs": [
    {
     "data": {
      "text/plain": [
       "1     39.476667\n",
       "2     39.476667\n",
       "3     39.476667\n",
       "4     39.476667\n",
       "5     39.476667\n",
       "6     39.476667\n",
       "7     44.630000\n",
       "8     39.476667\n",
       "9     39.476667\n",
       "10    39.476667\n",
       "11    39.476667\n",
       "12    41.280000\n",
       "13    32.520000\n",
       "Name: ESG Disc Score, dtype: float64"
      ]
     },
     "execution_count": 330,
     "metadata": {},
     "output_type": "execute_result"
    }
   ],
   "source": [
    "esg['ESG Disc Score']"
   ]
  },
  {
   "cell_type": "markdown",
   "metadata": {},
   "source": [
    "### % Indep Directors"
   ]
  },
  {
   "cell_type": "code",
   "execution_count": 331,
   "metadata": {},
   "outputs": [],
   "source": [
    "esg['% Indep Directors'] = esg['% Indep Directors'].astype(float)"
   ]
  },
  {
   "cell_type": "code",
   "execution_count": 332,
   "metadata": {},
   "outputs": [
    {
     "data": {
      "text/plain": [
       "count     11.000000\n",
       "mean      59.229091\n",
       "std       20.549176\n",
       "min       37.500000\n",
       "25%       44.155000\n",
       "50%       54.550000\n",
       "75%       66.670000\n",
       "max      100.000000\n",
       "Name: % Indep Directors, dtype: float64"
      ]
     },
     "execution_count": 332,
     "metadata": {},
     "output_type": "execute_result"
    }
   ],
   "source": [
    "esg['% Indep Directors'].describe()"
   ]
  },
  {
   "cell_type": "markdown",
   "metadata": {},
   "source": [
    "Esta variable brinda el porcentaje de directores independientes, los cuales son importantes pues sus decisiones de mejoras pueden ser más responsables y objetivas en el área de la gobernanza.\n",
    "\n",
    "Vemos que el promedio de este porcentaje evaluado en todas las empresas es de 59.22 con una variabilidad considerable de 20.54. Dicha desviación podemos decir que se debe a la diferencia entre el valor mínimo y máximo, 37.5 y 100 respectivamente, que están un poco alejados."
   ]
  },
  {
   "cell_type": "code",
   "execution_count": 333,
   "metadata": {},
   "outputs": [
    {
     "data": {
      "text/html": [
       "<div>\n",
       "<style scoped>\n",
       "    .dataframe tbody tr th:only-of-type {\n",
       "        vertical-align: middle;\n",
       "    }\n",
       "\n",
       "    .dataframe tbody tr th {\n",
       "        vertical-align: top;\n",
       "    }\n",
       "\n",
       "    .dataframe thead th {\n",
       "        text-align: right;\n",
       "    }\n",
       "</style>\n",
       "<table border=\"1\" class=\"dataframe\">\n",
       "  <thead>\n",
       "    <tr style=\"text-align: right;\">\n",
       "      <th></th>\n",
       "      <th>Name</th>\n",
       "      <th>% Indep Directors</th>\n",
       "      <th>ISS QualSc</th>\n",
       "    </tr>\n",
       "  </thead>\n",
       "  <tbody>\n",
       "    <tr>\n",
       "      <th>7</th>\n",
       "      <td>Hisense Visual Technology Co L</td>\n",
       "      <td>37.50</td>\n",
       "      <td>4.875</td>\n",
       "    </tr>\n",
       "    <tr>\n",
       "      <th>10</th>\n",
       "      <td>Skyworth Group Ltd</td>\n",
       "      <td>37.50</td>\n",
       "      <td>4.875</td>\n",
       "    </tr>\n",
       "    <tr>\n",
       "      <th>13</th>\n",
       "      <td>Funai Electric Co Ltd</td>\n",
       "      <td>42.86</td>\n",
       "      <td>4.875</td>\n",
       "    </tr>\n",
       "    <tr>\n",
       "      <th>8</th>\n",
       "      <td>Casio Computer Co Ltd</td>\n",
       "      <td>45.45</td>\n",
       "      <td>6.000</td>\n",
       "    </tr>\n",
       "    <tr>\n",
       "      <th>1</th>\n",
       "      <td>Nintendo Co Ltd</td>\n",
       "      <td>46.15</td>\n",
       "      <td>4.000</td>\n",
       "    </tr>\n",
       "    <tr>\n",
       "      <th>6</th>\n",
       "      <td>Nikon Corp</td>\n",
       "      <td>54.55</td>\n",
       "      <td>2.000</td>\n",
       "    </tr>\n",
       "    <tr>\n",
       "      <th>2</th>\n",
       "      <td>Garmin Ltd</td>\n",
       "      <td>66.67</td>\n",
       "      <td>9.000</td>\n",
       "    </tr>\n",
       "    <tr>\n",
       "      <th>4</th>\n",
       "      <td>LG Electronics Inc</td>\n",
       "      <td>66.67</td>\n",
       "      <td>5.000</td>\n",
       "    </tr>\n",
       "    <tr>\n",
       "      <th>5</th>\n",
       "      <td>Sharp Corp/Japan</td>\n",
       "      <td>66.67</td>\n",
       "      <td>4.000</td>\n",
       "    </tr>\n",
       "    <tr>\n",
       "      <th>12</th>\n",
       "      <td>GoPro Inc</td>\n",
       "      <td>87.50</td>\n",
       "      <td>8.000</td>\n",
       "    </tr>\n",
       "    <tr>\n",
       "      <th>3</th>\n",
       "      <td>Logitech International SA</td>\n",
       "      <td>100.00</td>\n",
       "      <td>1.000</td>\n",
       "    </tr>\n",
       "    <tr>\n",
       "      <th>9</th>\n",
       "      <td>TCL Electronics Holdings Ltd</td>\n",
       "      <td>NaN</td>\n",
       "      <td>4.875</td>\n",
       "    </tr>\n",
       "    <tr>\n",
       "      <th>11</th>\n",
       "      <td>Konka Group Co Ltd</td>\n",
       "      <td>NaN</td>\n",
       "      <td>4.875</td>\n",
       "    </tr>\n",
       "  </tbody>\n",
       "</table>\n",
       "</div>"
      ],
      "text/plain": [
       "                              Name  % Indep Directors  ISS QualSc\n",
       "7   Hisense Visual Technology Co L              37.50       4.875\n",
       "10              Skyworth Group Ltd              37.50       4.875\n",
       "13           Funai Electric Co Ltd              42.86       4.875\n",
       "8            Casio Computer Co Ltd              45.45       6.000\n",
       "1                  Nintendo Co Ltd              46.15       4.000\n",
       "6                       Nikon Corp              54.55       2.000\n",
       "2                       Garmin Ltd              66.67       9.000\n",
       "4               LG Electronics Inc              66.67       5.000\n",
       "5                 Sharp Corp/Japan              66.67       4.000\n",
       "12                       GoPro Inc              87.50       8.000\n",
       "3        Logitech International SA             100.00       1.000\n",
       "9     TCL Electronics Holdings Ltd                NaN       4.875\n",
       "11              Konka Group Co Ltd                NaN       4.875"
      ]
     },
     "execution_count": 333,
     "metadata": {},
     "output_type": "execute_result"
    }
   ],
   "source": [
    "porcindempresa = esg[['Name', '% Indep Directors', 'ISS QualSc']].sort_values(by='% Indep Directors', ascending=True)\n",
    "porcindempresa "
   ]
  },
  {
   "cell_type": "code",
   "execution_count": 334,
   "metadata": {},
   "outputs": [
    {
     "data": {
      "image/png": "[encoded data removed]",
      "text/plain": [
       "<Figure size 1000x600 with 1 Axes>"
      ]
     },
     "metadata": {},
     "output_type": "display_data"
    }
   ],
   "source": [
    "plt.figure(figsize=(10, 6))\n",
    "sns.scatterplot(x=esg['% Indep Directors'], y=esg['ISS QualSc'], data=esg, marker='o', color='blue')\n",
    "\n",
    "plt.title('Relación entre Porcentaje de Directores Independientes y ISS QualityScore')\n",
    "plt.xlabel('Porcentaje de Directores Independientes')\n",
    "plt.ylabel('ISS QualityScore')\n",
    "plt.grid(True)\n",
    "plt.show()\n"
   ]
  },
  {
   "cell_type": "markdown",
   "metadata": {},
   "source": [
    "Vemos que la medida de qué tan buena es la gobernanza de cada empresa no guarda mucha relación con el porcentaje de directores independientes."
   ]
  },
  {
   "cell_type": "markdown",
   "metadata": {},
   "source": [
    "Ahora imputaremos los datos atípicos."
   ]
  },
  {
   "cell_type": "markdown",
   "metadata": {},
   "source": [
    "Para esto haremos uso del test de Shapiro-Wilk.\n",
    "\n",
    "H0: Datos siguen distribución normal.\n",
    "\n",
    "H1: Datos no siguen distribución normal."
   ]
  },
  {
   "cell_type": "code",
   "execution_count": 335,
   "metadata": {},
   "outputs": [
    {
     "name": "stdout",
     "output_type": "stream",
     "text": [
      "Valor p: 0.15444935232682333\n",
      "Los datos parecen seguir una distribución normal\n"
     ]
    }
   ],
   "source": [
    "stat, p_valor = shapiro(esg['% Indep Directors'].dropna())\n",
    "print(f'Valor p: {p_valor}')\n",
    "\n",
    "alpha = 0.05\n",
    "if p_valor > alpha:\n",
    "    print(\"Los datos parecen seguir una distribución normal\")\n",
    "else:\n",
    "    print(\"Los datos no parecen seguir una distribución normal\")"
   ]
  },
  {
   "cell_type": "markdown",
   "metadata": {},
   "source": [
    "Por tanto, se tarbaja con la media."
   ]
  },
  {
   "cell_type": "code",
   "execution_count": 336,
   "metadata": {},
   "outputs": [],
   "source": [
    "imputer_mean = SimpleImputer(strategy='mean')\n",
    "esg['% Indep Directors'] = imputer_mean.fit_transform(esg[['% Indep Directors']])"
   ]
  },
  {
   "cell_type": "code",
   "execution_count": 337,
   "metadata": {},
   "outputs": [
    {
     "data": {
      "text/plain": [
       "1      46.150000\n",
       "2      66.670000\n",
       "3     100.000000\n",
       "4      66.670000\n",
       "5      66.670000\n",
       "6      54.550000\n",
       "7      37.500000\n",
       "8      45.450000\n",
       "9      59.229091\n",
       "10     37.500000\n",
       "11     59.229091\n",
       "12     87.500000\n",
       "13     42.860000\n",
       "Name: % Indep Directors, dtype: float64"
      ]
     },
     "execution_count": 337,
     "metadata": {},
     "output_type": "execute_result"
    }
   ],
   "source": [
    "esg['% Indep Directors']"
   ]
  },
  {
   "cell_type": "markdown",
   "metadata": {},
   "source": [
    "En efecto, se realizó la imputación.\n",
    "\n",
    "Ahora veamos si hay datos atípicos."
   ]
  },
  {
   "cell_type": "code",
   "execution_count": 338,
   "metadata": {},
   "outputs": [
    {
     "data": {
      "text/plain": [
       "{'whiskers': [<matplotlib.lines.Line2D at 0x1dc5cdf1820>,\n",
       "  <matplotlib.lines.Line2D at 0x1dc5cdf1d30>],\n",
       " 'caps': [<matplotlib.lines.Line2D at 0x1dc5cdbf130>,\n",
       "  <matplotlib.lines.Line2D at 0x1dc5cdbf1c0>],\n",
       " 'boxes': [<matplotlib.lines.Line2D at 0x1dc5cdf1190>],\n",
       " 'medians': [<matplotlib.lines.Line2D at 0x1dc5b645c40>],\n",
       " 'fliers': [<matplotlib.lines.Line2D at 0x1dc5b9dfdf0>],\n",
       " 'means': []}"
      ]
     },
     "execution_count": 338,
     "metadata": {},
     "output_type": "execute_result"
    },
    {
     "data": {
      "image/png": "[encoded data removed]",
      "text/plain": [
       "<Figure size 640x480 with 1 Axes>"
      ]
     },
     "metadata": {},
     "output_type": "display_data"
    }
   ],
   "source": [
    "plt.boxplot(esg['% Indep Directors'])"
   ]
  },
  {
   "cell_type": "markdown",
   "metadata": {},
   "source": [
    "Vemos que se cuenta con único dato atípico siendo este superior e igual a 100. Es decir, el dato atípico es el 100% de directores independientes en la compañía Logitech International SA."
   ]
  },
  {
   "cell_type": "markdown",
   "metadata": {},
   "source": [
    "### % Women on Bd"
   ]
  },
  {
   "cell_type": "markdown",
   "metadata": {},
   "source": [
    "Cantidad de mujeres en la junta de la empresa. \n",
    "Este porcenaje puede ser importante para el criterio social."
   ]
  },
  {
   "cell_type": "code",
   "execution_count": 339,
   "metadata": {},
   "outputs": [],
   "source": [
    "esg['% Women on Bd'] = esg['% Women on Bd'].astype(float)"
   ]
  },
  {
   "cell_type": "code",
   "execution_count": 340,
   "metadata": {},
   "outputs": [
    {
     "data": {
      "text/plain": [
       "count    11.000000\n",
       "mean     19.013636\n",
       "std      11.970552\n",
       "min       0.000000\n",
       "25%      11.805000\n",
       "50%      16.670000\n",
       "75%      27.885000\n",
       "max      40.000000\n",
       "Name: % Women on Bd, dtype: float64"
      ]
     },
     "execution_count": 340,
     "metadata": {},
     "output_type": "execute_result"
    }
   ],
   "source": [
    "esg['% Women on Bd'].describe()"
   ]
  },
  {
   "cell_type": "markdown",
   "metadata": {},
   "source": [
    "Podemos ver que el porcentaje de mujeres en la junta es bastante pequeño (19%) lo que puede ser mal visto socialmente.\n",
    "Asimismo, el valor mínimo indica que alguna de las empresas no tienen presencia de mujeres y el porcentaje más alto es de apenas 40%.\n",
    "\n",
    "Veamos cuáles empresas presentan cada porcentaje."
   ]
  },
  {
   "cell_type": "code",
   "execution_count": 341,
   "metadata": {},
   "outputs": [
    {
     "data": {
      "text/html": [
       "<div>\n",
       "<style scoped>\n",
       "    .dataframe tbody tr th:only-of-type {\n",
       "        vertical-align: middle;\n",
       "    }\n",
       "\n",
       "    .dataframe tbody tr th {\n",
       "        vertical-align: top;\n",
       "    }\n",
       "\n",
       "    .dataframe thead th {\n",
       "        text-align: right;\n",
       "    }\n",
       "</style>\n",
       "<table border=\"1\" class=\"dataframe\">\n",
       "  <thead>\n",
       "    <tr style=\"text-align: right;\">\n",
       "      <th></th>\n",
       "      <th>Name</th>\n",
       "      <th>% Women on Bd</th>\n",
       "    </tr>\n",
       "  </thead>\n",
       "  <tbody>\n",
       "    <tr>\n",
       "      <th>13</th>\n",
       "      <td>Funai Electric Co Ltd</td>\n",
       "      <td>0.00</td>\n",
       "    </tr>\n",
       "    <tr>\n",
       "      <th>8</th>\n",
       "      <td>Casio Computer Co Ltd</td>\n",
       "      <td>9.09</td>\n",
       "    </tr>\n",
       "    <tr>\n",
       "      <th>5</th>\n",
       "      <td>Sharp Corp/Japan</td>\n",
       "      <td>11.11</td>\n",
       "    </tr>\n",
       "    <tr>\n",
       "      <th>7</th>\n",
       "      <td>Hisense Visual Technology Co L</td>\n",
       "      <td>12.50</td>\n",
       "    </tr>\n",
       "    <tr>\n",
       "      <th>10</th>\n",
       "      <td>Skyworth Group Ltd</td>\n",
       "      <td>12.50</td>\n",
       "    </tr>\n",
       "    <tr>\n",
       "      <th>4</th>\n",
       "      <td>LG Electronics Inc</td>\n",
       "      <td>16.67</td>\n",
       "    </tr>\n",
       "    <tr>\n",
       "      <th>6</th>\n",
       "      <td>Nikon Corp</td>\n",
       "      <td>18.18</td>\n",
       "    </tr>\n",
       "    <tr>\n",
       "      <th>12</th>\n",
       "      <td>GoPro Inc</td>\n",
       "      <td>25.00</td>\n",
       "    </tr>\n",
       "    <tr>\n",
       "      <th>1</th>\n",
       "      <td>Nintendo Co Ltd</td>\n",
       "      <td>30.77</td>\n",
       "    </tr>\n",
       "    <tr>\n",
       "      <th>2</th>\n",
       "      <td>Garmin Ltd</td>\n",
       "      <td>33.33</td>\n",
       "    </tr>\n",
       "    <tr>\n",
       "      <th>3</th>\n",
       "      <td>Logitech International SA</td>\n",
       "      <td>40.00</td>\n",
       "    </tr>\n",
       "    <tr>\n",
       "      <th>9</th>\n",
       "      <td>TCL Electronics Holdings Ltd</td>\n",
       "      <td>NaN</td>\n",
       "    </tr>\n",
       "    <tr>\n",
       "      <th>11</th>\n",
       "      <td>Konka Group Co Ltd</td>\n",
       "      <td>NaN</td>\n",
       "    </tr>\n",
       "  </tbody>\n",
       "</table>\n",
       "</div>"
      ],
      "text/plain": [
       "                              Name  % Women on Bd\n",
       "13           Funai Electric Co Ltd           0.00\n",
       "8            Casio Computer Co Ltd           9.09\n",
       "5                 Sharp Corp/Japan          11.11\n",
       "7   Hisense Visual Technology Co L          12.50\n",
       "10              Skyworth Group Ltd          12.50\n",
       "4               LG Electronics Inc          16.67\n",
       "6                       Nikon Corp          18.18\n",
       "12                       GoPro Inc          25.00\n",
       "1                  Nintendo Co Ltd          30.77\n",
       "2                       Garmin Ltd          33.33\n",
       "3        Logitech International SA          40.00\n",
       "9     TCL Electronics Holdings Ltd            NaN\n",
       "11              Konka Group Co Ltd            NaN"
      ]
     },
     "execution_count": 341,
     "metadata": {},
     "output_type": "execute_result"
    }
   ],
   "source": [
    "womjunempresa = esg[['Name', '% Women on Bd']].sort_values(by='% Women on Bd', ascending=True)\n",
    "womjunempresa"
   ]
  },
  {
   "cell_type": "markdown",
   "metadata": {},
   "source": [
    "Observamos que en general el porcentaje de mujeres en la junta es bastante bajo, el mayor de estos ni siquiera llega a 50% e incluso el menor que corresponde a la empresa Funai Electric Co Ltd es del 0%. Esto demuestra que en este tipo de empresas la participación de las mujeres es reducida."
   ]
  },
  {
   "cell_type": "markdown",
   "metadata": {},
   "source": [
    "Ahora, como se ve en la tabla, existen datos atípicos, por tanto, vamos a imputarlos, analizando antes su normalidad."
   ]
  },
  {
   "cell_type": "markdown",
   "metadata": {},
   "source": [
    "Para esto haremos uso del test de Shapiro-Wilk.\n",
    "\n",
    "H0: Datos siguen distribución normal.\n",
    "\n",
    "H1: Datos no siguen distribución normal."
   ]
  },
  {
   "cell_type": "code",
   "execution_count": 342,
   "metadata": {},
   "outputs": [
    {
     "name": "stdout",
     "output_type": "stream",
     "text": [
      "Valor p: 0.7573507648246522\n",
      "Los datos parecen seguir una distribución normal\n"
     ]
    }
   ],
   "source": [
    "stat, p_valor = shapiro(esg['% Women on Bd'].dropna())\n",
    "print(f'Valor p: {p_valor}')\n",
    "\n",
    "alpha = 0.05\n",
    "if p_valor > alpha:\n",
    "    print(\"Los datos parecen seguir una distribución normal\")\n",
    "else:\n",
    "    print(\"Los datos no parecen seguir una distribución normal\")"
   ]
  },
  {
   "cell_type": "markdown",
   "metadata": {},
   "source": [
    "Entonces, la imputación se hará con la media."
   ]
  },
  {
   "cell_type": "code",
   "execution_count": 343,
   "metadata": {},
   "outputs": [],
   "source": [
    "imputer_mean = SimpleImputer(strategy='mean')\n",
    "esg['% Women on Bd'] = imputer_mean.fit_transform(esg[['% Women on Bd']])"
   ]
  },
  {
   "cell_type": "code",
   "execution_count": 344,
   "metadata": {},
   "outputs": [
    {
     "data": {
      "text/plain": [
       "1     30.770000\n",
       "2     33.330000\n",
       "3     40.000000\n",
       "4     16.670000\n",
       "5     11.110000\n",
       "6     18.180000\n",
       "7     12.500000\n",
       "8      9.090000\n",
       "9     19.013636\n",
       "10    12.500000\n",
       "11    19.013636\n",
       "12    25.000000\n",
       "13     0.000000\n",
       "Name: % Women on Bd, dtype: float64"
      ]
     },
     "execution_count": 344,
     "metadata": {},
     "output_type": "execute_result"
    }
   ],
   "source": [
    "esg['% Women on Bd']"
   ]
  },
  {
   "cell_type": "markdown",
   "metadata": {},
   "source": [
    "Ahora, analicemos la presencia de datos atípicos."
   ]
  },
  {
   "cell_type": "code",
   "execution_count": 345,
   "metadata": {},
   "outputs": [
    {
     "data": {
      "text/plain": [
       "{'whiskers': [<matplotlib.lines.Line2D at 0x1dc5cc41d60>,\n",
       "  <matplotlib.lines.Line2D at 0x1dc5cc41100>],\n",
       " 'caps': [<matplotlib.lines.Line2D at 0x1dc5cc14910>,\n",
       "  <matplotlib.lines.Line2D at 0x1dc5cc14b80>],\n",
       " 'boxes': [<matplotlib.lines.Line2D at 0x1dc5cc41820>],\n",
       " 'medians': [<matplotlib.lines.Line2D at 0x1dc5cc14f70>],\n",
       " 'fliers': [<matplotlib.lines.Line2D at 0x1dc5cc14040>],\n",
       " 'means': []}"
      ]
     },
     "execution_count": 345,
     "metadata": {},
     "output_type": "execute_result"
    },
    {
     "data": {
      "image/png": "[encoded data removed]",
      "text/plain": [
       "<Figure size 640x480 with 1 Axes>"
      ]
     },
     "metadata": {},
     "output_type": "display_data"
    }
   ],
   "source": [
    "plt.boxplot(esg['% Women on Bd'])"
   ]
  },
  {
   "cell_type": "markdown",
   "metadata": {},
   "source": [
    "Vemos que no hay datos atípicos y que los valores parecen estar un poco balanceados."
   ]
  },
  {
   "cell_type": "markdown",
   "metadata": {},
   "source": [
    "### CEO Tnr AsOf FY End"
   ]
  },
  {
   "cell_type": "markdown",
   "metadata": {},
   "source": [
    "Indica cuántos años lleva el CEO en su puesto hasta la fecha de corte."
   ]
  },
  {
   "cell_type": "markdown",
   "metadata": {},
   "source": [
    "Lo primero que haremos es pasarlo a tipo numérico para poder analizar mejor los valores entre empresas."
   ]
  },
  {
   "cell_type": "code",
   "execution_count": 346,
   "metadata": {},
   "outputs": [],
   "source": [
    "esg['CEO Tnr AsOf FY End'] = esg['CEO Tnr AsOf FY End'].astype(float)"
   ]
  },
  {
   "cell_type": "markdown",
   "metadata": {},
   "source": [
    "Ahora, vamos a analizar algunas características descriptivas."
   ]
  },
  {
   "cell_type": "code",
   "execution_count": 347,
   "metadata": {},
   "outputs": [
    {
     "data": {
      "text/plain": [
       "count    11.000000\n",
       "mean      3.680909\n",
       "std       4.164907\n",
       "min       0.330000\n",
       "25%       0.960000\n",
       "50%       2.000000\n",
       "75%       4.330000\n",
       "max      12.080000\n",
       "Name: CEO Tnr AsOf FY End, dtype: float64"
      ]
     },
     "execution_count": 347,
     "metadata": {},
     "output_type": "execute_result"
    }
   ],
   "source": [
    "esg['CEO Tnr AsOf FY End'].describe()"
   ]
  },
  {
   "cell_type": "markdown",
   "metadata": {},
   "source": [
    "Esto quiere decir que el tiempo promedio de duración de los CEO's es de 3.68 años, 3.9 aproximado, e incluso vemos que el valor de la desviación estándar es superior dada la gran diferencia entre el dato mínimo de 0.33 años y el dato mayor de 12.08 años."
   ]
  },
  {
   "cell_type": "markdown",
   "metadata": {},
   "source": [
    "Ahora, veamos a cuál empresa corresponde cada una de estas duraciones."
   ]
  },
  {
   "cell_type": "code",
   "execution_count": 348,
   "metadata": {},
   "outputs": [
    {
     "data": {
      "text/html": [
       "<div>\n",
       "<style scoped>\n",
       "    .dataframe tbody tr th:only-of-type {\n",
       "        vertical-align: middle;\n",
       "    }\n",
       "\n",
       "    .dataframe tbody tr th {\n",
       "        vertical-align: top;\n",
       "    }\n",
       "\n",
       "    .dataframe thead th {\n",
       "        text-align: right;\n",
       "    }\n",
       "</style>\n",
       "<table border=\"1\" class=\"dataframe\">\n",
       "  <thead>\n",
       "    <tr style=\"text-align: right;\">\n",
       "      <th></th>\n",
       "      <th>Name</th>\n",
       "      <th>CEO Tnr AsOf FY End</th>\n",
       "    </tr>\n",
       "  </thead>\n",
       "  <tbody>\n",
       "    <tr>\n",
       "      <th>3</th>\n",
       "      <td>Logitech International SA</td>\n",
       "      <td>0.33</td>\n",
       "    </tr>\n",
       "    <tr>\n",
       "      <th>11</th>\n",
       "      <td>Konka Group Co Ltd</td>\n",
       "      <td>0.75</td>\n",
       "    </tr>\n",
       "    <tr>\n",
       "      <th>7</th>\n",
       "      <td>Hisense Visual Technology Co L</td>\n",
       "      <td>0.92</td>\n",
       "    </tr>\n",
       "    <tr>\n",
       "      <th>6</th>\n",
       "      <td>Nikon Corp</td>\n",
       "      <td>1.00</td>\n",
       "    </tr>\n",
       "    <tr>\n",
       "      <th>10</th>\n",
       "      <td>Skyworth Group Ltd</td>\n",
       "      <td>1.75</td>\n",
       "    </tr>\n",
       "    <tr>\n",
       "      <th>4</th>\n",
       "      <td>LG Electronics Inc</td>\n",
       "      <td>2.00</td>\n",
       "    </tr>\n",
       "    <tr>\n",
       "      <th>5</th>\n",
       "      <td>Sharp Corp/Japan</td>\n",
       "      <td>2.00</td>\n",
       "    </tr>\n",
       "    <tr>\n",
       "      <th>8</th>\n",
       "      <td>Casio Computer Co Ltd</td>\n",
       "      <td>2.83</td>\n",
       "    </tr>\n",
       "    <tr>\n",
       "      <th>1</th>\n",
       "      <td>Nintendo Co Ltd</td>\n",
       "      <td>5.83</td>\n",
       "    </tr>\n",
       "    <tr>\n",
       "      <th>2</th>\n",
       "      <td>Garmin Ltd</td>\n",
       "      <td>11.00</td>\n",
       "    </tr>\n",
       "    <tr>\n",
       "      <th>12</th>\n",
       "      <td>GoPro Inc</td>\n",
       "      <td>12.08</td>\n",
       "    </tr>\n",
       "    <tr>\n",
       "      <th>9</th>\n",
       "      <td>TCL Electronics Holdings Ltd</td>\n",
       "      <td>NaN</td>\n",
       "    </tr>\n",
       "    <tr>\n",
       "      <th>13</th>\n",
       "      <td>Funai Electric Co Ltd</td>\n",
       "      <td>NaN</td>\n",
       "    </tr>\n",
       "  </tbody>\n",
       "</table>\n",
       "</div>"
      ],
      "text/plain": [
       "                              Name  CEO Tnr AsOf FY End\n",
       "3        Logitech International SA                 0.33\n",
       "11              Konka Group Co Ltd                 0.75\n",
       "7   Hisense Visual Technology Co L                 0.92\n",
       "6                       Nikon Corp                 1.00\n",
       "10              Skyworth Group Ltd                 1.75\n",
       "4               LG Electronics Inc                 2.00\n",
       "5                 Sharp Corp/Japan                 2.00\n",
       "8            Casio Computer Co Ltd                 2.83\n",
       "1                  Nintendo Co Ltd                 5.83\n",
       "2                       Garmin Ltd                11.00\n",
       "12                       GoPro Inc                12.08\n",
       "9     TCL Electronics Holdings Ltd                  NaN\n",
       "13           Funai Electric Co Ltd                  NaN"
      ]
     },
     "execution_count": 348,
     "metadata": {},
     "output_type": "execute_result"
    }
   ],
   "source": [
    "durceoempresa = esg[['Name', 'CEO Tnr AsOf FY End']].sort_values(by='CEO Tnr AsOf FY End', ascending=True)\n",
    "durceoempresa"
   ]
  },
  {
   "cell_type": "markdown",
   "metadata": {},
   "source": [
    "Lo que podemos interpretar es que la empresa en donde el CEO duró menos tiempo es Logitech International SA. También se observa que en general la duración fue bastante baja, exceptuando a Garmin Ltd y GoPro Inc, en donde la duración de estos directivos fue de más de 10 años, y en las demás el máximo de casi 6 años."
   ]
  },
  {
   "cell_type": "markdown",
   "metadata": {},
   "source": [
    "Ahora veamos si existen datos faltantes"
   ]
  },
  {
   "cell_type": "markdown",
   "metadata": {},
   "source": [
    "Tal como se observa en la tabla, en efecto existen datos faltantes.\n",
    "\n",
    "Ahora bien, para realizar la imputación de estos primero toca evaluar su normalidad, lo cual haremos con el test de Shapiro-Wilk."
   ]
  },
  {
   "cell_type": "markdown",
   "metadata": {},
   "source": [
    "H0: Datos siguen distribución normal.\n",
    "\n",
    "H1: Datos no siguen distribución normal."
   ]
  },
  {
   "cell_type": "code",
   "execution_count": 349,
   "metadata": {},
   "outputs": [
    {
     "name": "stdout",
     "output_type": "stream",
     "text": [
      "Valor p: 0.0017857298931570308\n",
      "Los datos no parecen seguir una distribución normal\n"
     ]
    }
   ],
   "source": [
    "stat, p_valor = shapiro(esg['CEO Tnr AsOf FY End'].dropna())\n",
    "print(f'Valor p: {p_valor}')\n",
    "\n",
    "alpha = 0.05\n",
    "if p_valor > alpha:\n",
    "    print(\"Los datos parecen seguir una distribución normal\")\n",
    "else:\n",
    "    print(\"Los datos no parecen seguir una distribución normal\")"
   ]
  },
  {
   "cell_type": "markdown",
   "metadata": {},
   "source": [
    "Tal como se esperaba, debido a la gran dispersión de los datos entre sí, la muestra no sigue una distribución normal.\n",
    "\n",
    "Es decir, la imputación se realizará con la mediana."
   ]
  },
  {
   "cell_type": "code",
   "execution_count": 350,
   "metadata": {},
   "outputs": [],
   "source": [
    "imputer_median = SimpleImputer(strategy='median')\n",
    "esg['CEO Tnr AsOf FY End'] = imputer_median.fit_transform(esg[['CEO Tnr AsOf FY End']])"
   ]
  },
  {
   "cell_type": "code",
   "execution_count": 351,
   "metadata": {},
   "outputs": [
    {
     "data": {
      "text/plain": [
       "1      5.83\n",
       "2     11.00\n",
       "3      0.33\n",
       "4      2.00\n",
       "5      2.00\n",
       "6      1.00\n",
       "7      0.92\n",
       "8      2.83\n",
       "9      2.00\n",
       "10     1.75\n",
       "11     0.75\n",
       "12    12.08\n",
       "13     2.00\n",
       "Name: CEO Tnr AsOf FY End, dtype: float64"
      ]
     },
     "execution_count": 351,
     "metadata": {},
     "output_type": "execute_result"
    }
   ],
   "source": [
    "esg['CEO Tnr AsOf FY End']"
   ]
  },
  {
   "cell_type": "markdown",
   "metadata": {},
   "source": [
    "Observamos que efectivamente se realizó la imputación. Esto nos da lugar entonces a detectar si existen o no datos atípicos."
   ]
  },
  {
   "cell_type": "code",
   "execution_count": 352,
   "metadata": {},
   "outputs": [
    {
     "data": {
      "text/plain": [
       "{'whiskers': [<matplotlib.lines.Line2D at 0x1dc5b86b580>,\n",
       "  <matplotlib.lines.Line2D at 0x1dc5babcbb0>],\n",
       " 'caps': [<matplotlib.lines.Line2D at 0x1dc5babc5e0>,\n",
       "  <matplotlib.lines.Line2D at 0x1dc5babcdf0>],\n",
       " 'boxes': [<matplotlib.lines.Line2D at 0x1dc5ba98580>],\n",
       " 'medians': [<matplotlib.lines.Line2D at 0x1dc5babc100>],\n",
       " 'fliers': [<matplotlib.lines.Line2D at 0x1dc5babc0a0>],\n",
       " 'means': []}"
      ]
     },
     "execution_count": 352,
     "metadata": {},
     "output_type": "execute_result"
    },
    {
     "data": {
      "image/png": "[encoded data removed]",
      "text/plain": [
       "<Figure size 640x480 with 1 Axes>"
      ]
     },
     "metadata": {},
     "output_type": "display_data"
    }
   ],
   "source": [
    "plt.boxplot(esg['CEO Tnr AsOf FY End'])"
   ]
  },
  {
   "cell_type": "markdown",
   "metadata": {},
   "source": [
    "Podemos observar que en efecto contamos con la existencia de 3 outliers.\n",
    "\n",
    "Además, lo que se mencionaba de que habían años muy superiores comparados con otros se observa en el tamaño de la caja y los valores en los que se concentra."
   ]
  },
  {
   "cell_type": "markdown",
   "metadata": {},
   "source": [
    "### Tot Comp Pd to CEO & Equiv"
   ]
  },
  {
   "cell_type": "markdown",
   "metadata": {},
   "source": [
    "Para el análisis de esta variable, vamos a convertir la variable a tipo numérico."
   ]
  },
  {
   "cell_type": "code",
   "execution_count": 353,
   "metadata": {},
   "outputs": [],
   "source": [
    "esg['Tot Comp Pd to CEO & Equiv'] = esg['Tot Comp Pd to CEO & Equiv'].astype(float).astype('Int64')"
   ]
  },
  {
   "cell_type": "code",
   "execution_count": 354,
   "metadata": {},
   "outputs": [
    {
     "data": {
      "text/plain": [
       "count              11.0\n",
       "mean     4239568.181818\n",
       "std      5032261.808996\n",
       "min            198990.0\n",
       "25%            935715.0\n",
       "50%           1790000.0\n",
       "75%           6110000.0\n",
       "max          16000000.0\n",
       "Name: Tot Comp Pd to CEO & Equiv, dtype: Float64"
      ]
     },
     "execution_count": 354,
     "metadata": {},
     "output_type": "execute_result"
    }
   ],
   "source": [
    "esg['Tot Comp Pd to CEO & Equiv'].describe()"
   ]
  },
  {
   "cell_type": "markdown",
   "metadata": {},
   "source": [
    "El análisis muestra que el promedio pagado a los CEO y ejecutivos equivalentes es aproximadamente $4239568, con una desviación estándar cercana a $5032261. Esta alta desviación estándar refleja una significativa variabilidad en los sueldos, debido a las grandes diferencias entre los valores individuales. El sueldo más bajo registrado es de $198990, mientras que el sueldo más alto alcanza los $16000000. Esta amplia gama de sueldos contribuye a la notable desviación estándar observada"
   ]
  },
  {
   "cell_type": "code",
   "execution_count": 355,
   "metadata": {},
   "outputs": [
    {
     "data": {
      "text/html": [
       "<div>\n",
       "<style scoped>\n",
       "    .dataframe tbody tr th:only-of-type {\n",
       "        vertical-align: middle;\n",
       "    }\n",
       "\n",
       "    .dataframe tbody tr th {\n",
       "        vertical-align: top;\n",
       "    }\n",
       "\n",
       "    .dataframe thead th {\n",
       "        text-align: right;\n",
       "    }\n",
       "</style>\n",
       "<table border=\"1\" class=\"dataframe\">\n",
       "  <thead>\n",
       "    <tr style=\"text-align: right;\">\n",
       "      <th></th>\n",
       "      <th>Name</th>\n",
       "      <th>Tot Comp Pd to CEO &amp; Equiv</th>\n",
       "    </tr>\n",
       "  </thead>\n",
       "  <tbody>\n",
       "    <tr>\n",
       "      <th>3</th>\n",
       "      <td>Logitech International SA</td>\n",
       "      <td>16000000</td>\n",
       "    </tr>\n",
       "    <tr>\n",
       "      <th>10</th>\n",
       "      <td>Skyworth Group Ltd</td>\n",
       "      <td>10340000</td>\n",
       "    </tr>\n",
       "    <tr>\n",
       "      <th>2</th>\n",
       "      <td>Garmin Ltd</td>\n",
       "      <td>6540000</td>\n",
       "    </tr>\n",
       "    <tr>\n",
       "      <th>12</th>\n",
       "      <td>GoPro Inc</td>\n",
       "      <td>5680000</td>\n",
       "    </tr>\n",
       "    <tr>\n",
       "      <th>1</th>\n",
       "      <td>Nintendo Co Ltd</td>\n",
       "      <td>2480000</td>\n",
       "    </tr>\n",
       "    <tr>\n",
       "      <th>4</th>\n",
       "      <td>LG Electronics Inc</td>\n",
       "      <td>1790000</td>\n",
       "    </tr>\n",
       "    <tr>\n",
       "      <th>8</th>\n",
       "      <td>Casio Computer Co Ltd</td>\n",
       "      <td>1270000</td>\n",
       "    </tr>\n",
       "    <tr>\n",
       "      <th>6</th>\n",
       "      <td>Nikon Corp</td>\n",
       "      <td>1050000</td>\n",
       "    </tr>\n",
       "    <tr>\n",
       "      <th>5</th>\n",
       "      <td>Sharp Corp/Japan</td>\n",
       "      <td>821430</td>\n",
       "    </tr>\n",
       "    <tr>\n",
       "      <th>7</th>\n",
       "      <td>Hisense Visual Technology Co L</td>\n",
       "      <td>464830</td>\n",
       "    </tr>\n",
       "    <tr>\n",
       "      <th>11</th>\n",
       "      <td>Konka Group Co Ltd</td>\n",
       "      <td>198990</td>\n",
       "    </tr>\n",
       "    <tr>\n",
       "      <th>9</th>\n",
       "      <td>TCL Electronics Holdings Ltd</td>\n",
       "      <td>&lt;NA&gt;</td>\n",
       "    </tr>\n",
       "    <tr>\n",
       "      <th>13</th>\n",
       "      <td>Funai Electric Co Ltd</td>\n",
       "      <td>&lt;NA&gt;</td>\n",
       "    </tr>\n",
       "  </tbody>\n",
       "</table>\n",
       "</div>"
      ],
      "text/plain": [
       "                              Name  Tot Comp Pd to CEO & Equiv\n",
       "3        Logitech International SA                    16000000\n",
       "10              Skyworth Group Ltd                    10340000\n",
       "2                       Garmin Ltd                     6540000\n",
       "12                       GoPro Inc                     5680000\n",
       "1                  Nintendo Co Ltd                     2480000\n",
       "4               LG Electronics Inc                     1790000\n",
       "8            Casio Computer Co Ltd                     1270000\n",
       "6                       Nikon Corp                     1050000\n",
       "5                 Sharp Corp/Japan                      821430\n",
       "7   Hisense Visual Technology Co L                      464830\n",
       "11              Konka Group Co Ltd                      198990\n",
       "9     TCL Electronics Holdings Ltd                        <NA>\n",
       "13           Funai Electric Co Ltd                        <NA>"
      ]
     },
     "execution_count": 355,
     "metadata": {},
     "output_type": "execute_result"
    }
   ],
   "source": [
    "sueldoceoempresa = esg[['Name', 'Tot Comp Pd to CEO & Equiv']].sort_values(by='Tot Comp Pd to CEO & Equiv', ascending=False)\n",
    "sueldoceoempresa"
   ]
  },
  {
   "cell_type": "markdown",
   "metadata": {},
   "source": [
    "Es decir que la empresa que más le paga a su CEO y ejecutivos equivalentes es Logitech International SA, mientras que la que tiene menor sueldo es Konka Group Co Ltd."
   ]
  },
  {
   "cell_type": "markdown",
   "metadata": {},
   "source": [
    "Ahora bien, es evidente que esta variable cuenta con datos faltantes. Para decidir cómo imputarlos, analicemos su normalidad. "
   ]
  },
  {
   "cell_type": "markdown",
   "metadata": {},
   "source": [
    "Para esto haremos uso del test de Shapiro-Wilk.\n",
    "\n",
    "H0: Datos siguen distribución normal.\n",
    "\n",
    "H1: Datos no siguen distribución normal."
   ]
  },
  {
   "cell_type": "code",
   "execution_count": 356,
   "metadata": {},
   "outputs": [
    {
     "name": "stdout",
     "output_type": "stream",
     "text": [
      "Valor p: 0.007403639701593033\n",
      "Los datos no parecen seguir una distribución normal\n"
     ]
    }
   ],
   "source": [
    "stat, p_valor = shapiro(esg['Tot Comp Pd to CEO & Equiv'].dropna())\n",
    "print(f'Valor p: {p_valor}')\n",
    "\n",
    "alpha = 0.05\n",
    "if p_valor > alpha:\n",
    "    print(\"Los datos parecen seguir una distribución normal\")\n",
    "else:\n",
    "    print(\"Los datos no parecen seguir una distribución normal\")"
   ]
  },
  {
   "cell_type": "markdown",
   "metadata": {},
   "source": [
    "Dado que no se sigue una distribución normal, entonces se realizará la imputación con la mediana."
   ]
  },
  {
   "cell_type": "code",
   "execution_count": 357,
   "metadata": {},
   "outputs": [],
   "source": [
    "imputer_median = SimpleImputer(strategy='median')\n",
    "esg['Tot Comp Pd to CEO & Equiv'] = imputer_median.fit_transform(esg[['Tot Comp Pd to CEO & Equiv']])\n"
   ]
  },
  {
   "cell_type": "code",
   "execution_count": 358,
   "metadata": {},
   "outputs": [
    {
     "data": {
      "text/plain": [
       "1      2480000.0\n",
       "2      6540000.0\n",
       "3     16000000.0\n",
       "4      1790000.0\n",
       "5       821430.0\n",
       "6      1050000.0\n",
       "7       464830.0\n",
       "8      1270000.0\n",
       "9      1790000.0\n",
       "10    10340000.0\n",
       "11      198990.0\n",
       "12     5680000.0\n",
       "13     1790000.0\n",
       "Name: Tot Comp Pd to CEO & Equiv, dtype: float64"
      ]
     },
     "execution_count": 358,
     "metadata": {},
     "output_type": "execute_result"
    }
   ],
   "source": [
    "esg['Tot Comp Pd to CEO & Equiv']"
   ]
  },
  {
   "cell_type": "markdown",
   "metadata": {},
   "source": [
    "Luego de esto, veamos si hay datos atípicos."
   ]
  },
  {
   "cell_type": "code",
   "execution_count": 359,
   "metadata": {},
   "outputs": [
    {
     "data": {
      "text/plain": [
       "{'whiskers': [<matplotlib.lines.Line2D at 0x1dc5b795730>,\n",
       "  <matplotlib.lines.Line2D at 0x1dc5b7cb910>],\n",
       " 'caps': [<matplotlib.lines.Line2D at 0x1dc5b7cb1f0>,\n",
       "  <matplotlib.lines.Line2D at 0x1dc5b7cb550>],\n",
       " 'boxes': [<matplotlib.lines.Line2D at 0x1dc5b7956a0>],\n",
       " 'medians': [<matplotlib.lines.Line2D at 0x1dc5b7cb670>],\n",
       " 'fliers': [<matplotlib.lines.Line2D at 0x1dc5b8ec520>],\n",
       " 'means': []}"
      ]
     },
     "execution_count": 359,
     "metadata": {},
     "output_type": "execute_result"
    },
    {
     "data": {
      "image/png": "[encoded data removed]",
      "text/plain": [
       "<Figure size 640x480 with 1 Axes>"
      ]
     },
     "metadata": {},
     "output_type": "display_data"
    }
   ],
   "source": [
    "plt.boxplot(esg['Tot Comp Pd to CEO & Equiv'])\n"
   ]
  },
  {
   "cell_type": "markdown",
   "metadata": {},
   "source": [
    "En efecto existe un dato atípico, que vendría siendo el valor de 16M."
   ]
  },
  {
   "cell_type": "markdown",
   "metadata": {},
   "source": [
    "### Pers Expn per Empl   "
   ]
  },
  {
   "cell_type": "markdown",
   "metadata": {},
   "source": [
    "Para el análisis de esta variable, vamos a convertir la variable a tipo numérico."
   ]
  },
  {
   "cell_type": "code",
   "execution_count": 360,
   "metadata": {},
   "outputs": [],
   "source": [
    "esg['Pers Expn per Empl'] = esg['Pers Expn per Empl'].astype(float).astype('Int64')"
   ]
  },
  {
   "cell_type": "code",
   "execution_count": 361,
   "metadata": {},
   "outputs": [
    {
     "data": {
      "text/plain": [
       "count             9.0\n",
       "mean     27225.555556\n",
       "std      18351.948882\n",
       "min            8170.0\n",
       "25%           13020.0\n",
       "50%           20920.0\n",
       "75%           31530.0\n",
       "max           62460.0\n",
       "Name: Pers Expn per Empl, dtype: Float64"
      ]
     },
     "execution_count": 361,
     "metadata": {},
     "output_type": "execute_result"
    }
   ],
   "source": [
    "esg['Pers Expn per Empl'].describe()"
   ]
  },
  {
   "cell_type": "markdown",
   "metadata": {},
   "source": [
    "Esta variable nos indica lo que se gastan en promedio con los empleados.\n",
    "\n",
    "Podemos observar que en esta ocasión los datos extremos son relativamente cercanos entre sí. El promedio de estos es de aproximadamente $27225 con desviación estandar de $18351 aprox. Va de la mano con mencionado en un principio donde el valor mínimo es $8170 y el mayor $62460.\n",
    "\n"
   ]
  },
  {
   "cell_type": "code",
   "execution_count": 362,
   "metadata": {},
   "outputs": [
    {
     "data": {
      "text/html": [
       "<div>\n",
       "<style scoped>\n",
       "    .dataframe tbody tr th:only-of-type {\n",
       "        vertical-align: middle;\n",
       "    }\n",
       "\n",
       "    .dataframe tbody tr th {\n",
       "        vertical-align: top;\n",
       "    }\n",
       "\n",
       "    .dataframe thead th {\n",
       "        text-align: right;\n",
       "    }\n",
       "</style>\n",
       "<table border=\"1\" class=\"dataframe\">\n",
       "  <thead>\n",
       "    <tr style=\"text-align: right;\">\n",
       "      <th></th>\n",
       "      <th>Name</th>\n",
       "      <th>Pers Expn per Empl</th>\n",
       "    </tr>\n",
       "  </thead>\n",
       "  <tbody>\n",
       "    <tr>\n",
       "      <th>6</th>\n",
       "      <td>Nikon Corp</td>\n",
       "      <td>62460</td>\n",
       "    </tr>\n",
       "    <tr>\n",
       "      <th>1</th>\n",
       "      <td>Nintendo Co Ltd</td>\n",
       "      <td>49290</td>\n",
       "    </tr>\n",
       "    <tr>\n",
       "      <th>8</th>\n",
       "      <td>Casio Computer Co Ltd</td>\n",
       "      <td>31530</td>\n",
       "    </tr>\n",
       "    <tr>\n",
       "      <th>9</th>\n",
       "      <td>TCL Electronics Holdings Ltd</td>\n",
       "      <td>30290</td>\n",
       "    </tr>\n",
       "    <tr>\n",
       "      <th>5</th>\n",
       "      <td>Sharp Corp/Japan</td>\n",
       "      <td>20920</td>\n",
       "    </tr>\n",
       "    <tr>\n",
       "      <th>10</th>\n",
       "      <td>Skyworth Group Ltd</td>\n",
       "      <td>17710</td>\n",
       "    </tr>\n",
       "    <tr>\n",
       "      <th>7</th>\n",
       "      <td>Hisense Visual Technology Co L</td>\n",
       "      <td>13020</td>\n",
       "    </tr>\n",
       "    <tr>\n",
       "      <th>13</th>\n",
       "      <td>Funai Electric Co Ltd</td>\n",
       "      <td>11640</td>\n",
       "    </tr>\n",
       "    <tr>\n",
       "      <th>11</th>\n",
       "      <td>Konka Group Co Ltd</td>\n",
       "      <td>8170</td>\n",
       "    </tr>\n",
       "    <tr>\n",
       "      <th>2</th>\n",
       "      <td>Garmin Ltd</td>\n",
       "      <td>&lt;NA&gt;</td>\n",
       "    </tr>\n",
       "    <tr>\n",
       "      <th>3</th>\n",
       "      <td>Logitech International SA</td>\n",
       "      <td>&lt;NA&gt;</td>\n",
       "    </tr>\n",
       "    <tr>\n",
       "      <th>4</th>\n",
       "      <td>LG Electronics Inc</td>\n",
       "      <td>&lt;NA&gt;</td>\n",
       "    </tr>\n",
       "    <tr>\n",
       "      <th>12</th>\n",
       "      <td>GoPro Inc</td>\n",
       "      <td>&lt;NA&gt;</td>\n",
       "    </tr>\n",
       "  </tbody>\n",
       "</table>\n",
       "</div>"
      ],
      "text/plain": [
       "                              Name  Pers Expn per Empl\n",
       "6                       Nikon Corp               62460\n",
       "1                  Nintendo Co Ltd               49290\n",
       "8            Casio Computer Co Ltd               31530\n",
       "9     TCL Electronics Holdings Ltd               30290\n",
       "5                 Sharp Corp/Japan               20920\n",
       "10              Skyworth Group Ltd               17710\n",
       "7   Hisense Visual Technology Co L               13020\n",
       "13           Funai Electric Co Ltd               11640\n",
       "11              Konka Group Co Ltd                8170\n",
       "2                       Garmin Ltd                <NA>\n",
       "3        Logitech International SA                <NA>\n",
       "4               LG Electronics Inc                <NA>\n",
       "12                       GoPro Inc                <NA>"
      ]
     },
     "execution_count": 362,
     "metadata": {},
     "output_type": "execute_result"
    }
   ],
   "source": [
    "sueldoempleadoprom = esg[['Name', 'Pers Expn per Empl']].sort_values(by='Pers Expn per Empl', ascending=False)\n",
    "sueldoempleadoprom"
   ]
  },
  {
   "cell_type": "markdown",
   "metadata": {},
   "source": [
    "En este caso, la empresa que cuenta un mayor promedio en cuanto al sueldo de los empleados es Nikon Corp con $62420, mientras que, según los registros, la que menos es nuevamente Konka Group Co Ltd."
   ]
  },
  {
   "cell_type": "markdown",
   "metadata": {},
   "source": [
    "Evidenteme hay datos faltantes, por tanto, se imputarán.\n",
    "\n",
    "Primero veamos si siguen distribución normal o no."
   ]
  },
  {
   "cell_type": "markdown",
   "metadata": {},
   "source": [
    "Con Shapiro-Wilk. \n",
    "\n",
    "H0: Datos siguen distribución normal.\n",
    "\n",
    "H1: Datos no siguen distribución normal."
   ]
  },
  {
   "cell_type": "code",
   "execution_count": 363,
   "metadata": {},
   "outputs": [
    {
     "name": "stdout",
     "output_type": "stream",
     "text": [
      "Valor p: 0.21066837466315236\n",
      "Los datos parecen seguir una distribución normal\n"
     ]
    }
   ],
   "source": [
    "stat, p_valor = shapiro(esg['Pers Expn per Empl'].dropna())\n",
    "print(f'Valor p: {p_valor}')\n",
    "\n",
    "alpha = 0.05\n",
    "if p_valor > alpha:\n",
    "    print(\"Los datos parecen seguir una distribución normal\")\n",
    "else:\n",
    "    print(\"Los datos no parecen seguir una distribución normal\")"
   ]
  },
  {
   "cell_type": "markdown",
   "metadata": {},
   "source": [
    "El p-valor es superior a 0.05, por tanto, los datos siguen una distribución normal lo que quiere decir que se imputará con la media."
   ]
  },
  {
   "cell_type": "code",
   "execution_count": 364,
   "metadata": {},
   "outputs": [],
   "source": [
    "imputer_mean = SimpleImputer(strategy='mean')\n",
    "esg['Pers Expn per Empl'] = imputer_mean.fit_transform(esg[['Pers Expn per Empl']])"
   ]
  },
  {
   "cell_type": "code",
   "execution_count": 365,
   "metadata": {},
   "outputs": [
    {
     "data": {
      "text/plain": [
       "1     49290.000000\n",
       "2     27225.555556\n",
       "3     27225.555556\n",
       "4     27225.555556\n",
       "5     20920.000000\n",
       "6     62460.000000\n",
       "7     13020.000000\n",
       "8     31530.000000\n",
       "9     30290.000000\n",
       "10    17710.000000\n",
       "11     8170.000000\n",
       "12    27225.555556\n",
       "13    11640.000000\n",
       "Name: Pers Expn per Empl, dtype: float64"
      ]
     },
     "execution_count": 365,
     "metadata": {},
     "output_type": "execute_result"
    }
   ],
   "source": [
    "esg['Pers Expn per Empl']"
   ]
  },
  {
   "cell_type": "markdown",
   "metadata": {},
   "source": [
    "Veamos ahora si hay datos atípicos."
   ]
  },
  {
   "cell_type": "code",
   "execution_count": 366,
   "metadata": {},
   "outputs": [
    {
     "data": {
      "text/plain": [
       "{'whiskers': [<matplotlib.lines.Line2D at 0x1dc5b7bed00>,\n",
       "  <matplotlib.lines.Line2D at 0x1dc5b7befa0>],\n",
       " 'caps': [<matplotlib.lines.Line2D at 0x1dc5ccba280>,\n",
       "  <matplotlib.lines.Line2D at 0x1dc5ccba520>],\n",
       " 'boxes': [<matplotlib.lines.Line2D at 0x1dc5b7bea60>],\n",
       " 'medians': [<matplotlib.lines.Line2D at 0x1dc5ccba7c0>],\n",
       " 'fliers': [<matplotlib.lines.Line2D at 0x1dc5ccbaa60>],\n",
       " 'means': []}"
      ]
     },
     "execution_count": 366,
     "metadata": {},
     "output_type": "execute_result"
    },
    {
     "data": {
      "image/png": "[encoded data removed]",
      "text/plain": [
       "<Figure size 640x480 with 1 Axes>"
      ]
     },
     "metadata": {},
     "output_type": "display_data"
    }
   ],
   "source": [
    "plt.boxplot(esg['Pers Expn per Empl'])"
   ]
  },
  {
   "cell_type": "markdown",
   "metadata": {},
   "source": [
    "En este caso también resulta evidente la existencia de datos atípicos."
   ]
  },
  {
   "cell_type": "markdown",
   "metadata": {},
   "source": [
    "###  % Women Emp                "
   ]
  },
  {
   "cell_type": "markdown",
   "metadata": {},
   "source": [
    "Esta es otra variable importante para el campo social pues se trata del porcentaje de mujeres en la empresa, independientemente de su rol.\n",
    "\n",
    "Es interesante analizar esta luego de haber estudiado el porcentaje pero solo de las que estaban en la junta."
   ]
  },
  {
   "cell_type": "markdown",
   "metadata": {},
   "source": [
    "Tal como se ha venido haciendo, el primer paso es convertir los valores de la variable a tipo numérico."
   ]
  },
  {
   "cell_type": "code",
   "execution_count": 367,
   "metadata": {},
   "outputs": [],
   "source": [
    "esg['% Women Emp'] = esg['% Women Emp'].astype(float)"
   ]
  },
  {
   "cell_type": "markdown",
   "metadata": {},
   "source": [
    "Veamos las medidas de esta y analicemos si hubo algún cambio respecto a la que solo pertenecen a la junta."
   ]
  },
  {
   "cell_type": "code",
   "execution_count": 368,
   "metadata": {},
   "outputs": [
    {
     "data": {
      "text/plain": [
       "count     6.000000\n",
       "mean     33.948333\n",
       "std       7.189944\n",
       "min      21.960000\n",
       "25%      30.800000\n",
       "50%      36.150000\n",
       "75%      37.825000\n",
       "max      42.030000\n",
       "Name: % Women Emp, dtype: float64"
      ]
     },
     "execution_count": 368,
     "metadata": {},
     "output_type": "execute_result"
    }
   ],
   "source": [
    "esg['% Women Emp'].describe()"
   ]
  },
  {
   "cell_type": "markdown",
   "metadata": {},
   "source": [
    "Podemos ver que en esta ocasión contamos con resultados relativamente mejores.\n",
    "\n",
    "El promedio de mujeres en **toda** la empresa resultó ser del 34% (aproximado), lo cual es mayor que el 19% obtenido únicamente en la junta.\n",
    "\n",
    "También cabe mencionar que en esta ocasión el valor minimo obtenido es de 21.96, bastante mejor que el 0, sin embargo, el valor mayor no varió mucho y se mantuvo cercano siendo de 42%."
   ]
  },
  {
   "cell_type": "code",
   "execution_count": 369,
   "metadata": {},
   "outputs": [
    {
     "data": {
      "image/png": "[encoded data removed]",
      "text/plain": [
       "<Figure size 800x600 with 1 Axes>"
      ]
     },
     "metadata": {},
     "output_type": "display_data"
    }
   ],
   "source": [
    "plt.figure(figsize=(8, 6))\n",
    "plt.scatter(esg['% Women Emp'], esg['% Women on Bd'], alpha=0.7)\n",
    "plt.title('Cualquier rol vs Junta')\n",
    "plt.xlabel('Cualquier rol')\n",
    "plt.ylabel('Junta')\n",
    "plt.show()"
   ]
  },
  {
   "cell_type": "markdown",
   "metadata": {},
   "source": [
    "En primera instancia, vemos que no hay un relación lineal estable entre ellas. Sin embargo, sí se puede notar que en general los puntos de las mujeres en cualquier rol están en valores mayores que los de solo junta."
   ]
  },
  {
   "cell_type": "markdown",
   "metadata": {},
   "source": [
    "Ahora, notemos si existen datos faltantes o no."
   ]
  },
  {
   "cell_type": "code",
   "execution_count": 370,
   "metadata": {},
   "outputs": [
    {
     "data": {
      "image/png": "[encoded data removed]",
      "text/plain": [
       "<Figure size 600x400 with 1 Axes>"
      ]
     },
     "metadata": {},
     "output_type": "display_data"
    }
   ],
   "source": [
    "na_ = esg['% Women Emp'].isnull().value_counts()\n",
    "\n",
    "plt.figure(figsize=(6, 4))\n",
    "na_.plot(kind='bar', color=['black', 'lightpink'])\n",
    "plt.title('Datos Faltantes')\n",
    "plt.xlabel('¿Datos Faltantes?')\n",
    "plt.ylabel('Cantidad')\n",
    "plt.xticks(ticks=[0, 1], labels=['Sí', 'No'], rotation=0)\n",
    "plt.show()"
   ]
  },
  {
   "cell_type": "code",
   "execution_count": 371,
   "metadata": {},
   "outputs": [
    {
     "data": {
      "text/plain": [
       "53.84615384615385"
      ]
     },
     "execution_count": 371,
     "metadata": {},
     "output_type": "execute_result"
    }
   ],
   "source": [
    "cant_na = esg['% Women Emp'].isnull().sum()\n",
    "tot = esg['% Women Emp'].shape[0]\n",
    "porcentaje_na = (cant_na / tot) * 100\n",
    "porcentaje_na "
   ]
  },
  {
   "cell_type": "markdown",
   "metadata": {},
   "source": [
    "En efecto tenemos que aproximadamente el 54% de los datos son de tipo NA, es un porcentaje considerable.\n",
    "\n",
    "Ahora, procederemos a imputarlos. \n",
    "\n",
    "Evaluemos primero la normalidad."
   ]
  },
  {
   "cell_type": "markdown",
   "metadata": {},
   "source": [
    "Para esto haremos uso del test de Shapiro-Wilk.\n",
    "\n",
    "H0: Datos siguen distribución normal.\n",
    "\n",
    "H1: Datos no siguen distribución normal."
   ]
  },
  {
   "cell_type": "code",
   "execution_count": 372,
   "metadata": {},
   "outputs": [
    {
     "name": "stdout",
     "output_type": "stream",
     "text": [
      "Valor p: 0.5961812574297594\n",
      "Los datos parecen seguir una distribución normal\n"
     ]
    }
   ],
   "source": [
    "stat, p_valor = shapiro(esg['% Women Emp'].dropna())\n",
    "print(f'Valor p: {p_valor}')\n",
    "\n",
    "alpha = 0.05\n",
    "if p_valor > alpha:\n",
    "    print(\"Los datos parecen seguir una distribución normal\")\n",
    "else:\n",
    "    print(\"Los datos no parecen seguir una distribución normal\")"
   ]
  },
  {
   "cell_type": "markdown",
   "metadata": {},
   "source": [
    "Lo anterior nos indica que la imputación debe realizarse haciendo uso de la media."
   ]
  },
  {
   "cell_type": "code",
   "execution_count": 373,
   "metadata": {},
   "outputs": [],
   "source": [
    "imputer_mean = SimpleImputer(strategy='mean')\n",
    "esg['% Women Emp'] = imputer_mean.fit_transform(esg[['% Women Emp']])"
   ]
  },
  {
   "cell_type": "code",
   "execution_count": 374,
   "metadata": {},
   "outputs": [
    {
     "data": {
      "text/plain": [
       "1     33.948333\n",
       "2     33.948333\n",
       "3     38.000000\n",
       "4     21.960000\n",
       "5     33.948333\n",
       "6     37.300000\n",
       "7     42.030000\n",
       "8     33.948333\n",
       "9     33.948333\n",
       "10    35.000000\n",
       "11    33.948333\n",
       "12    29.400000\n",
       "13    33.948333\n",
       "Name: % Women Emp, dtype: float64"
      ]
     },
     "execution_count": 374,
     "metadata": {},
     "output_type": "execute_result"
    }
   ],
   "source": [
    "esg['% Women Emp']"
   ]
  },
  {
   "cell_type": "markdown",
   "metadata": {},
   "source": [
    "Luego de observar que sí se realizó la imputación de manera satisfactoria, procederemos entonces a detectar datos atípicos con la ayuda de Boxplot."
   ]
  },
  {
   "cell_type": "code",
   "execution_count": 375,
   "metadata": {},
   "outputs": [
    {
     "data": {
      "text/plain": [
       "{'whiskers': [<matplotlib.lines.Line2D at 0x1dc5bb3aa00>,\n",
       "  <matplotlib.lines.Line2D at 0x1dc5bb3a190>],\n",
       " 'caps': [<matplotlib.lines.Line2D at 0x1dc5bb40430>,\n",
       "  <matplotlib.lines.Line2D at 0x1dc5bb40610>],\n",
       " 'boxes': [<matplotlib.lines.Line2D at 0x1dc5bb3a1c0>],\n",
       " 'medians': [<matplotlib.lines.Line2D at 0x1dc5bb402e0>],\n",
       " 'fliers': [<matplotlib.lines.Line2D at 0x1dc5bb40ee0>],\n",
       " 'means': []}"
      ]
     },
     "execution_count": 375,
     "metadata": {},
     "output_type": "execute_result"
    },
    {
     "data": {
      "image/png": "[encoded data removed]",
      "text/plain": [
       "<Figure size 640x480 with 1 Axes>"
      ]
     },
     "metadata": {},
     "output_type": "display_data"
    }
   ],
   "source": [
    "plt.boxplot(esg['% Women Emp'])"
   ]
  },
  {
   "cell_type": "markdown",
   "metadata": {},
   "source": [
    "Observamos que existen varios outliers y que la caja está bastante concentrada. Esto se debe a que la imputación se le realizó a más de la mitad de las observaciones."
   ]
  },
  {
   "cell_type": "markdown",
   "metadata": {},
   "source": [
    "### LTIR                        "
   ]
  },
  {
   "cell_type": "markdown",
   "metadata": {},
   "source": [
    "Esta es una métrica que se encarga de medir qué tan seguro es el ambiente laboral en una empresa.\n",
    "\n",
    "En este caso se calcula multiplicando el total de incidentes por un número de empleados y este resultado dividiéndolo entre la cantidad de horas trabajadas. \n",
    "\n",
    "Cabe resaltar que entre mayor sea LTIR, entonces significa que los incidentes son recurrentes y por ende hay problemas con la seguridad."
   ]
  },
  {
   "cell_type": "markdown",
   "metadata": {},
   "source": [
    "En particular, esta variable cuenta con un solo valor. Veamoslo gráficamente."
   ]
  },
  {
   "cell_type": "code",
   "execution_count": 376,
   "metadata": {},
   "outputs": [
    {
     "data": {
      "image/png": "[encoded data removed]",
      "text/plain": [
       "<Figure size 600x400 with 1 Axes>"
      ]
     },
     "metadata": {},
     "output_type": "display_data"
    }
   ],
   "source": [
    "na_ = esg['LTIR'].isnull().value_counts()\n",
    "\n",
    "plt.figure(figsize=(6, 4))\n",
    "na_.plot(kind='bar', color=['black', 'lightpink'])\n",
    "plt.title('Datos Faltantes')\n",
    "plt.xlabel('¿Datos Faltantes?')\n",
    "plt.ylabel('Cantidad')\n",
    "plt.xticks(ticks=[0, 1], labels=['Sí', 'No'], rotation=0)\n",
    "plt.show()"
   ]
  },
  {
   "cell_type": "markdown",
   "metadata": {},
   "source": [
    "Esto significa que la variable no brinda suficiente información, por lo tanto se borrará de la base de datos."
   ]
  },
  {
   "cell_type": "code",
   "execution_count": 377,
   "metadata": {},
   "outputs": [],
   "source": [
    "esg = esg.drop('LTIR', axis=1)"
   ]
  },
  {
   "cell_type": "markdown",
   "metadata": {},
   "source": [
    "### Engy Intens/Sls             "
   ]
  },
  {
   "cell_type": "markdown",
   "metadata": {},
   "source": [
    "Esta variable es un indicador de la eficiencia energética de la empresa."
   ]
  },
  {
   "cell_type": "markdown",
   "metadata": {},
   "source": [
    "Primero pasemos los valores a tipo numérico."
   ]
  },
  {
   "cell_type": "code",
   "execution_count": 378,
   "metadata": {},
   "outputs": [],
   "source": [
    "esg['Engy Intens/Sls'] = esg['Engy Intens/Sls'].astype(float)"
   ]
  },
  {
   "cell_type": "markdown",
   "metadata": {},
   "source": [
    "Veamos datos descriptivos sobre la variable."
   ]
  },
  {
   "cell_type": "code",
   "execution_count": 379,
   "metadata": {},
   "outputs": [
    {
     "data": {
      "text/plain": [
       "count     6.000000\n",
       "mean     25.418333\n",
       "std      35.185435\n",
       "min       2.530000\n",
       "25%       5.660000\n",
       "50%      10.800000\n",
       "75%      25.060000\n",
       "max      94.620000\n",
       "Name: Engy Intens/Sls, dtype: float64"
      ]
     },
     "execution_count": 379,
     "metadata": {},
     "output_type": "execute_result"
    }
   ],
   "source": [
    "esg['Engy Intens/Sls'].describe()"
   ]
  },
  {
   "cell_type": "markdown",
   "metadata": {},
   "source": [
    "Podemos ver que el promedio de eficiencia energética de las empresas es relativamente bajo, siendo este de 25%, lo que indica que en general las empresas consumen menos energía lo cual es bueno. Sin embargo, veamos la alta desviación estandar, dada por la gran diferencia entre el valor superior e inferior que son 94.6% y 2.5%."
   ]
  },
  {
   "cell_type": "markdown",
   "metadata": {},
   "source": [
    "Ahora veamos esto en una tabla para conocer a cuales empresas corresponde cada porcentaje."
   ]
  },
  {
   "cell_type": "code",
   "execution_count": 380,
   "metadata": {},
   "outputs": [
    {
     "data": {
      "text/html": [
       "<div>\n",
       "<style scoped>\n",
       "    .dataframe tbody tr th:only-of-type {\n",
       "        vertical-align: middle;\n",
       "    }\n",
       "\n",
       "    .dataframe tbody tr th {\n",
       "        vertical-align: top;\n",
       "    }\n",
       "\n",
       "    .dataframe thead th {\n",
       "        text-align: right;\n",
       "    }\n",
       "</style>\n",
       "<table border=\"1\" class=\"dataframe\">\n",
       "  <thead>\n",
       "    <tr style=\"text-align: right;\">\n",
       "      <th></th>\n",
       "      <th>Name</th>\n",
       "      <th>Engy Intens/Sls</th>\n",
       "    </tr>\n",
       "  </thead>\n",
       "  <tbody>\n",
       "    <tr>\n",
       "      <th>12</th>\n",
       "      <td>GoPro Inc</td>\n",
       "      <td>2.53</td>\n",
       "    </tr>\n",
       "    <tr>\n",
       "      <th>7</th>\n",
       "      <td>Hisense Visual Technology Co L</td>\n",
       "      <td>5.63</td>\n",
       "    </tr>\n",
       "    <tr>\n",
       "      <th>3</th>\n",
       "      <td>Logitech International SA</td>\n",
       "      <td>5.75</td>\n",
       "    </tr>\n",
       "    <tr>\n",
       "      <th>10</th>\n",
       "      <td>Skyworth Group Ltd</td>\n",
       "      <td>15.85</td>\n",
       "    </tr>\n",
       "    <tr>\n",
       "      <th>4</th>\n",
       "      <td>LG Electronics Inc</td>\n",
       "      <td>28.13</td>\n",
       "    </tr>\n",
       "    <tr>\n",
       "      <th>6</th>\n",
       "      <td>Nikon Corp</td>\n",
       "      <td>94.62</td>\n",
       "    </tr>\n",
       "    <tr>\n",
       "      <th>1</th>\n",
       "      <td>Nintendo Co Ltd</td>\n",
       "      <td>NaN</td>\n",
       "    </tr>\n",
       "    <tr>\n",
       "      <th>2</th>\n",
       "      <td>Garmin Ltd</td>\n",
       "      <td>NaN</td>\n",
       "    </tr>\n",
       "    <tr>\n",
       "      <th>5</th>\n",
       "      <td>Sharp Corp/Japan</td>\n",
       "      <td>NaN</td>\n",
       "    </tr>\n",
       "    <tr>\n",
       "      <th>8</th>\n",
       "      <td>Casio Computer Co Ltd</td>\n",
       "      <td>NaN</td>\n",
       "    </tr>\n",
       "    <tr>\n",
       "      <th>9</th>\n",
       "      <td>TCL Electronics Holdings Ltd</td>\n",
       "      <td>NaN</td>\n",
       "    </tr>\n",
       "    <tr>\n",
       "      <th>11</th>\n",
       "      <td>Konka Group Co Ltd</td>\n",
       "      <td>NaN</td>\n",
       "    </tr>\n",
       "    <tr>\n",
       "      <th>13</th>\n",
       "      <td>Funai Electric Co Ltd</td>\n",
       "      <td>NaN</td>\n",
       "    </tr>\n",
       "  </tbody>\n",
       "</table>\n",
       "</div>"
      ],
      "text/plain": [
       "                              Name  Engy Intens/Sls\n",
       "12                       GoPro Inc             2.53\n",
       "7   Hisense Visual Technology Co L             5.63\n",
       "3        Logitech International SA             5.75\n",
       "10              Skyworth Group Ltd            15.85\n",
       "4               LG Electronics Inc            28.13\n",
       "6                       Nikon Corp            94.62\n",
       "1                  Nintendo Co Ltd              NaN\n",
       "2                       Garmin Ltd              NaN\n",
       "5                 Sharp Corp/Japan              NaN\n",
       "8            Casio Computer Co Ltd              NaN\n",
       "9     TCL Electronics Holdings Ltd              NaN\n",
       "11              Konka Group Co Ltd              NaN\n",
       "13           Funai Electric Co Ltd              NaN"
      ]
     },
     "execution_count": 380,
     "metadata": {},
     "output_type": "execute_result"
    }
   ],
   "source": [
    "energiaempresa = esg[['Name', 'Engy Intens/Sls']].sort_values(by='Engy Intens/Sls', ascending=True)\n",
    "energiaempresa"
   ]
  },
  {
   "cell_type": "markdown",
   "metadata": {},
   "source": [
    "Es decir que GoPro Inc es la mejor en términos de eficiencia de energía y la peor es Nikon Corp.\n",
    "\n",
    "Ahora vemos que claramente existen valores faltantes, por tanto, analizaremos la normalidad para poder imputar."
   ]
  },
  {
   "cell_type": "code",
   "execution_count": 381,
   "metadata": {},
   "outputs": [
    {
     "name": "stdout",
     "output_type": "stream",
     "text": [
      "Valor p: 0.008381833356050044\n",
      "Los datos no parecen seguir una distribución normal\n"
     ]
    }
   ],
   "source": [
    "stat, p_valor = shapiro(esg['Engy Intens/Sls'].dropna())\n",
    "print(f'Valor p: {p_valor}')\n",
    "\n",
    "alpha = 0.05\n",
    "if p_valor > alpha:\n",
    "    print(\"Los datos parecen seguir una distribución normal\")\n",
    "else:\n",
    "    print(\"Los datos no parecen seguir una distribución normal\")"
   ]
  },
  {
   "cell_type": "markdown",
   "metadata": {},
   "source": [
    "Es decir que la imputación se hará con la mediana."
   ]
  },
  {
   "cell_type": "code",
   "execution_count": 382,
   "metadata": {},
   "outputs": [],
   "source": [
    "imputer_median = SimpleImputer(strategy='median')\n",
    "esg['Engy Intens/Sls'] = imputer_median.fit_transform(esg[['Engy Intens/Sls']])"
   ]
  },
  {
   "cell_type": "code",
   "execution_count": 383,
   "metadata": {},
   "outputs": [
    {
     "data": {
      "text/plain": [
       "1     10.80\n",
       "2     10.80\n",
       "3      5.75\n",
       "4     28.13\n",
       "5     10.80\n",
       "6     94.62\n",
       "7      5.63\n",
       "8     10.80\n",
       "9     10.80\n",
       "10    15.85\n",
       "11    10.80\n",
       "12     2.53\n",
       "13    10.80\n",
       "Name: Engy Intens/Sls, dtype: float64"
      ]
     },
     "execution_count": 383,
     "metadata": {},
     "output_type": "execute_result"
    }
   ],
   "source": [
    "esg['Engy Intens/Sls']"
   ]
  },
  {
   "cell_type": "markdown",
   "metadata": {},
   "source": [
    "Ahora detectemos valores atípicos."
   ]
  },
  {
   "cell_type": "code",
   "execution_count": 384,
   "metadata": {},
   "outputs": [
    {
     "data": {
      "text/plain": [
       "{'whiskers': [<matplotlib.lines.Line2D at 0x1dc5bbc1370>,\n",
       "  <matplotlib.lines.Line2D at 0x1dc5bbcdbb0>],\n",
       " 'caps': [<matplotlib.lines.Line2D at 0x1dc5bbcdd00>,\n",
       "  <matplotlib.lines.Line2D at 0x1dc5bbcd160>],\n",
       " 'boxes': [<matplotlib.lines.Line2D at 0x1dc5bbc1700>],\n",
       " 'medians': [<matplotlib.lines.Line2D at 0x1dc5bbcd340>],\n",
       " 'fliers': [<matplotlib.lines.Line2D at 0x1dc5bbc80a0>],\n",
       " 'means': []}"
      ]
     },
     "execution_count": 384,
     "metadata": {},
     "output_type": "execute_result"
    },
    {
     "data": {
      "image/png": "[encoded data removed]",
      "text/plain": [
       "<Figure size 640x480 with 1 Axes>"
      ]
     },
     "metadata": {},
     "output_type": "display_data"
    }
   ],
   "source": [
    "plt.boxplot(esg['Engy Intens/Sls'])"
   ]
  },
  {
   "cell_type": "markdown",
   "metadata": {},
   "source": [
    "Tal como era de esperarse, debido a la imputación se presenta este tipo de comportamiento en la caja, haciendo que haya más probabilidad de tener valores atípicos como se muestra en la gráfica."
   ]
  },
  {
   "cell_type": "markdown",
   "metadata": {},
   "source": [
    "### Wste Per Sls                "
   ]
  },
  {
   "cell_type": "markdown",
   "metadata": {},
   "source": [
    "Esta variable hace referencia a la cantidad de desechos, siendo un indicador del impacto ambiental, no obstante, al observar la tabla, podemos darnos cuenta de que cuenta solo con 3 observaciones."
   ]
  },
  {
   "cell_type": "code",
   "execution_count": 385,
   "metadata": {},
   "outputs": [
    {
     "data": {
      "text/plain": [
       "76.92307692307693"
      ]
     },
     "execution_count": 385,
     "metadata": {},
     "output_type": "execute_result"
    }
   ],
   "source": [
    "tot= esg['Wste Per Sls'].shape[0]\n",
    "na_= esg['Wste Per Sls'].isnull().sum()\n",
    "prct_na = (na_ / tot) * 100\n",
    "prct_na"
   ]
  },
  {
   "cell_type": "markdown",
   "metadata": {},
   "source": [
    "Es decir que, del 100% de las observaciones, el 76% son datos faltantes por lo que la variable no resulta útil y por ende será borrada."
   ]
  },
  {
   "cell_type": "code",
   "execution_count": 386,
   "metadata": {},
   "outputs": [],
   "source": [
    "esg = esg.drop('Wste Per Sls', axis=1)"
   ]
  },
  {
   "cell_type": "markdown",
   "metadata": {},
   "source": [
    "### Wtr Intens/Sls "
   ]
  },
  {
   "cell_type": "markdown",
   "metadata": {},
   "source": [
    "Este es otro indicador de eficiencia en el uso de recursos relacionado con el agua.\n",
    "\n",
    "Nuevamente nos encontramos con una variable de solo 3 observaciones, por lo tanto su representación de NA también es 76%, lo que quiere decir que será eliminada del conjunto de datos."
   ]
  },
  {
   "cell_type": "code",
   "execution_count": 387,
   "metadata": {},
   "outputs": [],
   "source": [
    "esg = esg.drop('Wtr Intens/Sls', axis=1)"
   ]
  },
  {
   "cell_type": "markdown",
   "metadata": {},
   "source": [
    "### Base final"
   ]
  },
  {
   "cell_type": "markdown",
   "metadata": {},
   "source": [
    "Nos resulta entonces la base siguiente"
   ]
  },
  {
   "cell_type": "code",
   "execution_count": 388,
   "metadata": {},
   "outputs": [
    {
     "data": {
      "text/html": [
       "<div>\n",
       "<style scoped>\n",
       "    .dataframe tbody tr th:only-of-type {\n",
       "        vertical-align: middle;\n",
       "    }\n",
       "\n",
       "    .dataframe tbody tr th {\n",
       "        vertical-align: top;\n",
       "    }\n",
       "\n",
       "    .dataframe thead th {\n",
       "        text-align: right;\n",
       "    }\n",
       "</style>\n",
       "<table border=\"1\" class=\"dataframe\">\n",
       "  <thead>\n",
       "    <tr style=\"text-align: right;\">\n",
       "      <th></th>\n",
       "      <th>Name</th>\n",
       "      <th>Sustnlytcs ESG Rsk Scr</th>\n",
       "      <th>ISS QualSc</th>\n",
       "      <th>ESG Disc Score</th>\n",
       "      <th>% Indep Directors</th>\n",
       "      <th>% Women on Bd</th>\n",
       "      <th>CEO Tnr AsOf FY End</th>\n",
       "      <th>Tot Comp Pd to CEO &amp; Equiv</th>\n",
       "      <th>Pers Expn per Empl</th>\n",
       "      <th>% Women Emp</th>\n",
       "      <th>Engy Intens/Sls</th>\n",
       "    </tr>\n",
       "  </thead>\n",
       "  <tbody>\n",
       "    <tr>\n",
       "      <th>1</th>\n",
       "      <td>Nintendo Co Ltd</td>\n",
       "      <td>15.620</td>\n",
       "      <td>4.000</td>\n",
       "      <td>39.476667</td>\n",
       "      <td>46.150000</td>\n",
       "      <td>30.770000</td>\n",
       "      <td>5.83</td>\n",
       "      <td>2480000.0</td>\n",
       "      <td>49290.000000</td>\n",
       "      <td>33.948333</td>\n",
       "      <td>10.80</td>\n",
       "    </tr>\n",
       "    <tr>\n",
       "      <th>2</th>\n",
       "      <td>Garmin Ltd</td>\n",
       "      <td>20.990</td>\n",
       "      <td>9.000</td>\n",
       "      <td>39.476667</td>\n",
       "      <td>66.670000</td>\n",
       "      <td>33.330000</td>\n",
       "      <td>11.00</td>\n",
       "      <td>6540000.0</td>\n",
       "      <td>27225.555556</td>\n",
       "      <td>33.948333</td>\n",
       "      <td>10.80</td>\n",
       "    </tr>\n",
       "    <tr>\n",
       "      <th>3</th>\n",
       "      <td>Logitech International SA</td>\n",
       "      <td>8.510</td>\n",
       "      <td>1.000</td>\n",
       "      <td>39.476667</td>\n",
       "      <td>100.000000</td>\n",
       "      <td>40.000000</td>\n",
       "      <td>0.33</td>\n",
       "      <td>16000000.0</td>\n",
       "      <td>27225.555556</td>\n",
       "      <td>38.000000</td>\n",
       "      <td>5.75</td>\n",
       "    </tr>\n",
       "    <tr>\n",
       "      <th>4</th>\n",
       "      <td>LG Electronics Inc</td>\n",
       "      <td>20.450</td>\n",
       "      <td>5.000</td>\n",
       "      <td>39.476667</td>\n",
       "      <td>66.670000</td>\n",
       "      <td>16.670000</td>\n",
       "      <td>2.00</td>\n",
       "      <td>1790000.0</td>\n",
       "      <td>27225.555556</td>\n",
       "      <td>21.960000</td>\n",
       "      <td>28.13</td>\n",
       "    </tr>\n",
       "    <tr>\n",
       "      <th>5</th>\n",
       "      <td>Sharp Corp/Japan</td>\n",
       "      <td>20.920</td>\n",
       "      <td>4.000</td>\n",
       "      <td>39.476667</td>\n",
       "      <td>66.670000</td>\n",
       "      <td>11.110000</td>\n",
       "      <td>2.00</td>\n",
       "      <td>821430.0</td>\n",
       "      <td>20920.000000</td>\n",
       "      <td>33.948333</td>\n",
       "      <td>10.80</td>\n",
       "    </tr>\n",
       "    <tr>\n",
       "      <th>6</th>\n",
       "      <td>Nikon Corp</td>\n",
       "      <td>16.730</td>\n",
       "      <td>2.000</td>\n",
       "      <td>39.476667</td>\n",
       "      <td>54.550000</td>\n",
       "      <td>18.180000</td>\n",
       "      <td>1.00</td>\n",
       "      <td>1050000.0</td>\n",
       "      <td>62460.000000</td>\n",
       "      <td>37.300000</td>\n",
       "      <td>94.62</td>\n",
       "    </tr>\n",
       "    <tr>\n",
       "      <th>7</th>\n",
       "      <td>Hisense Visual Technology Co L</td>\n",
       "      <td>12.065</td>\n",
       "      <td>4.875</td>\n",
       "      <td>44.630000</td>\n",
       "      <td>37.500000</td>\n",
       "      <td>12.500000</td>\n",
       "      <td>0.92</td>\n",
       "      <td>464830.0</td>\n",
       "      <td>13020.000000</td>\n",
       "      <td>42.030000</td>\n",
       "      <td>5.63</td>\n",
       "    </tr>\n",
       "    <tr>\n",
       "      <th>8</th>\n",
       "      <td>Casio Computer Co Ltd</td>\n",
       "      <td>20.550</td>\n",
       "      <td>6.000</td>\n",
       "      <td>39.476667</td>\n",
       "      <td>45.450000</td>\n",
       "      <td>9.090000</td>\n",
       "      <td>2.83</td>\n",
       "      <td>1270000.0</td>\n",
       "      <td>31530.000000</td>\n",
       "      <td>33.948333</td>\n",
       "      <td>10.80</td>\n",
       "    </tr>\n",
       "    <tr>\n",
       "      <th>9</th>\n",
       "      <td>TCL Electronics Holdings Ltd</td>\n",
       "      <td>0.000</td>\n",
       "      <td>4.875</td>\n",
       "      <td>39.476667</td>\n",
       "      <td>59.229091</td>\n",
       "      <td>19.013636</td>\n",
       "      <td>2.00</td>\n",
       "      <td>1790000.0</td>\n",
       "      <td>30290.000000</td>\n",
       "      <td>33.948333</td>\n",
       "      <td>10.80</td>\n",
       "    </tr>\n",
       "    <tr>\n",
       "      <th>10</th>\n",
       "      <td>Skyworth Group Ltd</td>\n",
       "      <td>0.000</td>\n",
       "      <td>4.875</td>\n",
       "      <td>39.476667</td>\n",
       "      <td>37.500000</td>\n",
       "      <td>12.500000</td>\n",
       "      <td>1.75</td>\n",
       "      <td>10340000.0</td>\n",
       "      <td>17710.000000</td>\n",
       "      <td>35.000000</td>\n",
       "      <td>15.85</td>\n",
       "    </tr>\n",
       "    <tr>\n",
       "      <th>11</th>\n",
       "      <td>Konka Group Co Ltd</td>\n",
       "      <td>0.000</td>\n",
       "      <td>4.875</td>\n",
       "      <td>39.476667</td>\n",
       "      <td>59.229091</td>\n",
       "      <td>19.013636</td>\n",
       "      <td>0.75</td>\n",
       "      <td>198990.0</td>\n",
       "      <td>8170.000000</td>\n",
       "      <td>33.948333</td>\n",
       "      <td>10.80</td>\n",
       "    </tr>\n",
       "    <tr>\n",
       "      <th>12</th>\n",
       "      <td>GoPro Inc</td>\n",
       "      <td>0.000</td>\n",
       "      <td>8.000</td>\n",
       "      <td>41.280000</td>\n",
       "      <td>87.500000</td>\n",
       "      <td>25.000000</td>\n",
       "      <td>12.08</td>\n",
       "      <td>5680000.0</td>\n",
       "      <td>27225.555556</td>\n",
       "      <td>29.400000</td>\n",
       "      <td>2.53</td>\n",
       "    </tr>\n",
       "    <tr>\n",
       "      <th>13</th>\n",
       "      <td>Funai Electric Co Ltd</td>\n",
       "      <td>0.000</td>\n",
       "      <td>4.875</td>\n",
       "      <td>32.520000</td>\n",
       "      <td>42.860000</td>\n",
       "      <td>0.000000</td>\n",
       "      <td>2.00</td>\n",
       "      <td>1790000.0</td>\n",
       "      <td>11640.000000</td>\n",
       "      <td>33.948333</td>\n",
       "      <td>10.80</td>\n",
       "    </tr>\n",
       "  </tbody>\n",
       "</table>\n",
       "</div>"
      ],
      "text/plain": [
       "                              Name  Sustnlytcs ESG Rsk Scr  ISS QualSc  \\\n",
       "1                  Nintendo Co Ltd                  15.620       4.000   \n",
       "2                       Garmin Ltd                  20.990       9.000   \n",
       "3        Logitech International SA                   8.510       1.000   \n",
       "4               LG Electronics Inc                  20.450       5.000   \n",
       "5                 Sharp Corp/Japan                  20.920       4.000   \n",
       "6                       Nikon Corp                  16.730       2.000   \n",
       "7   Hisense Visual Technology Co L                  12.065       4.875   \n",
       "8            Casio Computer Co Ltd                  20.550       6.000   \n",
       "9     TCL Electronics Holdings Ltd                   0.000       4.875   \n",
       "10              Skyworth Group Ltd                   0.000       4.875   \n",
       "11              Konka Group Co Ltd                   0.000       4.875   \n",
       "12                       GoPro Inc                   0.000       8.000   \n",
       "13           Funai Electric Co Ltd                   0.000       4.875   \n",
       "\n",
       "    ESG Disc Score  % Indep Directors  % Women on Bd  CEO Tnr AsOf FY End  \\\n",
       "1        39.476667          46.150000      30.770000                 5.83   \n",
       "2        39.476667          66.670000      33.330000                11.00   \n",
       "3        39.476667         100.000000      40.000000                 0.33   \n",
       "4        39.476667          66.670000      16.670000                 2.00   \n",
       "5        39.476667          66.670000      11.110000                 2.00   \n",
       "6        39.476667          54.550000      18.180000                 1.00   \n",
       "7        44.630000          37.500000      12.500000                 0.92   \n",
       "8        39.476667          45.450000       9.090000                 2.83   \n",
       "9        39.476667          59.229091      19.013636                 2.00   \n",
       "10       39.476667          37.500000      12.500000                 1.75   \n",
       "11       39.476667          59.229091      19.013636                 0.75   \n",
       "12       41.280000          87.500000      25.000000                12.08   \n",
       "13       32.520000          42.860000       0.000000                 2.00   \n",
       "\n",
       "    Tot Comp Pd to CEO & Equiv  Pers Expn per Empl  % Women Emp  \\\n",
       "1                    2480000.0        49290.000000    33.948333   \n",
       "2                    6540000.0        27225.555556    33.948333   \n",
       "3                   16000000.0        27225.555556    38.000000   \n",
       "4                    1790000.0        27225.555556    21.960000   \n",
       "5                     821430.0        20920.000000    33.948333   \n",
       "6                    1050000.0        62460.000000    37.300000   \n",
       "7                     464830.0        13020.000000    42.030000   \n",
       "8                    1270000.0        31530.000000    33.948333   \n",
       "9                    1790000.0        30290.000000    33.948333   \n",
       "10                  10340000.0        17710.000000    35.000000   \n",
       "11                    198990.0         8170.000000    33.948333   \n",
       "12                   5680000.0        27225.555556    29.400000   \n",
       "13                   1790000.0        11640.000000    33.948333   \n",
       "\n",
       "    Engy Intens/Sls  \n",
       "1             10.80  \n",
       "2             10.80  \n",
       "3              5.75  \n",
       "4             28.13  \n",
       "5             10.80  \n",
       "6             94.62  \n",
       "7              5.63  \n",
       "8             10.80  \n",
       "9             10.80  \n",
       "10            15.85  \n",
       "11            10.80  \n",
       "12             2.53  \n",
       "13            10.80  "
      ]
     },
     "execution_count": 388,
     "metadata": {},
     "output_type": "execute_result"
    }
   ],
   "source": [
    "esg"
   ]
  },
  {
   "cell_type": "code",
   "execution_count": 389,
   "metadata": {},
   "outputs": [
    {
     "name": "stdout",
     "output_type": "stream",
     "text": [
      "<class 'pandas.core.frame.DataFrame'>\n",
      "RangeIndex: 13 entries, 1 to 13\n",
      "Data columns (total 11 columns):\n",
      " #   Column                      Non-Null Count  Dtype  \n",
      "---  ------                      --------------  -----  \n",
      " 0   Name                        13 non-null     object \n",
      " 1   Sustnlytcs ESG Rsk Scr      13 non-null     float64\n",
      " 2   ISS QualSc                  13 non-null     float64\n",
      " 3   ESG Disc Score              13 non-null     float64\n",
      " 4   % Indep Directors           13 non-null     float64\n",
      " 5   % Women on Bd               13 non-null     float64\n",
      " 6   CEO Tnr AsOf FY End         13 non-null     float64\n",
      " 7   Tot Comp Pd to CEO & Equiv  13 non-null     float64\n",
      " 8   Pers Expn per Empl          13 non-null     float64\n",
      " 9   % Women Emp                 13 non-null     float64\n",
      " 10  Engy Intens/Sls             13 non-null     float64\n",
      "dtypes: float64(10), object(1)\n",
      "memory usage: 1.2+ KB\n"
     ]
    }
   ],
   "source": [
    "esg.info()"
   ]
  },
  {
   "cell_type": "markdown",
   "metadata": {},
   "source": [
    "### Multicolinealidad"
   ]
  },
  {
   "cell_type": "markdown",
   "metadata": {},
   "source": [
    "Ahora procederemos a analizar la multicolinealidad con VIF."
   ]
  },
  {
   "cell_type": "code",
   "execution_count": 390,
   "metadata": {},
   "outputs": [
    {
     "name": "stdout",
     "output_type": "stream",
     "text": [
      "                      Variable         VIF\n",
      "0                        const  504.146907\n",
      "1       Sustnlytcs ESG Rsk Scr    1.446872\n",
      "2                   ISS QualSc   12.212720\n",
      "3               ESG Disc Score    1.500483\n",
      "4            % Indep Directors    3.466919\n",
      "5                % Women on Bd    4.309653\n",
      "6          CEO Tnr AsOf FY End   11.921258\n",
      "7   Tot Comp Pd to CEO & Equiv    2.241565\n",
      "8           Pers Expn per Empl    6.944830\n",
      "9                  % Women Emp    1.821981\n",
      "10             Engy Intens/Sls    3.164034\n"
     ]
    }
   ],
   "source": [
    "import pandas as pd\n",
    "from statsmodels.stats.outliers_influence import variance_inflation_factor\n",
    "from statsmodels.tools.tools import add_constant\n",
    "\n",
    "X = esg.drop('Name', axis=1)  \n",
    "\n",
    "X = add_constant(X)\n",
    "\n",
    "vif_data = pd.DataFrame()\n",
    "vif_data['Variable'] = X.columns\n",
    "vif_data['VIF'] = [variance_inflation_factor(X.values, i) for i in range(X.shape[1])]\n",
    "\n",
    "print(vif_data)"
   ]
  },
  {
   "cell_type": "markdown",
   "metadata": {},
   "source": [
    "Luego de realizar el análisis de multicolinealidad con VIF, notamos que `ISS QualSc` y `CEO Tnr AsOf FY End` obtuvieron valores altos que indican que deberían ser eliminados.\n",
    "\n",
    "Ahora bien, dado que nuestro interés para el modelo a futuro es predecir a partir de los criterios ESG, consideramos que la variable ISS Qualsc resulta bastant importante dado que nos da indicios sobre el estado de la gobernanza en las empresas. Por otra parte, consideramos que CEO Tnr AsOf FY End no resulta relevante para nuestro interés por lo que esta sí será eliminada."
   ]
  },
  {
   "cell_type": "code",
   "execution_count": 395,
   "metadata": {},
   "outputs": [],
   "source": [
    "esg = esg.drop(columns=['CEO Tnr AsOf FY End'])"
   ]
  },
  {
   "cell_type": "markdown",
   "metadata": {},
   "source": [
    "Realicemos nuevamente VIF."
   ]
  },
  {
   "cell_type": "code",
   "execution_count": 396,
   "metadata": {},
   "outputs": [
    {
     "name": "stdout",
     "output_type": "stream",
     "text": [
      "                     Variable         VIF\n",
      "0                       const  420.285124\n",
      "1      Sustnlytcs ESG Rsk Scr    1.376501\n",
      "2                  ISS QualSc    1.626926\n",
      "3              ESG Disc Score    1.415018\n",
      "4           % Indep Directors    2.628863\n",
      "5               % Women on Bd    4.236789\n",
      "6  Tot Comp Pd to CEO & Equiv    2.209465\n",
      "7          Pers Expn per Empl    3.624133\n",
      "8                 % Women Emp    1.681934\n",
      "9             Engy Intens/Sls    2.820039\n"
     ]
    }
   ],
   "source": [
    "X = esg.drop('Name', axis=1)  \n",
    "\n",
    "X = add_constant(X)\n",
    "\n",
    "vif_data = pd.DataFrame()\n",
    "vif_data['Variable'] = X.columns\n",
    "vif_data['VIF'] = [variance_inflation_factor(X.values, i) for i in range(X.shape[1])]\n",
    "\n",
    "print(vif_data)"
   ]
  },
  {
   "cell_type": "markdown",
   "metadata": {},
   "source": [
    "Finalmente todas nuestras variables pueden ser utilizadas sin problema."
   ]
  }
 ],
 "metadata": {
  "kernelspec": {
   "display_name": "Python 3",
   "language": "python",
   "name": "python3"
  },
  "language_info": {
   "codemirror_mode": {
    "name": "ipython",
    "version": 3
   },
   "file_extension": ".py",
   "mimetype": "text/x-python",
   "name": "python",
   "nbconvert_exporter": "python",
   "pygments_lexer": "ipython3",
   "version": "3.9.19"
  },
  "widgets": {
   "application/vnd.jupyter.widget-state+json": {
    "state": {},
    "version_major": 2,
    "version_minor": 0
   }
  }
 },
 "nbformat": 4,
 "nbformat_minor": 4
}