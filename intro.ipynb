{
 "cells": [
  {
   "cell_type": "markdown",
   "metadata": {},
   "source": [
    "## Sobre las variables\n",
    "\n",
    "### Annual market chare consumer electronics\n",
    "- Application\n",
    "- Panel Maker\n",
    "- Fechas que corresponden a shipments realizados mensualmente, reportados el último día de cada mes.\n",
    "\n",
    "### ESG consumer electronics\n",
    "- Name\n",
    "- Sustnlytcs ESG Rsk Scr\n",
    "- ISS QualSc\n",
    "- ESG Disc Score\n",
    "- \\% Indep Directors\n",
    "- \\% Women on Bd (Bd: boardroom )\n",
    "- CEO Tnr AsOf FY End\n",
    "- Tot Comp Pd to CEO & Equiv\n",
    "- Pers Expn per Empl\n",
    "- \\% Women emp\n",
    "- LTIR\n",
    "- Engy Intens/Sls\n",
    "- Wste Per Sls\n",
    "- Wtr Intens/Sls\n",
    "\n",
    "### Margen EBITDA consumer electronics\n",
    "- Descripción\n",
    "- Ticker\n",
    "- ID de campo\n",
    "- Nemónico del campo\n",
    "- Estado de datos\n",
    "- Años de registros (2023 - 1994)\n",
    "\n",
    "### Performance consumer electronics\n"
   ]
  },
  {
   "cell_type": "markdown",
   "metadata": {},
   "source": [
    "## Sobre el desarrollo\n",
    "Sobre cuota de mercado, se espera que sea anual. En el dataframe aparece como mensual. (Ajustar en sum)\n",
    "Análisis coste, se toman los datos relacionados a EBITDA margin en company level anual.\n",
    "Hojas comp en el último .\n",
    "Mercados. "
   ]
  }
 ],
 "metadata": {
  "kernelspec": {
   "display_name": "ml_venv",
   "language": "python",
   "name": "python3"
  },
  "language_info": {
   "name": "python",
   "version": "3.9.19"
  }
 },
 "nbformat": 4,
 "nbformat_minor": 2
}
