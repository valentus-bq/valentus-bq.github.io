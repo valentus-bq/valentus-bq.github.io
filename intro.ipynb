{
 "cells": [
  {
   "cell_type": "markdown",
   "metadata": {},
   "source": [
    "## Sobre las variables\n",
    "\n",
    "### Annual market chare consumer electronics VALEN C\n",
    "- Application: tipo de producto\n",
    "- Panel Maker: empresa\n",
    "- Fechas que corresponden a shipments realizados mensualmente, reportados el último día de cada mes.\n",
    "\n",
    "### ESG consumer electronics VALEN  BUSTAMANTE\n",
    "# Explicación de Variables\n",
    "\n",
    "1. **Empresa:** Se refiere al nombre de la compañía o entidad que está siendo evaluada o medida.\n",
    "\n",
    "2. **Sustnlytcs ESG Rsk Scr (Puntuación de riesgo ESG de SA):** Es una puntuación que mide el riesgo ambiental, social y de gobernanza (ESG) al que está expuesta una empresa, según la metodología de Sustainalytics. Una puntuación más alta indica un mayor riesgo.\n",
    "\n",
    "3. **ISS QualSc (ISS QualityScore):** Es una calificación proporcionada por Institutional Shareholder Services (ISS) que evalúa la calidad y el nivel de riesgo en las prácticas de gobernanza corporativa de una empresa. Las áreas evaluadas suelen incluir la composición de la junta, los derechos de los accionistas y la remuneración de los ejecutivos.\n",
    "\n",
    "4. **ESG Disc Score (ESG estimación de desglose):** Este puntaje se refiere a una estimación que desglosa los componentes ambientales, sociales y de gobernanza en el desempeño de una empresa, proporcionando una visión detallada de su impacto ESG.\n",
    "\n",
    "5. **\\% Indep Directors (Porcentaje de directores independientes):** Este valor representa el porcentaje de miembros de la junta directiva que son independientes, es decir, que no tienen relaciones significativas con la empresa que puedan influir en su capacidad para actuar en el mejor interés de los accionistas.\n",
    "\n",
    "6. **\\% Women on Bd (Mujeres en el consejo):** Indica el porcentaje de mujeres que forman parte del consejo de administración de la empresa.\n",
    "\n",
    "7. **CEO Tnr AsOf FY End (Mandato de consejero delegado en funciones desde fin del año fiscal):** Mide la duración del mandato del CEO actual hasta el final del último año fiscal. Indica cuántos años lleva el CEO en su puesto hasta la fecha de corte.\n",
    "\n",
    "8. **Tot Comp Pd to CEO & Equiv (Remuneración total pagada a CEO y equivalente):** Es la suma total de la compensación, que incluye salario, bonos, incentivos a largo plazo y otras formas de pago, que ha recibido el CEO y los ejecutivos equivalentes.\n",
    "\n",
    "9. **Pers Expn per Empl (Gastos efectivos de personal por empleado):** Representa el gasto total de la empresa en personal, dividido entre el número de empleados. Incluye salarios, beneficios y otros costos laborales.\n",
    "\n",
    "10. **\\% Women emp (Porcentaje de mujeres en la fuerza laboral):** Indica el porcentaje de mujeres en la fuerza laboral total de la empresa.\n",
    "\n",
    "11. **LTIR (Tasa de incidentes con pérdida de tiempo - empleados):** Es la tasa de incidentes que resultan en la pérdida de tiempo de trabajo por parte de los empleados, generalmente medido por cada 100 o 1,000 empleados. Se utiliza como un indicador de seguridad laboral.\n",
    "\n",
    "12. **Engy Intens/Sls (Intensidad de energía por ventas):** Mide la cantidad de energía consumida por la empresa en relación con sus ventas. Es un indicador de la eficiencia energética de la empresa.\n",
    "\n",
    "13. **Wste Per Sls (Desechos generados por ventas):** Este valor representa la cantidad de desechos producidos por la empresa por cada unidad de venta, reflejando su impacto ambiental.\n",
    "\n",
    "14. **Wtr Intens/Sls (Intensidad del agua por ventas):** Mide la cantidad de agua utilizada por la empresa en relación con sus ventas, otro indicador de eficiencia en el uso de recursos.\n",
    "\n",
    "\n",
    "### Margen EBITDA consumer electronics VALEN C\n",
    "- Descripción\n",
    "- Ticker\n",
    "- ID de campo\n",
    "- Nemónico del campo\n",
    "- Estado de datos\n",
    "- Años de registros (2023 - 1994)\n",
    "\n",
    "### Performance consumer electronics VALEN BUSTAMANTE\n"
   ]
  },
  {
   "cell_type": "markdown",
   "metadata": {},
   "source": [
    "## Sobre el desarrollo\n",
    "Sobre cuota de mercado, se espera que sea anual. En el dataframe aparece como mensual. (Ajustar en sum)\n",
    "Análisis coste, se toman los datos relacionados a EBITDA margin en company level anual.\n",
    "Hojas comp en el último .\n",
    "Mercados. "
   ]
  },
  {
   "cell_type": "markdown",
   "metadata": {},
   "source": [
    "## Cosas pendientes\n",
    "\n",
    "- Arreglar mebitdace. Quedarse solo on EBITDA."
   ]
  }
 ],
 "metadata": {
  "kernelspec": {
   "display_name": "ml_venv",
   "language": "python",
   "name": "python3"
  },
  "language_info": {
   "name": "python",
   "version": "3.9.19"
  }
 },
 "nbformat": 4,
 "nbformat_minor": 2
}
