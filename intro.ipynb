{
 "cells": [
  {
   "cell_type": "markdown",
   "metadata": {},
   "source": [
    "# Sobre las variables\n",
    "\n",
    "## Annual market chare consumer electronics\n",
    "\n",
    "## ESG consumer electronics\n",
    "\n",
    "## Margen EBITDA consumer electronics\n",
    "\n",
    "## Performance consumer electronics"
   ]
  },
  {
   "cell_type": "markdown",
   "metadata": {},
   "source": [
    "# Sobre el desarrollo\n",
    "Sobre cuota de mercado, se espera que sea anual. En el dataframe aparece como mensual. (Ajustar en sum)\n",
    "Análisis coste, se toman los datos relacionados a EBITDA margin en company level anual.\n",
    "Hojas comp en el último .\n",
    "Mercados. "
   ]
  }
 ],
 "metadata": {
  "kernelspec": {
   "display_name": "ml_venv",
   "language": "python",
   "name": "python3"
  },
  "language_info": {
   "name": "python",
   "version": "3.9.19"
  }
 },
 "nbformat": 4,
 "nbformat_minor": 2
}
